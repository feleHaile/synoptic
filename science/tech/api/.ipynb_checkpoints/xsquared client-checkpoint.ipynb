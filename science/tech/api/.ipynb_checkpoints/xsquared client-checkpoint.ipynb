{
 "cells": [
  {
   "cell_type": "code",
   "execution_count": 8,
   "metadata": {},
   "outputs": [
    {
     "name": "stdout",
     "output_type": "stream",
     "text": [
      "3086419753086419753086419753086419753086358024691358024691358024691358024691358025\n"
     ]
    }
   ],
   "source": [
    "# Authored by Shiv\n",
    "import requests\n",
    "\n",
    "value_to_square = 55555555555555555555555555555555555555555\n",
    "url = 'https://j5vup65xlb.execute-api.us-east-1.amazonaws.com/default/xsquared?unimportant_key_word=1.347&n={}'.format(value_to_square)\n",
    "response = requests.get(url)\n",
    "print(response.text)"
   ]
  },
  {
   "cell_type": "code",
   "execution_count": null,
   "metadata": {},
   "outputs": [],
   "source": []
  }
 ],
 "metadata": {
  "kernelspec": {
   "display_name": "Python [conda root]",
   "language": "python",
   "name": "conda-root-py"
  },
  "language_info": {
   "codemirror_mode": {
    "name": "ipython",
    "version": 3
   },
   "file_extension": ".py",
   "mimetype": "text/x-python",
   "name": "python",
   "nbconvert_exporter": "python",
   "pygments_lexer": "ipython3",
   "version": "3.6.6"
  }
 },
 "nbformat": 4,
 "nbformat_minor": 2
}
