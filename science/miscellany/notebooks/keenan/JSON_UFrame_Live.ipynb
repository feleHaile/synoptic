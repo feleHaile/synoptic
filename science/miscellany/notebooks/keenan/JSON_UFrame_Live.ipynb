{
 "cells": [
  {
   "cell_type": "markdown",
   "metadata": {},
   "source": [
    "# JSON UFrame Request with Real-time Updating\n",
    "\n",
    "Adapted from Friedrick Knuth's [notebook](https://github.com/oceanhackweek/CAHW2018_Materials/blob/master/Tutorials/OOI_M2M_Interface_Tutorial/ooi_m2m_json/02_realtime_time_series_requests.ipynb) pre-yodapy.\n",
    "\n",
    "With yodapy, it is also possible to cotinually update a dataset programmatically, showing the last n data points while data is available. For this example, we will again use the CTD instrument to plot dissolved oxygen. We begin with our usual imports and credential-setting."
   ]
  },
  {
   "cell_type": "code",
   "execution_count": 1,
   "metadata": {},
   "outputs": [],
   "source": [
    "from yodapy.utils import set_credentials_file\n",
    "from yodapy.datasources import OOI\n",
    "\n",
    "set_credentials_file(data_source=\"ooi\",username=\"OOIAPI-CHN725DB03M3AC\",token=\"SAFZTAB3M1\")"
   ]
  },
  {
   "cell_type": "code",
   "execution_count": 2,
   "metadata": {},
   "outputs": [
    {
     "data": {
      "text/html": [
       "<div>\n",
       "<style scoped>\n",
       "    .dataframe tbody tr th:only-of-type {\n",
       "        vertical-align: middle;\n",
       "    }\n",
       "\n",
       "    .dataframe tbody tr th {\n",
       "        vertical-align: top;\n",
       "    }\n",
       "\n",
       "    .dataframe thead th {\n",
       "        text-align: right;\n",
       "    }\n",
       "</style>\n",
       "<table border=\"1\" class=\"dataframe\">\n",
       "  <thead>\n",
       "    <tr style=\"text-align: right;\">\n",
       "      <th></th>\n",
       "      <th>reference_designator</th>\n",
       "      <th>name</th>\n",
       "      <th>start_depth</th>\n",
       "      <th>end_depth</th>\n",
       "      <th>current_status</th>\n",
       "      <th>preferred_stream</th>\n",
       "      <th>preferred_parameter</th>\n",
       "      <th>location</th>\n",
       "    </tr>\n",
       "  </thead>\n",
       "  <tbody>\n",
       "    <tr>\n",
       "      <th>1236</th>\n",
       "      <td>RS01SLBS-LJ01A-12-CTDPFB101</td>\n",
       "      <td>CTD</td>\n",
       "      <td>2924.0</td>\n",
       "      <td>2924.0</td>\n",
       "      <td></td>\n",
       "      <td>ctdpf_optode_sample</td>\n",
       "      <td>908</td>\n",
       "      <td>Located Off Jbox</td>\n",
       "    </tr>\n",
       "  </tbody>\n",
       "</table>\n",
       "</div>"
      ],
      "text/plain": [
       "             reference_designator name  start_depth  end_depth current_status  \\\n",
       "1236  RS01SLBS-LJ01A-12-CTDPFB101  CTD       2924.0     2924.0                  \n",
       "\n",
       "         preferred_stream preferred_parameter          location  \n",
       "1236  ctdpf_optode_sample                 908  Located Off Jbox  "
      ]
     },
     "execution_count": 2,
     "metadata": {},
     "output_type": "execute_result"
    }
   ],
   "source": [
    "ooi = OOI()\n",
    "ooi.filter(region=\"cabled continental margin\",site=\"Oregon Slope Base Shallow Profiler Mooring\",instrument=\"RS01SLBS-LJ01A-12-CTDPFB101\")\n",
    "ooi.view_instruments()"
   ]
  },
  {
   "cell_type": "markdown",
   "metadata": {},
   "source": [
    "And a quick request just to establish what we are dealing with."
   ]
  },
  {
   "cell_type": "code",
   "execution_count": 3,
   "metadata": {},
   "outputs": [],
   "source": [
    "import datetime\n",
    "\n",
    "start = (datetime.datetime.now() - datetime.timedelta(seconds = 5)).strftime(\"%Y-%m-%dT%H:%M:%S.000Z\")\n",
    "end = datetime.datetime.now().strftime(\"%Y-%m-%dT%H:%M:%S.000Z\")\n",
    "\n",
    "data = ooi.request_data(\n",
    "        begin_date=start,\n",
    "        end_date=end,\n",
    "        limit=20,\n",
    "        data_type=\"json\")"
   ]
  },
  {
   "cell_type": "code",
   "execution_count": 4,
   "metadata": {},
   "outputs": [
    {
     "data": {
      "text/plain": [
       "[(86.2375041170931, 3740124779.3531437),\n",
       " (86.28791396927157, 3740124780.3530445),\n",
       " (86.26579313223992, 3740124781.3532586),\n",
       " (86.27937671521552, 3740124782.353995),\n",
       " (86.25967470706985, 3740124783.367336)]"
      ]
     },
     "execution_count": 4,
     "metadata": {},
     "output_type": "execute_result"
    }
   ],
   "source": [
    "# just the first 5 samples, we will get to the heavy lifting later\n",
    "# do for Dissolved Oxygen\n",
    "do = [(d[\"dissolved_oxygen\"],d[\"time\"]) for d in data.raw()[0][\"data\"][-5:]]\n",
    "do"
   ]
  },
  {
   "cell_type": "markdown",
   "metadata": {},
   "source": [
    "## A Note on Timestamps\n",
    "\n",
    "The above has been demonstrated several times already in other notebooks. What makes our problem unique is dealing with the timestamps coming in with the data. If we convert a datapoint from the above table into a readable date, we find our first issue."
   ]
  },
  {
   "cell_type": "code",
   "execution_count": 5,
   "metadata": {},
   "outputs": [
    {
     "data": {
      "text/plain": [
       "datetime.datetime(2088, 7, 8, 11, 33)"
      ]
     },
     "execution_count": 5,
     "metadata": {},
     "output_type": "execute_result"
    }
   ],
   "source": [
    "import datetime\n",
    "\n",
    "date = datetime.datetime.utcfromtimestamp(int(do[1][1])) # - datetime.timedelta(days = 365 * 70)\n",
    "date"
   ]
  },
  {
   "cell_type": "markdown",
   "metadata": {},
   "source": [
    "Using datetime objects with our data timestamp, we find that our data comes from 70 years in the future! And, given that the request was sent on July 9th, it is strange to see it appear as July 8th. This may seem like a problem at first, but it is really just a quirk of working with the OOI portal with Python. As long as we don't try to construct a date object without an external library from OOI data, this is a moot point. Our workflow with timestamps from OOI is to just pass them right back to the API as we concatenate more data."
   ]
  },
  {
   "cell_type": "markdown",
   "metadata": {},
   "source": [
    "## Create the Initial Dataset\n",
    "\n",
    "For this demonstration, we want to see 20,000 data points at once and plot them as the set updates. Before we can get to the updating, we need to populate a table with the first 20,000. Adding these points as new data comes in would be horrifically slow (indeed, it would take around five and a half hours). So instead, we will look back in time until we find 20,000 points of data.\n",
    "\n",
    "However, this presents a new challenge in that if we look too far back in time (i.e. over a time period with 22,000 points when we need 20,000), the data portal will discard some points to keep the request at a reasonable size. In our case, that harms the resolution of our second-by-second plot. Instead, we can find the time difference between two data points and mathematically determine how far back in time we need to look, assuming that the data arrives regularly."
   ]
  },
  {
   "cell_type": "code",
   "execution_count": 6,
   "metadata": {},
   "outputs": [],
   "source": [
    "# quick function making datetimes into strings usable by yodapy\n",
    "def getstr(t):\n",
    "        return t.strftime(\"%Y-%m-%dT%H:%M:%S.000Z\")"
   ]
  },
  {
   "cell_type": "code",
   "execution_count": 7,
   "metadata": {},
   "outputs": [],
   "source": [
    "DATA_LIMIT = 20000\n",
    "\n",
    "# hot off the presses!\n",
    "start = (datetime.datetime.now() - datetime.timedelta(seconds = 5)).strftime(\"%Y-%m-%dT%H:%M:%S.000Z\")\n",
    "end = datetime.datetime.now().strftime(\"%Y-%m-%dT%H:%M:%S.000Z\")\n",
    "\n",
    "data = ooi.request_data(\n",
    "        begin_date=start,\n",
    "        end_date=end,\n",
    "        # keep the limit fairly high so we don't harm the calculation with lost resolution\n",
    "        limit=20,\n",
    "        data_type=\"json\").raw()[0][\"data\"]"
   ]
  },
  {
   "cell_type": "code",
   "execution_count": 8,
   "metadata": {},
   "outputs": [
    {
     "data": {
      "text/plain": [
       "19998.07357788086"
      ]
     },
     "execution_count": 8,
     "metadata": {},
     "output_type": "execute_result"
    }
   ],
   "source": [
    "diff = data[1][\"time\"] - data[0][\"time\"]\n",
    "diff *= DATA_LIMIT\n",
    "diff"
   ]
  },
  {
   "cell_type": "markdown",
   "metadata": {},
   "source": [
    "Conveniently, the CTD instrument records at roughly 1 Hz. But for other instruments on the array, this may not necessarily be the case so it pays to make this check. Now we make the request."
   ]
  },
  {
   "cell_type": "code",
   "execution_count": 9,
   "metadata": {
    "scrolled": true
   },
   "outputs": [
    {
     "name": "stdout",
     "output_type": "stream",
     "text": [
      "2018-07-09 13:00:26.119898\n"
     ]
    },
    {
     "data": {
      "text/plain": [
       "19998"
      ]
     },
     "execution_count": 9,
     "metadata": {},
     "output_type": "execute_result"
    }
   ],
   "source": [
    "start = datetime.datetime.utcnow() - datetime.timedelta(seconds = diff)\n",
    "print(start)\n",
    "data = ooi.request_data(\n",
    "        begin_date=getstr(start),\n",
    "        limit=DATA_LIMIT,\n",
    "        data_type=\"json\").raw()[0][\"data\"]\n",
    "\n",
    "len(data)"
   ]
  },
  {
   "cell_type": "markdown",
   "metadata": {},
   "source": [
    "Not exactly perfect, but certainly good enough to work with. We can accept our two-point deficiency and plot."
   ]
  },
  {
   "cell_type": "code",
   "execution_count": 10,
   "metadata": {},
   "outputs": [
    {
     "name": "stdout",
     "output_type": "stream",
     "text": [
      "Populating the interactive namespace from numpy and matplotlib\n"
     ]
    },
    {
     "name": "stderr",
     "output_type": "stream",
     "text": [
      "C:\\Users\\ganzk\\Anaconda3\\lib\\site-packages\\IPython\\core\\magics\\pylab.py:160: UserWarning: pylab import has clobbered these variables: ['diff']\n",
      "`%matplotlib` prevents importing * from pylab and numpy\n",
      "  \"\\n`%matplotlib` prevents importing * from pylab and numpy\"\n"
     ]
    },
    {
     "data": {
      "text/plain": [
       "[<matplotlib.lines.Line2D at 0x1e4bc84c7b8>]"
      ]
     },
     "execution_count": 10,
     "metadata": {},
     "output_type": "execute_result"
    },
    {
     "data": {
      "image/png": "[encoded data removed]",
      "text/plain": [
       "<Figure size 432x288 with 1 Axes>"
      ]
     },
     "metadata": {},
     "output_type": "display_data"
    }
   ],
   "source": [
    "%pylab inline\n",
    "do = [(d[\"dissolved_oxygen\"],d[\"time\"]) for d in data[-DATA_LIMIT:]]\n",
    "\n",
    "import pylab as pl\n",
    "import netCDF4 as nc\n",
    "\n",
    "pl.title(\"Dissolved Oxygen July 9th, 2018\")\n",
    "pl.ylabel(\"Dissolved Oxygen (umol/L)\")\n",
    "pl.xlabel(\"Time\")\n",
    "\n",
    "x = [nc.num2date(d[1],\"seconds since 1900-01-01\") for d in do]\n",
    "y = [d[0] for d in do]\n",
    "\n",
    "pl.plot(x,y,\"-b\")"
   ]
  },
  {
   "cell_type": "markdown",
   "metadata": {},
   "source": [
    "## Updating the Plot\n",
    "\n",
    "Now, we redraw the plot with each request that gives us new data. For this example we use pylab instead of matplotlib for easier use."
   ]
  },
  {
   "cell_type": "code",
   "execution_count": 11,
   "metadata": {},
   "outputs": [
    {
     "data": {
      "image/png": "[encoded data removed]",
      "text/plain": [
       "<Figure size 432x288 with 1 Axes>"
      ]
     },
     "metadata": {},
     "output_type": "display_data"
    }
   ],
   "source": [
    "%pylab inline\n",
    "import time\n",
    "from IPython import display\n",
    "\n",
    "# set up figure\n",
    "x = [nc.num2date(d[1],\"seconds since 1900-01-01\") for d in do]\n",
    "y = [d[0] for d in do]\n",
    "\n",
    "pl.xlabel(\"Time\")\n",
    "pl.ylabel(\"Dissolved Oxygen (umol/L)\")\n",
    "pl.title(\"Dissolved Oxygen July 2018\")\n",
    "pl.plot(x,y)\n",
    "\n",
    "# shows ten updates\n",
    "# while True: for infinite loop\n",
    "for i in range(0,10):\n",
    "    last_time = nc.num2date(do[-1][1],'seconds since 1900-01-01')\n",
    "    data = ooi.request_data(\n",
    "            begin_date = getstr(last_time - datetime.timedelta(seconds = 10)),\n",
    "            limit = DATA_LIMIT,\n",
    "            data_type = \"json\").raw()\n",
    "    \n",
    "    # if the request didn't return anything (i.e. data hasn't arrived from the ocean yet)\n",
    "    if not data[0]:\n",
    "            print(\"Nothing found\")\n",
    "            continue\n",
    "        \n",
    "    # filter function: if the data point has a time value greater than the last one in do, add it\n",
    "    else:\n",
    "        new = list(filter(lambda x: x[1] > do[-1][1], [(d[\"dissolved_oxygen\"],d[\"time\"]) for d in data[0][\"data\"]]))\n",
    "        do += new\n",
    "        # only maintain as many data points as we set out for\n",
    "        do = do[-DATA_LIMIT:]\n",
    "        # close old figure\n",
    "        display.clear_output(wait=True)\n",
    "        # plot new one\n",
    "        x = [nc.num2date(d[1],\"seconds since 1900-01-01\") for d in do]\n",
    "        y = [d[0] for d in do]\n",
    "        \n",
    "        pl.clf()\n",
    "        pl.ylabel(\"Dissolved Oxygen (umol/L)\")\n",
    "        pl.xlabel(\"Time\")\n",
    "        pl.title(\"Dissolved Oxygen July 2018\")\n",
    "        pl.plot(x,y,\"-b\")\n",
    "        display.display(pl.gcf())\n",
    "        \n",
    "display.clear_output(wait=True)"
   ]
  },
  {
   "cell_type": "markdown",
   "metadata": {},
   "source": [
    "Of course, it is difficult to see the plot update with this example because we start with such a large data set. But, over time we should see minor fluctuations. This kind of code can be implemented in a web page or local program to see live updates on instruments such as the CTD."
   ]
  }
 ],
 "metadata": {
  "kernelspec": {
   "display_name": "Python 3",
   "language": "python",
   "name": "python3"
  },
  "language_info": {
   "codemirror_mode": {
    "name": "ipython",
    "version": 3
   },
   "file_extension": ".py",
   "mimetype": "text/x-python",
   "name": "python",
   "nbconvert_exporter": "python",
   "pygments_lexer": "ipython3",
   "version": "3.6.5"
  }
 },
 "nbformat": 4,
 "nbformat_minor": 2
}
