{
 "cells": [
  {
   "cell_type": "markdown",
   "metadata": {},
   "source": [
    "# Working Groups\n",
    "\n",
    "if you not in named: you.group = you.choose()\n",
    "\n",
    "### Methods\n",
    "\n",
    "#### Visualization, Access and EPO (Edu / Public Outreach)\n",
    "\n",
    "Suggest lead: Don Setiawan (Jake, Aaron, Aaron, Mike)\n",
    "\n",
    "#### Synoptics: Combining multiple\n",
    "\n",
    "Suggested lead: Wu-Jung and Mike (Katie, Robert, Eric, Rob)\n",
    "\n",
    "### Science\n",
    "\n",
    "#### Ecology 1 (Not-so-much-o-phone)\n",
    "\n",
    "Suggested lead: Allison and Robert (Katie, Sasha, Mike, Rob)\n",
    "\n",
    "#### Ecology 2 (Hydrophone emphasis)\n",
    "\n",
    "Suggested lead: Shima and Valentina (Aidan)\n",
    "\n",
    "#### Other possibilities\n",
    "\n",
    "- Seismics (& tilt)\n",
    "- CAMHD\n",
    "- ?\n",
    "\n",
    "Comparatives\n",
    "- Characteristic functions\n",
    "- Events of interest: Time window\n",
    "- Propagation of event in space/time per sensor\n",
    "\n",
    "Compiling Science Drivers\n",
    "- Whale response to Axial eruption?\n",
    "- Science drivers/themes: From Deb?\n"
   ]
  },
  {
   "cell_type": "code",
   "execution_count": null,
   "metadata": {},
   "outputs": [],
   "source": []
  }
 ],
 "metadata": {
  "kernelspec": {
   "display_name": "Python 3",
   "language": "python",
   "name": "python3"
  },
  "language_info": {
   "codemirror_mode": {
    "name": "ipython",
    "version": 3
   },
   "file_extension": ".py",
   "mimetype": "text/x-python",
   "name": "python",
   "nbconvert_exporter": "python",
   "pygments_lexer": "ipython3",
   "version": "3.6.4"
  }
 },
 "nbformat": 4,
 "nbformat_minor": 2
}
