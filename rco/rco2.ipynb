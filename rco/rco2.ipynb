{
 "cells": [
  {
   "cell_type": "markdown",
   "metadata": {},
   "source": [
    "# rco2: Three-dimensional (color) charting\n",
    "\n",
    "## Oregon Slope Base, shallow profiler curtains\n",
    "### 01-JAN through 01-MAR 2017\n",
    "\n",
    "Shallow profilers (Science Pods, SCIPs) begin at 200 meters depth and rise to the surface nine times per day. \n",
    "They are positively buoyant and rise and fall by means of a cable and a winch. They collect data along the way. \n",
    "Each rise/fall cycle is called a *profile*. Two of the nine profiles are slightly different in character. They \n",
    "pause on the descent portion at a set of fixed depths to allow the nitrate sensor to make a stable measurement. \n",
    "This is apparent in a stair-step character to the time/pressure chart. \n",
    "\n",
    "\n",
    "If we plot shallow profiler data with the y-axis corresponding to depth for one day we will see the individual\n",
    "profiles. If we compress many weeks of data onto a single chart the time axis will have more work to do; so the\n",
    "data are compressed together and come to resemble a curtain. A third type of data from the choices\n",
    "{ salinity, dissolved oxygen, temperature } can be color-coded to produce a water-column profile curtain. \n",
    "This is our goal here; using the yodapy OOI object as the means of data access.\n",
    "\n",
    "Each sub-section here is preceded by some explanation\n",
    "\n",
    "### Python utility code\n",
    "\n",
    "These functions are used to simplify the data management. One of the tasks here is to use the data request\n",
    "to generate a software 'link' to the resulting data. This precedes loading the data into memory."
   ]
  },
  {
   "cell_type": "code",
   "execution_count": 1,
   "metadata": {},
   "outputs": [
    {
     "name": "stdout",
     "output_type": "stream",
     "text": [
      "Requirement already satisfied: utm in /opt/conda/lib/python3.6/site-packages\n",
      "\u001b[33mYou are using pip version 9.0.1, however version 19.0.3 is available.\n",
      "You should consider upgrading via the 'pip install --upgrade pip' command.\u001b[0m\n",
      "Requirement already satisfied: pygeotools in /opt/conda/lib/python3.6/site-packages\n",
      "Requirement already satisfied: numpy in /opt/conda/lib/python3.6/site-packages (from pygeotools)\n",
      "Requirement already satisfied: matplotlib in /opt/conda/lib/python3.6/site-packages (from pygeotools)\n",
      "Requirement already satisfied: gdal in /opt/conda/lib/python3.6/site-packages (from pygeotools)\n",
      "Requirement already satisfied: scipy in /opt/conda/lib/python3.6/site-packages (from pygeotools)\n",
      "Requirement already satisfied: cycler>=0.10 in /opt/conda/lib/python3.6/site-packages (from matplotlib->pygeotools)\n",
      "Requirement already satisfied: kiwisolver>=1.0.1 in /opt/conda/lib/python3.6/site-packages (from matplotlib->pygeotools)\n",
      "Requirement already satisfied: pyparsing!=2.0.4,!=2.1.2,!=2.1.6,>=2.0.1 in /opt/conda/lib/python3.6/site-packages (from matplotlib->pygeotools)\n",
      "Requirement already satisfied: python-dateutil>=2.1 in /opt/conda/lib/python3.6/site-packages (from matplotlib->pygeotools)\n",
      "Requirement already satisfied: six in /opt/conda/lib/python3.6/site-packages (from cycler>=0.10->matplotlib->pygeotools)\n",
      "Requirement already satisfied: setuptools in /opt/conda/lib/python3.6/site-packages (from kiwisolver>=1.0.1->matplotlib->pygeotools)\n",
      "\u001b[33mYou are using pip version 9.0.1, however version 19.0.3 is available.\n",
      "You should consider upgrading via the 'pip install --upgrade pip' command.\u001b[0m\n"
     ]
    }
   ],
   "source": [
    "%matplotlib inline\n",
    "!pip install utm\n",
    "!pip install pygeotools\n",
    "import timeit, pandas as pd, netCDF4, xarray as xr, dask, numpy as np, sys, os, utm, golive_utility as g\n",
    "from datetime import timedelta, datetime\n",
    "from matplotlib import pyplot as plt\n",
    "from numpy import datetime64 as dt64, timedelta64 as td64\n",
    "from scipy import stats\n",
    "from scipy.signal import medfilt as mf\n",
    "from random import randint as ri\n",
    "from ipywidgets import *\n",
    "from traitlets import dlink\n",
    "np.warnings.filterwarnings('ignore')"
   ]
  },
  {
   "cell_type": "markdown",
   "metadata": {},
   "source": [
    "### Intermezzo: Timing Jupyter notebook cell execution time\n",
    "\n",
    "There are some 'Jupyter notebook magic' features line magic ('%') and cell magic ('%%'). \n",
    "See [this link](https://ipython.readthedocs.io/en/stable/interactive/magics.html) for more.\n",
    "\n",
    "Let's use the 'time'\n",
    "line magic to time the running of a trivial cell, as follows..."
   ]
  },
  {
   "cell_type": "code",
   "execution_count": 59,
   "metadata": {},
   "outputs": [
    {
     "name": "stdout",
     "output_type": "stream",
     "text": [
      "CPU times: user 3 µs, sys: 1 µs, total: 4 µs\n",
      "Wall time: 7.15 µs\n",
      "1 2 3 4 5 6 7 8 9 10 11 12 13 14 15 16 17 18 19 20 21 22 23 24 25 26 27 28 29 30 31 32 33 34 35 36 37 38 39 40 41 42 43 44 45 46 47 48 49 50 51 52 53 54 55 56 57 58 59 60 61 62 63 64 65 66 67 68 69 70 71 72 73 74 75 76 77 78 79 80 81 82 83 84 85 86 87 88 89 90 91 92 93 94 95 96 97 98 99 "
     ]
    }
   ],
   "source": [
    "# the 'time' line magic prints 'how long I took to run'. If this cell has been pre-run the output 'wall time' will be \n",
    "#   a guide to the new user on how long the cell *ought* to take. However there is a catch: The cells may run in an\n",
    "#   asynchronous manner meaning that the %time will tell us how long it took to \"fire everything off\" without telling us \n",
    "#   how long it took for the task to be completed. \n",
    "%time\n",
    "\n",
    "# try it; notice the print substitutes a space for a carriage return via the end kwarg \n",
    "for i in range(1,100): print(i,end = \" \")\n"
   ]
  },
  {
   "cell_type": "markdown",
   "metadata": {},
   "source": [
    "## Data Request\n",
    "\n",
    "This section uses the 'yodapy' package to create an OOI object called 'ooi'. This in turn is configured \n",
    "using a 'search' method to point at a specific sub-region of the **RCO** data."
   ]
  },
  {
   "cell_type": "code",
   "execution_count": 60,
   "metadata": {},
   "outputs": [
    {
     "name": "stderr",
     "output_type": "stream",
     "text": [
      "INFO:yodapy.datasources.ooi.m2m_client:Creating M2mClient instance (https://ooinet.oceanobservatories.org)\n"
     ]
    },
    {
     "data": {
      "text/html": [
       "<div>\n",
       "<style scoped>\n",
       "    .dataframe tbody tr th:only-of-type {\n",
       "        vertical-align: middle;\n",
       "    }\n",
       "\n",
       "    .dataframe tbody tr th {\n",
       "        vertical-align: top;\n",
       "    }\n",
       "\n",
       "    .dataframe thead th {\n",
       "        text-align: right;\n",
       "    }\n",
       "</style>\n",
       "<table border=\"1\" class=\"dataframe\">\n",
       "  <thead>\n",
       "    <tr style=\"text-align: right;\">\n",
       "      <th></th>\n",
       "      <th>reference_designator</th>\n",
       "      <th>name</th>\n",
       "      <th>start_depth</th>\n",
       "      <th>end_depth</th>\n",
       "      <th>current_status</th>\n",
       "      <th>preferred_stream</th>\n",
       "      <th>preferred_parameter</th>\n",
       "      <th>location</th>\n",
       "    </tr>\n",
       "  </thead>\n",
       "  <tbody>\n",
       "    <tr>\n",
       "      <th>1222</th>\n",
       "      <td>RS01SBPS-SF01A-2A-CTDPFA102</td>\n",
       "      <td>CTD</td>\n",
       "      <td>5.0</td>\n",
       "      <td>200.0</td>\n",
       "      <td></td>\n",
       "      <td>ctdpf_sbe43_sample</td>\n",
       "      <td>908</td>\n",
       "      <td>Shallow Profiler</td>\n",
       "    </tr>\n",
       "  </tbody>\n",
       "</table>\n",
       "</div>"
      ],
      "text/plain": [
       "             reference_designator name  start_depth  end_depth current_status  \\\n",
       "1222  RS01SBPS-SF01A-2A-CTDPFA102  CTD          5.0      200.0                  \n",
       "\n",
       "        preferred_stream preferred_parameter          location  \n",
       "1222  ctdpf_sbe43_sample                 908  Shallow Profiler  "
      ]
     },
     "execution_count": 60,
     "metadata": {},
     "output_type": "execute_result"
    }
   ],
   "source": [
    "# object to interface with OOI\n",
    "from yodapy.datasources import OOI\n",
    "\n",
    "# see progress info from yodapy\n",
    "import logging\n",
    "logging.basicConfig(level=logging.INFO)\n",
    "\n",
    "ooi = OOI()\n",
    "# search by research array, site, and instrument name or reference designator\n",
    "# functions like google searches\n",
    "\n",
    "# everything on the profiler: http://ooi.visualocean.net/sites/view/RS01SBPS\n",
    "# ooi.search(region=\"cabled\",site=\"oregon slope base\",instrument=\"ctd\")\n",
    "# \n",
    "# Please observe: This CTD produces *4* results: temperature, salinity and dissolved oxygen w/r/t depth\n",
    "#\n",
    "ooi.search(region=\"cabled\",site=\"oregon slope base shallow profiler\",instrument=\"RS01SBPS-SF01A-2A-CTDPFA102\")\n",
    "ooi.view_instruments()"
   ]
  },
  {
   "cell_type": "code",
   "execution_count": 3,
   "metadata": {},
   "outputs": [
    {
     "data": {
      "text/plain": [
       "{'RS01SBPS-SF01A-2A-CTDPFA102': [{'beginTime': '2014-10-06T22:05:23.269Z',\n",
       "   'count': 97236022,\n",
       "   'endTime': '2018-12-21T01:49:54.365Z',\n",
       "   'method': 'streamed',\n",
       "   'stream': 'ctdpf_sbe43_sample'}]}"
      ]
     },
     "execution_count": 3,
     "metadata": {},
     "output_type": "execute_result"
    },
    {
     "data": {
      "image/png": "[encoded data removed]",
      "text/plain": [
       "<Figure size 1440x720 with 1 Axes>"
      ]
     },
     "metadata": {},
     "output_type": "display_data"
    }
   ],
   "source": [
    "# notice we have dialed in (so far) to region, site and insrument\n",
    "# comment out to skip viewing the data availability plot for this instrument\n",
    "# The '%%' syntax Keenan referred to as 'magic' { line magic uses '%', cell magic uses '%%'}\n",
    "#   ...see https://ipython.readthedocs.io/en/stable/interactive/magics.html\n",
    "\n",
    "%matplotlib inline\n",
    "ooi.data_availability()\n",
    "# i just see a green block so the chart is not particularly helpful"
   ]
  },
  {
   "cell_type": "code",
   "execution_count": 6,
   "metadata": {},
   "outputs": [
    {
     "name": "stdout",
     "output_type": "stream",
     "text": [
      "CPU times: user 3 µs, sys: 0 ns, total: 3 µs\n",
      "Wall time: 6.91 µs\n"
     ]
    },
    {
     "name": "stderr",
     "output_type": "stream",
     "text": [
      "INFO:yodapy.datasources.ooi:Requesting data ...\n",
      "INFO:yodapy.datasources.ooi:Data request complete, please wait for data to be compiled ...\n"
     ]
    }
   ],
   "source": [
    "%time                     # This does not help particularly; see note above on asynchronous processes\n",
    "begin = \"2017-01-01\"\n",
    "end = \"2017-03-01\"\n",
    "asset = ooi.request_data(begin_date = begin, end_date = end, data_type = \"netcdf\")"
   ]
  },
  {
   "cell_type": "code",
   "execution_count": 7,
   "metadata": {},
   "outputs": [
    {
     "name": "stdout",
     "output_type": "stream",
     "text": [
      "CPU times: user 4 µs, sys: 0 ns, total: 4 µs\n",
      "Wall time: 9.54 µs\n"
     ]
    },
    {
     "name": "stderr",
     "output_type": "stream",
     "text": [
      "WARNING:yodapy.datasources.ooi:Your data (https://opendap.oceanobservatories.org/async_results/rob5@uw.edu/20181221T031600-RS01SBPS-SF01A-2A-CTDPFA102-streamed-ctdpf_sbe43_sample) is still compiling... Please wait.\n",
      "WARNING:yodapy.datasources.ooi:Your data (https://opendap.oceanobservatories.org/async_results/rob5@uw.edu/20181221T031600-RS01SBPS-SF01A-2A-CTDPFA102-streamed-ctdpf_sbe43_sample) is still compiling... Please wait.\n",
      "WARNING:yodapy.datasources.ooi:Your data (https://opendap.oceanobservatories.org/async_results/rob5@uw.edu/20181221T031600-RS01SBPS-SF01A-2A-CTDPFA102-streamed-ctdpf_sbe43_sample) is still compiling... Please wait.\n",
      "WARNING:yodapy.datasources.ooi:Your data (https://opendap.oceanobservatories.org/async_results/rob5@uw.edu/20181221T031600-RS01SBPS-SF01A-2A-CTDPFA102-streamed-ctdpf_sbe43_sample) is still compiling... Please wait.\n",
      "WARNING:yodapy.datasources.ooi:Your data (https://opendap.oceanobservatories.org/async_results/rob5@uw.edu/20181221T031600-RS01SBPS-SF01A-2A-CTDPFA102-streamed-ctdpf_sbe43_sample) is still compiling... Please wait.\n",
      "WARNING:yodapy.datasources.ooi:Your data (https://opendap.oceanobservatories.org/async_results/rob5@uw.edu/20181221T031600-RS01SBPS-SF01A-2A-CTDPFA102-streamed-ctdpf_sbe43_sample) is still compiling... Please wait.\n",
      "WARNING:yodapy.datasources.ooi:Your data (https://opendap.oceanobservatories.org/async_results/rob5@uw.edu/20181221T031600-RS01SBPS-SF01A-2A-CTDPFA102-streamed-ctdpf_sbe43_sample) is still compiling... Please wait.\n",
      "WARNING:yodapy.datasources.ooi:Your data (https://opendap.oceanobservatories.org/async_results/rob5@uw.edu/20181221T031600-RS01SBPS-SF01A-2A-CTDPFA102-streamed-ctdpf_sbe43_sample) is still compiling... Please wait.\n",
      "WARNING:yodapy.datasources.ooi:Your data (https://opendap.oceanobservatories.org/async_results/rob5@uw.edu/20181221T031600-RS01SBPS-SF01A-2A-CTDPFA102-streamed-ctdpf_sbe43_sample) is still compiling... Please wait.\n",
      "WARNING:yodapy.datasources.ooi:Your data (https://opendap.oceanobservatories.org/async_results/rob5@uw.edu/20181221T031600-RS01SBPS-SF01A-2A-CTDPFA102-streamed-ctdpf_sbe43_sample) is still compiling... Please wait.\n",
      "WARNING:yodapy.datasources.ooi:Your data (https://opendap.oceanobservatories.org/async_results/rob5@uw.edu/20181221T031600-RS01SBPS-SF01A-2A-CTDPFA102-streamed-ctdpf_sbe43_sample) is still compiling... Please wait.\n",
      "WARNING:yodapy.datasources.ooi:Your data (https://opendap.oceanobservatories.org/async_results/rob5@uw.edu/20181221T031600-RS01SBPS-SF01A-2A-CTDPFA102-streamed-ctdpf_sbe43_sample) is still compiling... Please wait.\n",
      "INFO:yodapy.datasources.ooi:Request (https://opendap.oceanobservatories.org/async_results/rob5@uw.edu/20181221T031600-RS01SBPS-SF01A-2A-CTDPFA102-streamed-ctdpf_sbe43_sample) completed.\n"
     ]
    },
    {
     "name": "stdout",
     "output_type": "stream",
     "text": [
      "Request complete!\n"
     ]
    }
   ],
   "source": [
    "# Print this to see the data compile in real time\n",
    "# asset.raw()[0][\"allURLs\"]\n",
    "\n",
    "# ...or in automated fashion: This took a minute on Dec 20 2018 and %time did not help (see note above on asynchronous)\n",
    "%time\n",
    "import time\n",
    "while not ooi.check_status(): time.sleep(5)\n",
    "print(\"Request complete!\")"
   ]
  },
  {
   "cell_type": "code",
   "execution_count": 9,
   "metadata": {},
   "outputs": [
    {
     "data": {
      "text/html": [
       "<div>\n",
       "<style scoped>\n",
       "    .dataframe tbody tr th:only-of-type {\n",
       "        vertical-align: middle;\n",
       "    }\n",
       "\n",
       "    .dataframe tbody tr th {\n",
       "        vertical-align: top;\n",
       "    }\n",
       "\n",
       "    .dataframe thead th {\n",
       "        text-align: right;\n",
       "    }\n",
       "</style>\n",
       "<table border=\"1\" class=\"dataframe\">\n",
       "  <thead>\n",
       "    <tr style=\"text-align: right;\">\n",
       "      <th></th>\n",
       "      <th>reference_designator</th>\n",
       "      <th>name</th>\n",
       "      <th>start_depth</th>\n",
       "      <th>end_depth</th>\n",
       "      <th>current_status</th>\n",
       "      <th>preferred_stream</th>\n",
       "      <th>preferred_parameter</th>\n",
       "      <th>location</th>\n",
       "    </tr>\n",
       "  </thead>\n",
       "  <tbody>\n",
       "    <tr>\n",
       "      <th>1222</th>\n",
       "      <td>RS01SBPS-SF01A-2A-CTDPFA102</td>\n",
       "      <td>CTD</td>\n",
       "      <td>5.0</td>\n",
       "      <td>200.0</td>\n",
       "      <td></td>\n",
       "      <td>ctdpf_sbe43_sample</td>\n",
       "      <td>908</td>\n",
       "      <td>Shallow Profiler</td>\n",
       "    </tr>\n",
       "  </tbody>\n",
       "</table>\n",
       "</div>"
      ],
      "text/plain": [
       "             reference_designator name  start_depth  end_depth current_status  \\\n",
       "1222  RS01SBPS-SF01A-2A-CTDPFA102  CTD          5.0      200.0                  \n",
       "\n",
       "        preferred_stream preferred_parameter          location  \n",
       "1222  ctdpf_sbe43_sample                 908  Shallow Profiler  "
      ]
     },
     "execution_count": 9,
     "metadata": {},
     "output_type": "execute_result"
    }
   ],
   "source": [
    "# dirobj(ooi)\n",
    "ooi.view_instruments()"
   ]
  },
  {
   "cell_type": "code",
   "execution_count": 12,
   "metadata": {},
   "outputs": [
    {
     "data": {
      "text/plain": [
       "['check_status',\n",
       " 'clear',\n",
       " 'data_availability',\n",
       " 'download_ncfiles',\n",
       " 'end_date',\n",
       " 'last_request_urls',\n",
       " 'raw',\n",
       " 'request_data',\n",
       " 'search',\n",
       " 'source_name',\n",
       " 'start_date',\n",
       " 'to_xarray',\n",
       " 'token',\n",
       " 'username',\n",
       " 'view_instruments',\n",
       " 'view_regions',\n",
       " 'view_sites']"
      ]
     },
     "execution_count": 12,
     "metadata": {},
     "output_type": "execute_result"
    }
   ],
   "source": [
    "dirobj(asset)"
   ]
  },
  {
   "cell_type": "code",
   "execution_count": 19,
   "metadata": {},
   "outputs": [
    {
     "data": {
      "text/html": [
       "<div>\n",
       "<style scoped>\n",
       "    .dataframe tbody tr th:only-of-type {\n",
       "        vertical-align: middle;\n",
       "    }\n",
       "\n",
       "    .dataframe tbody tr th {\n",
       "        vertical-align: top;\n",
       "    }\n",
       "\n",
       "    .dataframe thead th {\n",
       "        text-align: right;\n",
       "    }\n",
       "</style>\n",
       "<table border=\"1\" class=\"dataframe\">\n",
       "  <thead>\n",
       "    <tr style=\"text-align: right;\">\n",
       "      <th></th>\n",
       "      <th>reference_designator</th>\n",
       "      <th>name</th>\n",
       "      <th>start_depth</th>\n",
       "      <th>end_depth</th>\n",
       "      <th>current_status</th>\n",
       "      <th>preferred_stream</th>\n",
       "      <th>preferred_parameter</th>\n",
       "      <th>location</th>\n",
       "    </tr>\n",
       "  </thead>\n",
       "  <tbody>\n",
       "    <tr>\n",
       "      <th>1222</th>\n",
       "      <td>RS01SBPS-SF01A-2A-CTDPFA102</td>\n",
       "      <td>CTD</td>\n",
       "      <td>5.0</td>\n",
       "      <td>200.0</td>\n",
       "      <td></td>\n",
       "      <td>ctdpf_sbe43_sample</td>\n",
       "      <td>908</td>\n",
       "      <td>Shallow Profiler</td>\n",
       "    </tr>\n",
       "  </tbody>\n",
       "</table>\n",
       "</div>"
      ],
      "text/plain": [
       "             reference_designator name  start_depth  end_depth current_status  \\\n",
       "1222  RS01SBPS-SF01A-2A-CTDPFA102  CTD          5.0      200.0                  \n",
       "\n",
       "        preferred_stream preferred_parameter          location  \n",
       "1222  ctdpf_sbe43_sample                 908  Shallow Profiler  "
      ]
     },
     "execution_count": 19,
     "metadata": {},
     "output_type": "execute_result"
    }
   ],
   "source": [
    "asset.check_status()\n",
    "# we really need to move forward from this point: bootstrapping the streams, assigning those..."
   ]
  },
  {
   "cell_type": "code",
   "execution_count": 13,
   "metadata": {},
   "outputs": [
    {
     "data": {
      "text/plain": [
       "{'RS01SBPS-SF01A-2A-CTDPFA102': [{'beginTime': '2014-10-06T22:05:23.269Z',\n",
       "   'count': 97241503,\n",
       "   'endTime': '2018-12-21T03:21:15.489Z',\n",
       "   'method': 'streamed',\n",
       "   'stream': 'ctdpf_sbe43_sample'}]}"
      ]
     },
     "execution_count": 13,
     "metadata": {},
     "output_type": "execute_result"
    }
   ],
   "source": [
    "asset.data_availability()"
   ]
  },
  {
   "cell_type": "code",
   "execution_count": 18,
   "metadata": {},
   "outputs": [
    {
     "name": "stdout",
     "output_type": "stream",
     "text": [
      "CPU times: user 3 µs, sys: 1e+03 ns, total: 4 µs\n",
      "Wall time: 6.91 µs\n",
      "WARNING: This can possibly take a while for large dataset. Are you sure? (yes | no) :yes\n"
     ]
    },
    {
     "name": "stderr",
     "output_type": "stream",
     "text": [
      "INFO:yodapy.datasources.ooi:Request (https://opendap.oceanobservatories.org/async_results/rob5@uw.edu/20181221T031600-RS01SBPS-SF01A-2A-CTDPFA102-streamed-ctdpf_sbe43_sample) completed.\n",
      "INFO:yodapy.datasources.ooi:Downloading netcdf data ...\n"
     ]
    },
    {
     "name": "stdout",
     "output_type": "stream",
     "text": [
      "['https://opendap.oceanobservatories.org/thredds/catalog/ooi/rob5@uw.edu/20181221T031600-RS01SBPS-SF01A-2A-CTDPFA102-streamed-ctdpf_sbe43_sample/catalog.html']\n"
     ]
    },
    {
     "name": "stderr",
     "output_type": "stream",
     "text": [
      "INFO:yodapy.datasources.ooi.helpers:Downloading deployment0003_RS01SBPS-SF01A-2A-CTDPFA102-streamed-ctdpf_sbe43_sample_20170101T000000.678980-20170130T014303.019857.nc...\n",
      "INFO:yodapy.datasources.ooi.helpers:Writing deployment0003_RS01SBPS-SF01A-2A-CTDPFA102-streamed-ctdpf_sbe43_sample_20170101T000000.678980-20170130T014303.019857.nc...\n"
     ]
    },
    {
     "data": {
      "text/plain": [
       "[['deployment0003_RS01SBPS-SF01A-2A-CTDPFA102-streamed-ctdpf_sbe43_sample_20170101T000000.678980-20170130T014303.019857.nc']]"
      ]
     },
     "execution_count": 18,
     "metadata": {},
     "output_type": "execute_result"
    }
   ],
   "source": [
    "# This pulls down a 170MB file\n",
    "%time\n",
    "asset.download_ncfiles(data+'ooi')"
   ]
  },
  {
   "cell_type": "code",
   "execution_count": 25,
   "metadata": {},
   "outputs": [
    {
     "data": {
      "text/plain": [
       "['https://ooinet.oceanobservatories.org/api/m2m/12576/sensor/inv/RS01SBPS/SF01A/2A-CTDPFA102/streamed/ctdpf_sbe43_sample?beginDT=2017-01-01T00:00:00.000000Z&endDT=2017-03-01T00:00:00.000000Z&format=application/netcdf&limit=-1&execDPA=true&include_provenance=true&user=OOIAPI-SOFYMOGBVIWV7U']"
      ]
     },
     "execution_count": 25,
     "metadata": {},
     "output_type": "execute_result"
    }
   ],
   "source": [
    "asset.last_request_urls     # this item 'last_request_urls' is a list, not a method; \n",
    "                            #   and it is a nice snapshot of what we requested above"
   ]
  },
  {
   "cell_type": "code",
   "execution_count": 27,
   "metadata": {},
   "outputs": [
    {
     "data": {
      "text/plain": [
       "'OOI'"
      ]
     },
     "execution_count": 27,
     "metadata": {},
     "output_type": "execute_result"
    }
   ],
   "source": [
    "asset.source_name"
   ]
  },
  {
   "cell_type": "code",
   "execution_count": 29,
   "metadata": {},
   "outputs": [
    {
     "data": {
      "text/html": [
       "<div>\n",
       "<style scoped>\n",
       "    .dataframe tbody tr th:only-of-type {\n",
       "        vertical-align: middle;\n",
       "    }\n",
       "\n",
       "    .dataframe tbody tr th {\n",
       "        vertical-align: top;\n",
       "    }\n",
       "\n",
       "    .dataframe thead th {\n",
       "        text-align: right;\n",
       "    }\n",
       "</style>\n",
       "<table border=\"1\" class=\"dataframe\">\n",
       "  <thead>\n",
       "    <tr style=\"text-align: right;\">\n",
       "      <th></th>\n",
       "      <th>reference_designator</th>\n",
       "      <th>name</th>\n",
       "      <th>start_depth</th>\n",
       "      <th>end_depth</th>\n",
       "      <th>current_status</th>\n",
       "      <th>preferred_stream</th>\n",
       "      <th>preferred_parameter</th>\n",
       "      <th>location</th>\n",
       "    </tr>\n",
       "  </thead>\n",
       "  <tbody>\n",
       "    <tr>\n",
       "      <th>1222</th>\n",
       "      <td>RS01SBPS-SF01A-2A-CTDPFA102</td>\n",
       "      <td>CTD</td>\n",
       "      <td>5.0</td>\n",
       "      <td>200.0</td>\n",
       "      <td></td>\n",
       "      <td>ctdpf_sbe43_sample</td>\n",
       "      <td>908</td>\n",
       "      <td>Shallow Profiler</td>\n",
       "    </tr>\n",
       "  </tbody>\n",
       "</table>\n",
       "</div>"
      ],
      "text/plain": [
       "             reference_designator name  start_depth  end_depth current_status  \\\n",
       "1222  RS01SBPS-SF01A-2A-CTDPFA102  CTD          5.0      200.0                  \n",
       "\n",
       "        preferred_stream preferred_parameter          location  \n",
       "1222  ctdpf_sbe43_sample                 908  Shallow Profiler  "
      ]
     },
     "execution_count": 29,
     "metadata": {},
     "output_type": "execute_result"
    }
   ],
   "source": [
    "asset.view_instruments()"
   ]
  },
  {
   "cell_type": "code",
   "execution_count": 30,
   "metadata": {},
   "outputs": [
    {
     "data": {
      "text/html": [
       "<div>\n",
       "<style scoped>\n",
       "    .dataframe tbody tr th:only-of-type {\n",
       "        vertical-align: middle;\n",
       "    }\n",
       "\n",
       "    .dataframe tbody tr th {\n",
       "        vertical-align: top;\n",
       "    }\n",
       "\n",
       "    .dataframe thead th {\n",
       "        text-align: right;\n",
       "    }\n",
       "</style>\n",
       "<table border=\"1\" class=\"dataframe\">\n",
       "  <thead>\n",
       "    <tr style=\"text-align: right;\">\n",
       "      <th></th>\n",
       "      <th>reference_designator</th>\n",
       "      <th>name</th>\n",
       "      <th>latitude</th>\n",
       "      <th>longitude</th>\n",
       "    </tr>\n",
       "  </thead>\n",
       "  <tbody>\n",
       "    <tr>\n",
       "      <th>0</th>\n",
       "      <td>CE</td>\n",
       "      <td>Coastal Endurance</td>\n",
       "      <td>44.3700</td>\n",
       "      <td>-124.9500</td>\n",
       "    </tr>\n",
       "    <tr>\n",
       "      <th>1</th>\n",
       "      <td>CP</td>\n",
       "      <td>Coastal Pioneer</td>\n",
       "      <td>40.1000</td>\n",
       "      <td>-70.8800</td>\n",
       "    </tr>\n",
       "    <tr>\n",
       "      <th>2</th>\n",
       "      <td>GA</td>\n",
       "      <td>Global Argentine Basin</td>\n",
       "      <td>-42.5073</td>\n",
       "      <td>-42.8905</td>\n",
       "    </tr>\n",
       "    <tr>\n",
       "      <th>3</th>\n",
       "      <td>GI</td>\n",
       "      <td>Global Irminger Sea</td>\n",
       "      <td>60.4582</td>\n",
       "      <td>-38.4407</td>\n",
       "    </tr>\n",
       "    <tr>\n",
       "      <th>4</th>\n",
       "      <td>GP</td>\n",
       "      <td>Global Station Papa</td>\n",
       "      <td>49.9795</td>\n",
       "      <td>-144.2540</td>\n",
       "    </tr>\n",
       "    <tr>\n",
       "      <th>5</th>\n",
       "      <td>GS</td>\n",
       "      <td>Global Southern Ocean</td>\n",
       "      <td>-54.0814</td>\n",
       "      <td>-89.6652</td>\n",
       "    </tr>\n",
       "    <tr>\n",
       "      <th>6</th>\n",
       "      <td>RS</td>\n",
       "      <td>Cabled Array</td>\n",
       "      <td>44.5540</td>\n",
       "      <td>-125.3520</td>\n",
       "    </tr>\n",
       "  </tbody>\n",
       "</table>\n",
       "</div>"
      ],
      "text/plain": [
       "  reference_designator                    name  latitude  longitude\n",
       "0                   CE       Coastal Endurance   44.3700  -124.9500\n",
       "1                   CP         Coastal Pioneer   40.1000   -70.8800\n",
       "2                   GA  Global Argentine Basin  -42.5073   -42.8905\n",
       "3                   GI     Global Irminger Sea   60.4582   -38.4407\n",
       "4                   GP     Global Station Papa   49.9795  -144.2540\n",
       "5                   GS   Global Southern Ocean  -54.0814   -89.6652\n",
       "6                   RS            Cabled Array   44.5540  -125.3520"
      ]
     },
     "execution_count": 30,
     "metadata": {},
     "output_type": "execute_result"
    }
   ],
   "source": [
    "asset.view_regions()"
   ]
  },
  {
   "cell_type": "code",
   "execution_count": 31,
   "metadata": {},
   "outputs": [
    {
     "data": {
      "text/html": [
       "<div>\n",
       "<style scoped>\n",
       "    .dataframe tbody tr th:only-of-type {\n",
       "        vertical-align: middle;\n",
       "    }\n",
       "\n",
       "    .dataframe tbody tr th {\n",
       "        vertical-align: top;\n",
       "    }\n",
       "\n",
       "    .dataframe thead th {\n",
       "        text-align: right;\n",
       "    }\n",
       "</style>\n",
       "<table border=\"1\" class=\"dataframe\">\n",
       "  <thead>\n",
       "    <tr style=\"text-align: right;\">\n",
       "      <th></th>\n",
       "      <th>reference_designator</th>\n",
       "      <th>array_name</th>\n",
       "      <th>name</th>\n",
       "      <th>description</th>\n",
       "      <th>min_depth</th>\n",
       "      <th>max_depth</th>\n",
       "      <th>longitude</th>\n",
       "      <th>latitude</th>\n",
       "    </tr>\n",
       "  </thead>\n",
       "  <tbody>\n",
       "    <tr>\n",
       "      <th>0</th>\n",
       "      <td>CE01ISSM</td>\n",
       "      <td>Coastal Endurance</td>\n",
       "      <td>Oregon Inshore Surface Mooring</td>\n",
       "      <td>A Surface Mooring is a type of mooring that co...</td>\n",
       "      <td>0</td>\n",
       "      <td>25</td>\n",
       "      <td>-124.095</td>\n",
       "      <td>44.6598</td>\n",
       "    </tr>\n",
       "    <tr>\n",
       "      <th>1</th>\n",
       "      <td>CE01ISSP</td>\n",
       "      <td>Coastal Endurance</td>\n",
       "      <td>Oregon Inshore Surface Piercing Profiler Mooring</td>\n",
       "      <td>A Surface-Piercing Profiler Mooring is a moori...</td>\n",
       "      <td>0</td>\n",
       "      <td>25</td>\n",
       "      <td>-124.096</td>\n",
       "      <td>44.662</td>\n",
       "    </tr>\n",
       "    <tr>\n",
       "      <th>2</th>\n",
       "      <td>CE02SHBP</td>\n",
       "      <td>Coastal Endurance</td>\n",
       "      <td>Oregon Shelf Cabled Benthic Experiment Package</td>\n",
       "      <td>The Benthic Experiment Package (BEP) is a type...</td>\n",
       "      <td>79</td>\n",
       "      <td>79</td>\n",
       "      <td>-124.306</td>\n",
       "      <td>44.6371</td>\n",
       "    </tr>\n",
       "    <tr>\n",
       "      <th>3</th>\n",
       "      <td>CE02SHSM</td>\n",
       "      <td>Coastal Endurance</td>\n",
       "      <td>Oregon Shelf Surface Mooring</td>\n",
       "      <td>A Surface Mooring is a type of mooring that co...</td>\n",
       "      <td>0</td>\n",
       "      <td>80</td>\n",
       "      <td>-124.304</td>\n",
       "      <td>44.6393</td>\n",
       "    </tr>\n",
       "    <tr>\n",
       "      <th>4</th>\n",
       "      <td>CE02SHSP</td>\n",
       "      <td>Coastal Endurance</td>\n",
       "      <td>Oregon Shelf Surface Piercing Profiler Mooring</td>\n",
       "      <td>A Surface-Piercing Profiler Mooring is a moori...</td>\n",
       "      <td>0</td>\n",
       "      <td>81</td>\n",
       "      <td>-124.299</td>\n",
       "      <td>44.6372</td>\n",
       "    </tr>\n",
       "    <tr>\n",
       "      <th>5</th>\n",
       "      <td>CE04OSBP</td>\n",
       "      <td>Coastal Endurance</td>\n",
       "      <td>Oregon Offshore Cabled Benthic Experiment Package</td>\n",
       "      <td>The Benthic Experiment Package (BEP) is a type...</td>\n",
       "      <td>579</td>\n",
       "      <td>579</td>\n",
       "      <td>-124.954</td>\n",
       "      <td>44.3695</td>\n",
       "    </tr>\n",
       "    <tr>\n",
       "      <th>6</th>\n",
       "      <td>CE04OSPD</td>\n",
       "      <td>Coastal Endurance</td>\n",
       "      <td>Oregon Offshore Cabled Deep Profiler Mooring</td>\n",
       "      <td>Profiler Moorings are a type of mooring that c...</td>\n",
       "      <td>175</td>\n",
       "      <td>576</td>\n",
       "      <td>-124.953</td>\n",
       "      <td>44.3683</td>\n",
       "    </tr>\n",
       "    <tr>\n",
       "      <th>7</th>\n",
       "      <td>CE04OSPS</td>\n",
       "      <td>Coastal Endurance</td>\n",
       "      <td>Oregon Offshore Cabled Shallow Profiler Mooring</td>\n",
       "      <td>Profiler Moorings are a type of mooring that c...</td>\n",
       "      <td>20</td>\n",
       "      <td>588</td>\n",
       "      <td>-124.956</td>\n",
       "      <td>44.3741</td>\n",
       "    </tr>\n",
       "    <tr>\n",
       "      <th>8</th>\n",
       "      <td>CE04OSSM</td>\n",
       "      <td>Coastal Endurance</td>\n",
       "      <td>Oregon Offshore Surface Mooring</td>\n",
       "      <td>A Surface Mooring is a type of mooring that co...</td>\n",
       "      <td>0</td>\n",
       "      <td>588</td>\n",
       "      <td>-124.956</td>\n",
       "      <td>44.3811</td>\n",
       "    </tr>\n",
       "    <tr>\n",
       "      <th>9</th>\n",
       "      <td>CE05MOAS</td>\n",
       "      <td>Coastal Endurance</td>\n",
       "      <td>Mobile Assets</td>\n",
       "      <td>Gliders are buoyancy-driven mobile assets. The...</td>\n",
       "      <td>0</td>\n",
       "      <td>1000</td>\n",
       "      <td></td>\n",
       "      <td></td>\n",
       "    </tr>\n",
       "    <tr>\n",
       "      <th>10</th>\n",
       "      <td>CE06ISSM</td>\n",
       "      <td>Coastal Endurance</td>\n",
       "      <td>Washington Inshore Surface Mooring</td>\n",
       "      <td>A Surface Mooring is a type of mooring that co...</td>\n",
       "      <td>0</td>\n",
       "      <td>29</td>\n",
       "      <td>-124.272</td>\n",
       "      <td>47.1336</td>\n",
       "    </tr>\n",
       "    <tr>\n",
       "      <th>11</th>\n",
       "      <td>CE06ISSP</td>\n",
       "      <td>Coastal Endurance</td>\n",
       "      <td>Washington Inshore Surface Piercing Profiler M...</td>\n",
       "      <td>A Surface-Piercing Profiler Mooring is a moori...</td>\n",
       "      <td>0</td>\n",
       "      <td>29</td>\n",
       "      <td>-124.269</td>\n",
       "      <td>47.136</td>\n",
       "    </tr>\n",
       "    <tr>\n",
       "      <th>12</th>\n",
       "      <td>CE07SHSM</td>\n",
       "      <td>Coastal Endurance</td>\n",
       "      <td>Washington Shelf Surface Mooring</td>\n",
       "      <td>A Surface Mooring is a type of mooring that co...</td>\n",
       "      <td>0</td>\n",
       "      <td>87</td>\n",
       "      <td>-124.566</td>\n",
       "      <td>46.9859</td>\n",
       "    </tr>\n",
       "    <tr>\n",
       "      <th>13</th>\n",
       "      <td>CE07SHSP</td>\n",
       "      <td>Coastal Endurance</td>\n",
       "      <td>Washington Shelf Surface Piercing Profiler Moo...</td>\n",
       "      <td>A Surface-Piercing Profiler Mooring is a moori...</td>\n",
       "      <td>0</td>\n",
       "      <td>87</td>\n",
       "      <td>-124.565</td>\n",
       "      <td>46.9843</td>\n",
       "    </tr>\n",
       "    <tr>\n",
       "      <th>14</th>\n",
       "      <td>CE09OSPM</td>\n",
       "      <td>Coastal Endurance</td>\n",
       "      <td>Washington Offshore Profiler Mooring</td>\n",
       "      <td>Profiler Moorings are a type of mooring that c...</td>\n",
       "      <td>0</td>\n",
       "      <td>544</td>\n",
       "      <td>-124.982</td>\n",
       "      <td>46.8517</td>\n",
       "    </tr>\n",
       "    <tr>\n",
       "      <th>15</th>\n",
       "      <td>CE09OSSM</td>\n",
       "      <td>Coastal Endurance</td>\n",
       "      <td>Washington Offshore Surface Mooring</td>\n",
       "      <td>A Surface Mooring is a type of mooring that co...</td>\n",
       "      <td>0</td>\n",
       "      <td>542</td>\n",
       "      <td>-124.972</td>\n",
       "      <td>46.8508</td>\n",
       "    </tr>\n",
       "    <tr>\n",
       "      <th>16</th>\n",
       "      <td>CP01CNPM</td>\n",
       "      <td>Coastal Pioneer</td>\n",
       "      <td>Central Profiler Mooring</td>\n",
       "      <td>Profiler Moorings are a type of mooring that c...</td>\n",
       "      <td>0</td>\n",
       "      <td>70</td>\n",
       "      <td>-70.7795</td>\n",
       "      <td>40.1392</td>\n",
       "    </tr>\n",
       "    <tr>\n",
       "      <th>17</th>\n",
       "      <td>CP01CNSM</td>\n",
       "      <td>Coastal Pioneer</td>\n",
       "      <td>Central Surface Mooring</td>\n",
       "      <td>A Surface Mooring is a type of mooring that co...</td>\n",
       "      <td>0</td>\n",
       "      <td>133</td>\n",
       "      <td>-70.7785</td>\n",
       "      <td>40.1334</td>\n",
       "    </tr>\n",
       "    <tr>\n",
       "      <th>18</th>\n",
       "      <td>CP01CNSP</td>\n",
       "      <td>Coastal Pioneer</td>\n",
       "      <td>Central Surface Piercing Profiler Mooring</td>\n",
       "      <td>A Surface-Piercing Profiler Mooring is a moori...</td>\n",
       "      <td>0</td>\n",
       "      <td>133</td>\n",
       "      <td>-70.7701</td>\n",
       "      <td>40.1341</td>\n",
       "    </tr>\n",
       "    <tr>\n",
       "      <th>19</th>\n",
       "      <td>CP02PMCI</td>\n",
       "      <td>Coastal Pioneer</td>\n",
       "      <td>Central Inshore Profiler Mooring</td>\n",
       "      <td>Profiler Moorings are a type of mooring that c...</td>\n",
       "      <td>0</td>\n",
       "      <td>127</td>\n",
       "      <td>-70.8782</td>\n",
       "      <td>40.2267</td>\n",
       "    </tr>\n",
       "    <tr>\n",
       "      <th>20</th>\n",
       "      <td>CP02PMCO</td>\n",
       "      <td>Coastal Pioneer</td>\n",
       "      <td>Central Offshore Profiler Mooring</td>\n",
       "      <td>Profiler Moorings are a type of mooring that c...</td>\n",
       "      <td>0</td>\n",
       "      <td>148</td>\n",
       "      <td>-70.8789</td>\n",
       "      <td>40.0963</td>\n",
       "    </tr>\n",
       "    <tr>\n",
       "      <th>21</th>\n",
       "      <td>CP02PMUI</td>\n",
       "      <td>Coastal Pioneer</td>\n",
       "      <td>Upstream Inshore Profiler Mooring</td>\n",
       "      <td>Profiler Moorings are a type of mooring that c...</td>\n",
       "      <td>0</td>\n",
       "      <td>95</td>\n",
       "      <td>-70.77</td>\n",
       "      <td>40.3649</td>\n",
       "    </tr>\n",
       "    <tr>\n",
       "      <th>22</th>\n",
       "      <td>CP02PMUO</td>\n",
       "      <td>Coastal Pioneer</td>\n",
       "      <td>Upstream Offshore Profiler Mooring</td>\n",
       "      <td>Profiler Moorings are a type of mooring that c...</td>\n",
       "      <td>0</td>\n",
       "      <td>452</td>\n",
       "      <td>-70.7708</td>\n",
       "      <td>39.9394</td>\n",
       "    </tr>\n",
       "    <tr>\n",
       "      <th>23</th>\n",
       "      <td>CP03ISPM</td>\n",
       "      <td>Coastal Pioneer</td>\n",
       "      <td>Inshore Profiler Mooring</td>\n",
       "      <td>Profiler Moorings are a type of mooring that c...</td>\n",
       "      <td>0</td>\n",
       "      <td>70</td>\n",
       "      <td>-70.8882</td>\n",
       "      <td>40.3647</td>\n",
       "    </tr>\n",
       "    <tr>\n",
       "      <th>24</th>\n",
       "      <td>CP03ISSM</td>\n",
       "      <td>Coastal Pioneer</td>\n",
       "      <td>Inshore Surface Mooring</td>\n",
       "      <td>A Surface Mooring is a type of mooring that co...</td>\n",
       "      <td>0</td>\n",
       "      <td>92</td>\n",
       "      <td>-70.8783</td>\n",
       "      <td>40.3619</td>\n",
       "    </tr>\n",
       "    <tr>\n",
       "      <th>25</th>\n",
       "      <td>CP03ISSP</td>\n",
       "      <td>Coastal Pioneer</td>\n",
       "      <td>Inshore Surface Piercing Profiler Mooring</td>\n",
       "      <td>A Surface-Piercing Profiler Mooring is a moori...</td>\n",
       "      <td>0</td>\n",
       "      <td>92</td>\n",
       "      <td>-70.8818</td>\n",
       "      <td>40.3672</td>\n",
       "    </tr>\n",
       "    <tr>\n",
       "      <th>26</th>\n",
       "      <td>CP04OSPM</td>\n",
       "      <td>Coastal Pioneer</td>\n",
       "      <td>Offshore Profiler Mooring</td>\n",
       "      <td>Profiler Moorings are a type of mooring that c...</td>\n",
       "      <td>0</td>\n",
       "      <td>453</td>\n",
       "      <td>-70.8802</td>\n",
       "      <td>39.9365</td>\n",
       "    </tr>\n",
       "    <tr>\n",
       "      <th>27</th>\n",
       "      <td>CP04OSSM</td>\n",
       "      <td>Coastal Pioneer</td>\n",
       "      <td>Offshore Surface Mooring</td>\n",
       "      <td>A Surface Mooring is a type of mooring that co...</td>\n",
       "      <td>0</td>\n",
       "      <td>450</td>\n",
       "      <td>-70.887</td>\n",
       "      <td>39.9371</td>\n",
       "    </tr>\n",
       "    <tr>\n",
       "      <th>28</th>\n",
       "      <td>CP05MOAS</td>\n",
       "      <td>Coastal Pioneer</td>\n",
       "      <td>Mobile Assets</td>\n",
       "      <td>Gliders are buoyancy-driven mobile assets. The...</td>\n",
       "      <td>0</td>\n",
       "      <td>1000</td>\n",
       "      <td></td>\n",
       "      <td></td>\n",
       "    </tr>\n",
       "    <tr>\n",
       "      <th>29</th>\n",
       "      <td>GA01SUMO</td>\n",
       "      <td>Global Argentine Basin</td>\n",
       "      <td>Apex Surface Mooring</td>\n",
       "      <td>A Surface Mooring is a type of mooring that co...</td>\n",
       "      <td>0</td>\n",
       "      <td>5200</td>\n",
       "      <td>-42.4409</td>\n",
       "      <td>-42.9204</td>\n",
       "    </tr>\n",
       "    <tr>\n",
       "      <th>...</th>\n",
       "      <td>...</td>\n",
       "      <td>...</td>\n",
       "      <td>...</td>\n",
       "      <td>...</td>\n",
       "      <td>...</td>\n",
       "      <td>...</td>\n",
       "      <td>...</td>\n",
       "      <td>...</td>\n",
       "    </tr>\n",
       "    <tr>\n",
       "      <th>34</th>\n",
       "      <td>GI01SUMO</td>\n",
       "      <td>Global Irminger Sea</td>\n",
       "      <td>Apex Surface Mooring</td>\n",
       "      <td>A Surface Mooring is a type of mooring that co...</td>\n",
       "      <td>0</td>\n",
       "      <td>2800</td>\n",
       "      <td>-39.4673</td>\n",
       "      <td>59.9341</td>\n",
       "    </tr>\n",
       "    <tr>\n",
       "      <th>35</th>\n",
       "      <td>GI02HYPM</td>\n",
       "      <td>Global Irminger Sea</td>\n",
       "      <td>Apex Profiler Mooring</td>\n",
       "      <td>Profiler Moorings are a type of mooring that c...</td>\n",
       "      <td>150</td>\n",
       "      <td>2800</td>\n",
       "      <td>-39.4886</td>\n",
       "      <td>59.9695</td>\n",
       "    </tr>\n",
       "    <tr>\n",
       "      <th>36</th>\n",
       "      <td>GI03FLMA</td>\n",
       "      <td>Global Irminger Sea</td>\n",
       "      <td>Flanking Subsurface Mooring A</td>\n",
       "      <td>Flanking Subsurface Moorings are located at gl...</td>\n",
       "      <td>30</td>\n",
       "      <td>2800</td>\n",
       "      <td>-39.8412</td>\n",
       "      <td>59.8177</td>\n",
       "    </tr>\n",
       "    <tr>\n",
       "      <th>37</th>\n",
       "      <td>GI03FLMB</td>\n",
       "      <td>Global Irminger Sea</td>\n",
       "      <td>Flanking Subsurface Mooring B</td>\n",
       "      <td>Flanking Subsurface Moorings are located at gl...</td>\n",
       "      <td>30</td>\n",
       "      <td>2800</td>\n",
       "      <td>-39.3148</td>\n",
       "      <td>59.7155</td>\n",
       "    </tr>\n",
       "    <tr>\n",
       "      <th>38</th>\n",
       "      <td>GI05MOAS</td>\n",
       "      <td>Global Irminger Sea</td>\n",
       "      <td>Mobile Assets</td>\n",
       "      <td>Gliders are buoyancy-driven mobile assets. The...</td>\n",
       "      <td>0</td>\n",
       "      <td>1000</td>\n",
       "      <td></td>\n",
       "      <td></td>\n",
       "    </tr>\n",
       "    <tr>\n",
       "      <th>39</th>\n",
       "      <td>GP02HYPM</td>\n",
       "      <td>Global Station Papa</td>\n",
       "      <td>Apex Profiler Mooring</td>\n",
       "      <td>Profiler Moorings are a type of mooring that c...</td>\n",
       "      <td>150</td>\n",
       "      <td>4219</td>\n",
       "      <td>-144.806</td>\n",
       "      <td>50.0796</td>\n",
       "    </tr>\n",
       "    <tr>\n",
       "      <th>40</th>\n",
       "      <td>GP03FLMA</td>\n",
       "      <td>Global Station Papa</td>\n",
       "      <td>Flanking Subsurface Mooring A</td>\n",
       "      <td>Flanking Subsurface Moorings are located at gl...</td>\n",
       "      <td>30</td>\n",
       "      <td>4126</td>\n",
       "      <td>-144.24</td>\n",
       "      <td>49.9743</td>\n",
       "    </tr>\n",
       "    <tr>\n",
       "      <th>41</th>\n",
       "      <td>GP03FLMB</td>\n",
       "      <td>Global Station Papa</td>\n",
       "      <td>Flanking Subsurface Mooring B</td>\n",
       "      <td>Flanking Subsurface Moorings are located at gl...</td>\n",
       "      <td>30</td>\n",
       "      <td>4145</td>\n",
       "      <td>-144.398</td>\n",
       "      <td>50.3293</td>\n",
       "    </tr>\n",
       "    <tr>\n",
       "      <th>42</th>\n",
       "      <td>GP05MOAS</td>\n",
       "      <td>Global Station Papa</td>\n",
       "      <td>Mobile Assets</td>\n",
       "      <td>Gliders are buoyancy-driven mobile assets. The...</td>\n",
       "      <td>0</td>\n",
       "      <td>1000</td>\n",
       "      <td></td>\n",
       "      <td></td>\n",
       "    </tr>\n",
       "    <tr>\n",
       "      <th>43</th>\n",
       "      <td>GS01SUMO</td>\n",
       "      <td>Global Southern Ocean</td>\n",
       "      <td>Apex Surface Mooring</td>\n",
       "      <td>A Surface Mooring is a type of mooring that co...</td>\n",
       "      <td>0</td>\n",
       "      <td>4800</td>\n",
       "      <td>-89.3567</td>\n",
       "      <td>-54.4076</td>\n",
       "    </tr>\n",
       "    <tr>\n",
       "      <th>44</th>\n",
       "      <td>GS02HYPM</td>\n",
       "      <td>Global Southern Ocean</td>\n",
       "      <td>Apex Profiler Mooring</td>\n",
       "      <td>Profiler Moorings are a type of mooring that c...</td>\n",
       "      <td>150</td>\n",
       "      <td>4800</td>\n",
       "      <td>-89.3191</td>\n",
       "      <td>-54.4693</td>\n",
       "    </tr>\n",
       "    <tr>\n",
       "      <th>45</th>\n",
       "      <td>GS03FLMA</td>\n",
       "      <td>Global Southern Ocean</td>\n",
       "      <td>Flanking Subsurface Mooring A</td>\n",
       "      <td>Flanking Subsurface Moorings are located at gl...</td>\n",
       "      <td>30</td>\n",
       "      <td>4800</td>\n",
       "      <td>-89.6542</td>\n",
       "      <td>-54.1042</td>\n",
       "    </tr>\n",
       "    <tr>\n",
       "      <th>46</th>\n",
       "      <td>GS03FLMB</td>\n",
       "      <td>Global Southern Ocean</td>\n",
       "      <td>Flanking Subsurface Mooring B</td>\n",
       "      <td>Flanking Subsurface Moorings are located at gl...</td>\n",
       "      <td>30</td>\n",
       "      <td>4800</td>\n",
       "      <td>-88.9318</td>\n",
       "      <td>-54.0803</td>\n",
       "    </tr>\n",
       "    <tr>\n",
       "      <th>47</th>\n",
       "      <td>GS05MOAS</td>\n",
       "      <td>Global Southern Ocean</td>\n",
       "      <td>Mobile Assets</td>\n",
       "      <td>Gliders are buoyancy-driven mobile assets. The...</td>\n",
       "      <td>0</td>\n",
       "      <td>1000</td>\n",
       "      <td></td>\n",
       "      <td></td>\n",
       "    </tr>\n",
       "    <tr>\n",
       "      <th>48</th>\n",
       "      <td>RS01SBPD</td>\n",
       "      <td>Cabled Continental Margin</td>\n",
       "      <td>Oregon Slope Base Deep Profiler Mooring</td>\n",
       "      <td>Profiler Moorings are a type of mooring that c...</td>\n",
       "      <td>150</td>\n",
       "      <td>2893</td>\n",
       "      <td>-125.381</td>\n",
       "      <td>44.5274</td>\n",
       "    </tr>\n",
       "    <tr>\n",
       "      <th>49</th>\n",
       "      <td>RS01SBPS</td>\n",
       "      <td>Cabled Continental Margin</td>\n",
       "      <td>Oregon Slope Base Shallow Profiler Mooring</td>\n",
       "      <td>Profiler Moorings are a type of mooring that c...</td>\n",
       "      <td>5</td>\n",
       "      <td>2906</td>\n",
       "      <td>-125.389</td>\n",
       "      <td>44.529</td>\n",
       "    </tr>\n",
       "    <tr>\n",
       "      <th>50</th>\n",
       "      <td>RS01SHDR</td>\n",
       "      <td>Cabled Continental Margin</td>\n",
       "      <td>Hydrate Ridge Primary Infrastructure</td>\n",
       "      <td>Primary Nodes are connected to the land-based ...</td>\n",
       "      <td>1241</td>\n",
       "      <td>1241</td>\n",
       "      <td>-125.148</td>\n",
       "      <td>44.4815</td>\n",
       "    </tr>\n",
       "    <tr>\n",
       "      <th>51</th>\n",
       "      <td>RS01SLBS</td>\n",
       "      <td>Cabled Continental Margin</td>\n",
       "      <td>Oregon Slope Base Seafloor</td>\n",
       "      <td>A Junction Box (JBox) rests on the seafloor an...</td>\n",
       "      <td>2901</td>\n",
       "      <td>2901</td>\n",
       "      <td>-125.39</td>\n",
       "      <td>44.5153</td>\n",
       "    </tr>\n",
       "    <tr>\n",
       "      <th>52</th>\n",
       "      <td>RS01SUM1</td>\n",
       "      <td>Cabled Continental Margin</td>\n",
       "      <td>Southern Hydrate Summit 1 Seafloor</td>\n",
       "      <td>A Junction Box (JBox) rests on the seafloor an...</td>\n",
       "      <td>775</td>\n",
       "      <td>775</td>\n",
       "      <td>-125.148</td>\n",
       "      <td>44.5691</td>\n",
       "    </tr>\n",
       "    <tr>\n",
       "      <th>53</th>\n",
       "      <td>RS01SUM2</td>\n",
       "      <td>Cabled Continental Margin</td>\n",
       "      <td>Southern Hydrate Summit 2 Seafloor</td>\n",
       "      <td>A Junction Box (JBox) rests on the seafloor an...</td>\n",
       "      <td>772</td>\n",
       "      <td>772</td>\n",
       "      <td>-125.147</td>\n",
       "      <td>44.5699</td>\n",
       "    </tr>\n",
       "    <tr>\n",
       "      <th>54</th>\n",
       "      <td>RS03ASHS</td>\n",
       "      <td>Cabled Axial Seamount</td>\n",
       "      <td>ASHES Vent Field</td>\n",
       "      <td>A Junction Box (JBox) rests on the seafloor an...</td>\n",
       "      <td>1552</td>\n",
       "      <td>1552</td>\n",
       "      <td>-130.014</td>\n",
       "      <td>45.9337</td>\n",
       "    </tr>\n",
       "    <tr>\n",
       "      <th>55</th>\n",
       "      <td>RS03AXBS</td>\n",
       "      <td>Cabled Axial Seamount</td>\n",
       "      <td>Axial Base Seafloor</td>\n",
       "      <td>A Junction Box (JBox) rests on the seafloor an...</td>\n",
       "      <td>2611</td>\n",
       "      <td>2611</td>\n",
       "      <td>-129.754</td>\n",
       "      <td>45.8168</td>\n",
       "    </tr>\n",
       "    <tr>\n",
       "      <th>56</th>\n",
       "      <td>RS03AXPD</td>\n",
       "      <td>Cabled Axial Seamount</td>\n",
       "      <td>Axial Base Deep Profiler Mooring</td>\n",
       "      <td>Profiler Moorings are a type of mooring that c...</td>\n",
       "      <td>150</td>\n",
       "      <td>2604</td>\n",
       "      <td>-129.759</td>\n",
       "      <td>45.8297</td>\n",
       "    </tr>\n",
       "    <tr>\n",
       "      <th>57</th>\n",
       "      <td>RS03AXPS</td>\n",
       "      <td>Cabled Axial Seamount</td>\n",
       "      <td>Axial Base Shallow Profiler Mooring</td>\n",
       "      <td>Profiler Moorings are a type of mooring that c...</td>\n",
       "      <td>5</td>\n",
       "      <td>2607</td>\n",
       "      <td>-129.754</td>\n",
       "      <td>45.8305</td>\n",
       "    </tr>\n",
       "    <tr>\n",
       "      <th>58</th>\n",
       "      <td>RS03CCAL</td>\n",
       "      <td>Cabled Axial Seamount</td>\n",
       "      <td>Central Caldera</td>\n",
       "      <td>A Junction Box (JBox) rests on the seafloor an...</td>\n",
       "      <td>1523</td>\n",
       "      <td>1523</td>\n",
       "      <td>-130.009</td>\n",
       "      <td>45.9549</td>\n",
       "    </tr>\n",
       "    <tr>\n",
       "      <th>59</th>\n",
       "      <td>RS03ECAL</td>\n",
       "      <td>Cabled Axial Seamount</td>\n",
       "      <td>Eastern Caldera</td>\n",
       "      <td>A Junction Box (JBox) rests on the seafloor an...</td>\n",
       "      <td>1519</td>\n",
       "      <td>1519</td>\n",
       "      <td>-129.974</td>\n",
       "      <td>45.9399</td>\n",
       "    </tr>\n",
       "    <tr>\n",
       "      <th>60</th>\n",
       "      <td>RS03INT1</td>\n",
       "      <td>Cabled Axial Seamount</td>\n",
       "      <td>International District Vent Field 1</td>\n",
       "      <td>A Junction Box (JBox) rests on the seafloor an...</td>\n",
       "      <td>1516</td>\n",
       "      <td>1516</td>\n",
       "      <td>-129.979</td>\n",
       "      <td>45.9263</td>\n",
       "    </tr>\n",
       "    <tr>\n",
       "      <th>61</th>\n",
       "      <td>RS03INT2</td>\n",
       "      <td>Cabled Axial Seamount</td>\n",
       "      <td>International District Vent Field 2</td>\n",
       "      <td>A Junction Box (JBox) rests on the seafloor an...</td>\n",
       "      <td>1526</td>\n",
       "      <td>1526</td>\n",
       "      <td>-129.978</td>\n",
       "      <td>45.9258</td>\n",
       "    </tr>\n",
       "    <tr>\n",
       "      <th>62</th>\n",
       "      <td>RS05MDPL</td>\n",
       "      <td>Cabled Juan de Fuca Mid-Plate</td>\n",
       "      <td>Primary Infrastructure</td>\n",
       "      <td>Primary Nodes are connected to the land-based ...</td>\n",
       "      <td>2820</td>\n",
       "      <td>2820</td>\n",
       "      <td>-127.278</td>\n",
       "      <td>45.7556</td>\n",
       "    </tr>\n",
       "    <tr>\n",
       "      <th>63</th>\n",
       "      <td>SSRSPACC</td>\n",
       "      <td>Cabled Oregon Shore Station</td>\n",
       "      <td>Pacific City</td>\n",
       "      <td></td>\n",
       "      <td>0</td>\n",
       "      <td>0</td>\n",
       "      <td></td>\n",
       "      <td></td>\n",
       "    </tr>\n",
       "  </tbody>\n",
       "</table>\n",
       "<p>64 rows × 8 columns</p>\n",
       "</div>"
      ],
      "text/plain": [
       "   reference_designator                     array_name  \\\n",
       "0              CE01ISSM              Coastal Endurance   \n",
       "1              CE01ISSP              Coastal Endurance   \n",
       "2              CE02SHBP              Coastal Endurance   \n",
       "3              CE02SHSM              Coastal Endurance   \n",
       "4              CE02SHSP              Coastal Endurance   \n",
       "5              CE04OSBP              Coastal Endurance   \n",
       "6              CE04OSPD              Coastal Endurance   \n",
       "7              CE04OSPS              Coastal Endurance   \n",
       "8              CE04OSSM              Coastal Endurance   \n",
       "9              CE05MOAS              Coastal Endurance   \n",
       "10             CE06ISSM              Coastal Endurance   \n",
       "11             CE06ISSP              Coastal Endurance   \n",
       "12             CE07SHSM              Coastal Endurance   \n",
       "13             CE07SHSP              Coastal Endurance   \n",
       "14             CE09OSPM              Coastal Endurance   \n",
       "15             CE09OSSM              Coastal Endurance   \n",
       "16             CP01CNPM                Coastal Pioneer   \n",
       "17             CP01CNSM                Coastal Pioneer   \n",
       "18             CP01CNSP                Coastal Pioneer   \n",
       "19             CP02PMCI                Coastal Pioneer   \n",
       "20             CP02PMCO                Coastal Pioneer   \n",
       "21             CP02PMUI                Coastal Pioneer   \n",
       "22             CP02PMUO                Coastal Pioneer   \n",
       "23             CP03ISPM                Coastal Pioneer   \n",
       "24             CP03ISSM                Coastal Pioneer   \n",
       "25             CP03ISSP                Coastal Pioneer   \n",
       "26             CP04OSPM                Coastal Pioneer   \n",
       "27             CP04OSSM                Coastal Pioneer   \n",
       "28             CP05MOAS                Coastal Pioneer   \n",
       "29             GA01SUMO         Global Argentine Basin   \n",
       "..                  ...                            ...   \n",
       "34             GI01SUMO            Global Irminger Sea   \n",
       "35             GI02HYPM            Global Irminger Sea   \n",
       "36             GI03FLMA            Global Irminger Sea   \n",
       "37             GI03FLMB            Global Irminger Sea   \n",
       "38             GI05MOAS            Global Irminger Sea   \n",
       "39             GP02HYPM            Global Station Papa   \n",
       "40             GP03FLMA            Global Station Papa   \n",
       "41             GP03FLMB            Global Station Papa   \n",
       "42             GP05MOAS            Global Station Papa   \n",
       "43             GS01SUMO          Global Southern Ocean   \n",
       "44             GS02HYPM          Global Southern Ocean   \n",
       "45             GS03FLMA          Global Southern Ocean   \n",
       "46             GS03FLMB          Global Southern Ocean   \n",
       "47             GS05MOAS          Global Southern Ocean   \n",
       "48             RS01SBPD      Cabled Continental Margin   \n",
       "49             RS01SBPS      Cabled Continental Margin   \n",
       "50             RS01SHDR      Cabled Continental Margin   \n",
       "51             RS01SLBS      Cabled Continental Margin   \n",
       "52             RS01SUM1      Cabled Continental Margin   \n",
       "53             RS01SUM2      Cabled Continental Margin   \n",
       "54             RS03ASHS          Cabled Axial Seamount   \n",
       "55             RS03AXBS          Cabled Axial Seamount   \n",
       "56             RS03AXPD          Cabled Axial Seamount   \n",
       "57             RS03AXPS          Cabled Axial Seamount   \n",
       "58             RS03CCAL          Cabled Axial Seamount   \n",
       "59             RS03ECAL          Cabled Axial Seamount   \n",
       "60             RS03INT1          Cabled Axial Seamount   \n",
       "61             RS03INT2          Cabled Axial Seamount   \n",
       "62             RS05MDPL  Cabled Juan de Fuca Mid-Plate   \n",
       "63             SSRSPACC    Cabled Oregon Shore Station   \n",
       "\n",
       "                                                 name  \\\n",
       "0                      Oregon Inshore Surface Mooring   \n",
       "1    Oregon Inshore Surface Piercing Profiler Mooring   \n",
       "2      Oregon Shelf Cabled Benthic Experiment Package   \n",
       "3                        Oregon Shelf Surface Mooring   \n",
       "4      Oregon Shelf Surface Piercing Profiler Mooring   \n",
       "5   Oregon Offshore Cabled Benthic Experiment Package   \n",
       "6        Oregon Offshore Cabled Deep Profiler Mooring   \n",
       "7     Oregon Offshore Cabled Shallow Profiler Mooring   \n",
       "8                     Oregon Offshore Surface Mooring   \n",
       "9                                       Mobile Assets   \n",
       "10                 Washington Inshore Surface Mooring   \n",
       "11  Washington Inshore Surface Piercing Profiler M...   \n",
       "12                   Washington Shelf Surface Mooring   \n",
       "13  Washington Shelf Surface Piercing Profiler Moo...   \n",
       "14               Washington Offshore Profiler Mooring   \n",
       "15                Washington Offshore Surface Mooring   \n",
       "16                           Central Profiler Mooring   \n",
       "17                            Central Surface Mooring   \n",
       "18          Central Surface Piercing Profiler Mooring   \n",
       "19                   Central Inshore Profiler Mooring   \n",
       "20                  Central Offshore Profiler Mooring   \n",
       "21                  Upstream Inshore Profiler Mooring   \n",
       "22                 Upstream Offshore Profiler Mooring   \n",
       "23                           Inshore Profiler Mooring   \n",
       "24                            Inshore Surface Mooring   \n",
       "25          Inshore Surface Piercing Profiler Mooring   \n",
       "26                          Offshore Profiler Mooring   \n",
       "27                           Offshore Surface Mooring   \n",
       "28                                      Mobile Assets   \n",
       "29                               Apex Surface Mooring   \n",
       "..                                                ...   \n",
       "34                               Apex Surface Mooring   \n",
       "35                              Apex Profiler Mooring   \n",
       "36                      Flanking Subsurface Mooring A   \n",
       "37                      Flanking Subsurface Mooring B   \n",
       "38                                      Mobile Assets   \n",
       "39                              Apex Profiler Mooring   \n",
       "40                      Flanking Subsurface Mooring A   \n",
       "41                      Flanking Subsurface Mooring B   \n",
       "42                                      Mobile Assets   \n",
       "43                               Apex Surface Mooring   \n",
       "44                              Apex Profiler Mooring   \n",
       "45                      Flanking Subsurface Mooring A   \n",
       "46                      Flanking Subsurface Mooring B   \n",
       "47                                      Mobile Assets   \n",
       "48            Oregon Slope Base Deep Profiler Mooring   \n",
       "49         Oregon Slope Base Shallow Profiler Mooring   \n",
       "50               Hydrate Ridge Primary Infrastructure   \n",
       "51                         Oregon Slope Base Seafloor   \n",
       "52                 Southern Hydrate Summit 1 Seafloor   \n",
       "53                 Southern Hydrate Summit 2 Seafloor   \n",
       "54                                   ASHES Vent Field   \n",
       "55                                Axial Base Seafloor   \n",
       "56                   Axial Base Deep Profiler Mooring   \n",
       "57                Axial Base Shallow Profiler Mooring   \n",
       "58                                    Central Caldera   \n",
       "59                                    Eastern Caldera   \n",
       "60                International District Vent Field 1   \n",
       "61                International District Vent Field 2   \n",
       "62                             Primary Infrastructure   \n",
       "63                                       Pacific City   \n",
       "\n",
       "                                          description  min_depth  max_depth  \\\n",
       "0   A Surface Mooring is a type of mooring that co...          0         25   \n",
       "1   A Surface-Piercing Profiler Mooring is a moori...          0         25   \n",
       "2   The Benthic Experiment Package (BEP) is a type...         79         79   \n",
       "3   A Surface Mooring is a type of mooring that co...          0         80   \n",
       "4   A Surface-Piercing Profiler Mooring is a moori...          0         81   \n",
       "5   The Benthic Experiment Package (BEP) is a type...        579        579   \n",
       "6   Profiler Moorings are a type of mooring that c...        175        576   \n",
       "7   Profiler Moorings are a type of mooring that c...         20        588   \n",
       "8   A Surface Mooring is a type of mooring that co...          0        588   \n",
       "9   Gliders are buoyancy-driven mobile assets. The...          0       1000   \n",
       "10  A Surface Mooring is a type of mooring that co...          0         29   \n",
       "11  A Surface-Piercing Profiler Mooring is a moori...          0         29   \n",
       "12  A Surface Mooring is a type of mooring that co...          0         87   \n",
       "13  A Surface-Piercing Profiler Mooring is a moori...          0         87   \n",
       "14  Profiler Moorings are a type of mooring that c...          0        544   \n",
       "15  A Surface Mooring is a type of mooring that co...          0        542   \n",
       "16  Profiler Moorings are a type of mooring that c...          0         70   \n",
       "17  A Surface Mooring is a type of mooring that co...          0        133   \n",
       "18  A Surface-Piercing Profiler Mooring is a moori...          0        133   \n",
       "19  Profiler Moorings are a type of mooring that c...          0        127   \n",
       "20  Profiler Moorings are a type of mooring that c...          0        148   \n",
       "21  Profiler Moorings are a type of mooring that c...          0         95   \n",
       "22  Profiler Moorings are a type of mooring that c...          0        452   \n",
       "23  Profiler Moorings are a type of mooring that c...          0         70   \n",
       "24  A Surface Mooring is a type of mooring that co...          0         92   \n",
       "25  A Surface-Piercing Profiler Mooring is a moori...          0         92   \n",
       "26  Profiler Moorings are a type of mooring that c...          0        453   \n",
       "27  A Surface Mooring is a type of mooring that co...          0        450   \n",
       "28  Gliders are buoyancy-driven mobile assets. The...          0       1000   \n",
       "29  A Surface Mooring is a type of mooring that co...          0       5200   \n",
       "..                                                ...        ...        ...   \n",
       "34  A Surface Mooring is a type of mooring that co...          0       2800   \n",
       "35  Profiler Moorings are a type of mooring that c...        150       2800   \n",
       "36  Flanking Subsurface Moorings are located at gl...         30       2800   \n",
       "37  Flanking Subsurface Moorings are located at gl...         30       2800   \n",
       "38  Gliders are buoyancy-driven mobile assets. The...          0       1000   \n",
       "39  Profiler Moorings are a type of mooring that c...        150       4219   \n",
       "40  Flanking Subsurface Moorings are located at gl...         30       4126   \n",
       "41  Flanking Subsurface Moorings are located at gl...         30       4145   \n",
       "42  Gliders are buoyancy-driven mobile assets. The...          0       1000   \n",
       "43  A Surface Mooring is a type of mooring that co...          0       4800   \n",
       "44  Profiler Moorings are a type of mooring that c...        150       4800   \n",
       "45  Flanking Subsurface Moorings are located at gl...         30       4800   \n",
       "46  Flanking Subsurface Moorings are located at gl...         30       4800   \n",
       "47  Gliders are buoyancy-driven mobile assets. The...          0       1000   \n",
       "48  Profiler Moorings are a type of mooring that c...        150       2893   \n",
       "49  Profiler Moorings are a type of mooring that c...          5       2906   \n",
       "50  Primary Nodes are connected to the land-based ...       1241       1241   \n",
       "51  A Junction Box (JBox) rests on the seafloor an...       2901       2901   \n",
       "52  A Junction Box (JBox) rests on the seafloor an...        775        775   \n",
       "53  A Junction Box (JBox) rests on the seafloor an...        772        772   \n",
       "54  A Junction Box (JBox) rests on the seafloor an...       1552       1552   \n",
       "55  A Junction Box (JBox) rests on the seafloor an...       2611       2611   \n",
       "56  Profiler Moorings are a type of mooring that c...        150       2604   \n",
       "57  Profiler Moorings are a type of mooring that c...          5       2607   \n",
       "58  A Junction Box (JBox) rests on the seafloor an...       1523       1523   \n",
       "59  A Junction Box (JBox) rests on the seafloor an...       1519       1519   \n",
       "60  A Junction Box (JBox) rests on the seafloor an...       1516       1516   \n",
       "61  A Junction Box (JBox) rests on the seafloor an...       1526       1526   \n",
       "62  Primary Nodes are connected to the land-based ...       2820       2820   \n",
       "63                                                             0          0   \n",
       "\n",
       "   longitude latitude  \n",
       "0   -124.095  44.6598  \n",
       "1   -124.096   44.662  \n",
       "2   -124.306  44.6371  \n",
       "3   -124.304  44.6393  \n",
       "4   -124.299  44.6372  \n",
       "5   -124.954  44.3695  \n",
       "6   -124.953  44.3683  \n",
       "7   -124.956  44.3741  \n",
       "8   -124.956  44.3811  \n",
       "9                      \n",
       "10  -124.272  47.1336  \n",
       "11  -124.269   47.136  \n",
       "12  -124.566  46.9859  \n",
       "13  -124.565  46.9843  \n",
       "14  -124.982  46.8517  \n",
       "15  -124.972  46.8508  \n",
       "16  -70.7795  40.1392  \n",
       "17  -70.7785  40.1334  \n",
       "18  -70.7701  40.1341  \n",
       "19  -70.8782  40.2267  \n",
       "20  -70.8789  40.0963  \n",
       "21    -70.77  40.3649  \n",
       "22  -70.7708  39.9394  \n",
       "23  -70.8882  40.3647  \n",
       "24  -70.8783  40.3619  \n",
       "25  -70.8818  40.3672  \n",
       "26  -70.8802  39.9365  \n",
       "27   -70.887  39.9371  \n",
       "28                     \n",
       "29  -42.4409 -42.9204  \n",
       "..       ...      ...  \n",
       "34  -39.4673  59.9341  \n",
       "35  -39.4886  59.9695  \n",
       "36  -39.8412  59.8177  \n",
       "37  -39.3148  59.7155  \n",
       "38                     \n",
       "39  -144.806  50.0796  \n",
       "40   -144.24  49.9743  \n",
       "41  -144.398  50.3293  \n",
       "42                     \n",
       "43  -89.3567 -54.4076  \n",
       "44  -89.3191 -54.4693  \n",
       "45  -89.6542 -54.1042  \n",
       "46  -88.9318 -54.0803  \n",
       "47                     \n",
       "48  -125.381  44.5274  \n",
       "49  -125.389   44.529  \n",
       "50  -125.148  44.4815  \n",
       "51   -125.39  44.5153  \n",
       "52  -125.148  44.5691  \n",
       "53  -125.147  44.5699  \n",
       "54  -130.014  45.9337  \n",
       "55  -129.754  45.8168  \n",
       "56  -129.759  45.8297  \n",
       "57  -129.754  45.8305  \n",
       "58  -130.009  45.9549  \n",
       "59  -129.974  45.9399  \n",
       "60  -129.979  45.9263  \n",
       "61  -129.978  45.9258  \n",
       "62  -127.278  45.7556  \n",
       "63                     \n",
       "\n",
       "[64 rows x 8 columns]"
      ]
     },
     "execution_count": 31,
     "metadata": {},
     "output_type": "execute_result"
    }
   ],
   "source": [
    "asset.view_sites()"
   ]
  },
  {
   "cell_type": "code",
   "execution_count": 34,
   "metadata": {},
   "outputs": [
    {
     "name": "stdout",
     "output_type": "stream",
     "text": [
      "CPU times: user 5 µs, sys: 0 ns, total: 5 µs\n",
      "Wall time: 11.4 µs\n"
     ]
    },
    {
     "name": "stderr",
     "output_type": "stream",
     "text": [
      "INFO:yodapy.datasources.ooi:Request (https://opendap.oceanobservatories.org/async_results/rob5@uw.edu/20181221T031600-RS01SBPS-SF01A-2A-CTDPFA102-streamed-ctdpf_sbe43_sample) completed.\n",
      "INFO:yodapy.datasources.ooi:Acquiring data from opendap urls ...\n"
     ]
    },
    {
     "data": {
      "text/plain": [
       "[<xarray.Dataset>\n",
       " Dimensions:                                 (time: 2400702)\n",
       " Coordinates:\n",
       "     obs                                     (time) int32 0 1 2 3 4 5 6 7 8 9 ...\n",
       "   * time                                    (time) float64 3.692e+09 ...\n",
       "     seawater_pressure                       (time) float64 dask.array<shape=(2400702,), chunksize=(2400702,)>\n",
       "     lat                                     (time) float64 dask.array<shape=(2400702,), chunksize=(2400702,)>\n",
       "     lon                                     (time) float64 dask.array<shape=(2400702,), chunksize=(2400702,)>\n",
       " Data variables:\n",
       "     deployment                              (time) int32 dask.array<shape=(2400702,), chunksize=(2400702,)>\n",
       "     id                                      (time) |S64 dask.array<shape=(2400702,), chunksize=(2400702,)>\n",
       "     conductivity                            (time) float64 dask.array<shape=(2400702,), chunksize=(2400702,)>\n",
       "     driver_timestamp                        (time) float64 dask.array<shape=(2400702,), chunksize=(2400702,)>\n",
       "     ext_volt0                               (time) float64 dask.array<shape=(2400702,), chunksize=(2400702,)>\n",
       "     ingestion_timestamp                     (time) float64 dask.array<shape=(2400702,), chunksize=(2400702,)>\n",
       "     internal_timestamp                      (time) float64 dask.array<shape=(2400702,), chunksize=(2400702,)>\n",
       "     port_timestamp                          (time) float64 dask.array<shape=(2400702,), chunksize=(2400702,)>\n",
       "     preferred_timestamp                     (time) object dask.array<shape=(2400702,), chunksize=(2400702,)>\n",
       "     pressure                                (time) float64 dask.array<shape=(2400702,), chunksize=(2400702,)>\n",
       "     pressure_temp                           (time) float64 dask.array<shape=(2400702,), chunksize=(2400702,)>\n",
       "     provenance                              (time) |S64 dask.array<shape=(2400702,), chunksize=(2400702,)>\n",
       "     temperature                             (time) float64 dask.array<shape=(2400702,), chunksize=(2400702,)>\n",
       "     seawater_temperature                    (time) float64 dask.array<shape=(2400702,), chunksize=(2400702,)>\n",
       "     seawater_conductivity                   (time) float64 dask.array<shape=(2400702,), chunksize=(2400702,)>\n",
       "     practical_salinity                      (time) float64 dask.array<shape=(2400702,), chunksize=(2400702,)>\n",
       "     corrected_dissolved_oxygen              (time) float64 dask.array<shape=(2400702,), chunksize=(2400702,)>\n",
       "     density                                 (time) float64 dask.array<shape=(2400702,), chunksize=(2400702,)>\n",
       "     seawater_temperature_qc_executed        (time) float32 dask.array<shape=(2400702,), chunksize=(2400702,)>\n",
       "     seawater_temperature_qc_results         (time) float32 dask.array<shape=(2400702,), chunksize=(2400702,)>\n",
       "     seawater_pressure_qc_executed           (time) float32 dask.array<shape=(2400702,), chunksize=(2400702,)>\n",
       "     seawater_pressure_qc_results            (time) float32 dask.array<shape=(2400702,), chunksize=(2400702,)>\n",
       "     seawater_conductivity_qc_executed       (time) float32 dask.array<shape=(2400702,), chunksize=(2400702,)>\n",
       "     seawater_conductivity_qc_results        (time) float32 dask.array<shape=(2400702,), chunksize=(2400702,)>\n",
       "     corrected_dissolved_oxygen_qc_executed  (time) float32 dask.array<shape=(2400702,), chunksize=(2400702,)>\n",
       "     corrected_dissolved_oxygen_qc_results   (time) float32 dask.array<shape=(2400702,), chunksize=(2400702,)>\n",
       "     density_qc_executed                     (time) float32 dask.array<shape=(2400702,), chunksize=(2400702,)>\n",
       "     density_qc_results                      (time) float32 dask.array<shape=(2400702,), chunksize=(2400702,)>\n",
       "     practical_salinity_qc_executed          (time) float32 dask.array<shape=(2400702,), chunksize=(2400702,)>\n",
       "     practical_salinity_qc_results           (time) float32 dask.array<shape=(2400702,), chunksize=(2400702,)>\n",
       " Attributes:\n",
       "     _NCProperties:                      version=1|netcdflibversion=4.4.1.1|hd...\n",
       "     node:                               SF01A\n",
       "     comment:                            \n",
       "     publisher_email:                    \n",
       "     sourceUrl:                          http://oceanobservatories.org/\n",
       "     collection_method:                  streamed\n",
       "     stream:                             ctdpf_sbe43_sample\n",
       "     featureType:                        point\n",
       "     creator_email:                      \n",
       "     publisher_name:                     Ocean Observatories Initiative\n",
       "     date_modified:                      2018-12-21T03:16:35.428953\n",
       "     keywords:                           \n",
       "     cdm_data_type:                      Point\n",
       "     references:                         More information can be found at http...\n",
       "     Metadata_Conventions:               Unidata Dataset Discovery v1.0\n",
       "     date_created:                       2018-12-21T03:16:35.428947\n",
       "     id:                                 RS01SBPS-SF01A-2A-CTDPFA102-streamed-...\n",
       "     requestUUID:                        c056c958-1963-4b08-8146-28d42ca95005\n",
       "     contributor_role:                   \n",
       "     summary:                            Dataset Generated by Stream Engine fr...\n",
       "     keywords_vocabulary:                \n",
       "     institution:                        Ocean Observatories Initiative\n",
       "     naming_authority:                   org.oceanobservatories\n",
       "     feature_Type:                       point\n",
       "     infoUrl:                            http://oceanobservatories.org/\n",
       "     license:                            \n",
       "     contributor_name:                   \n",
       "     uuid:                               c056c958-1963-4b08-8146-28d42ca95005\n",
       "     creator_name:                       Ocean Observatories Initiative\n",
       "     title:                              Data produced by Stream Engine versio...\n",
       "     sensor:                             2A-CTDPFA102\n",
       "     standard_name_vocabulary:           NetCDF Climate and Forecast (CF) Meta...\n",
       "     acknowledgement:                    \n",
       "     Conventions:                        CF-1.6\n",
       "     project:                            Ocean Observatories Initiative\n",
       "     source:                             RS01SBPS-SF01A-2A-CTDPFA102-streamed-...\n",
       "     publisher_url:                      http://oceanobservatories.org/\n",
       "     creator_url:                        http://oceanobservatories.org/\n",
       "     nodc_template_version:              NODC_NetCDF_TimeSeries_Orthogonal_Tem...\n",
       "     subsite:                            RS01SBPS\n",
       "     processing_level:                   L2\n",
       "     history:                            2018-12-21T03:16:35.428873 generated ...\n",
       "     Manufacturer:                       Sea-Bird Electronics\n",
       "     ModelNumber:                        SBE 16plus V2\n",
       "     SerialNumber:                       16-7205\n",
       "     Description:                        CTD Profiler: CTDPF Series A\n",
       "     FirmwareVersion:                    Not specified.\n",
       "     SoftwareVersion:                    Not specified.\n",
       "     AssetUniqueID:                      ATAPL-66662-00002\n",
       "     Notes:                              Not specified.\n",
       "     Owner:                              University of Washington\n",
       "     RemoteResources:                    []\n",
       "     ShelfLifeExpirationDate:            Not specified.\n",
       "     Mobile:                             False\n",
       "     AssetManagementRecordLastModified:  2018-12-13T13:07:59.906000\n",
       "     time_coverage_start:                2017-01-01T00:00:00.678980\n",
       "     time_coverage_end:                  2017-01-30T01:43:03.019857\n",
       "     time_coverage_resolution:           P1.05S\n",
       "     geospatial_lat_min:                 44.52897\n",
       "     geospatial_lat_max:                 44.52897\n",
       "     geospatial_lat_units:               degrees_north\n",
       "     geospatial_lat_resolution:          0.1\n",
       "     geospatial_lon_min:                 -125.38966\n",
       "     geospatial_lon_max:                 -125.38966\n",
       "     geospatial_lon_units:               degrees_east\n",
       "     geospatial_lon_resolution:          0.1\n",
       "     geospatial_vertical_units:          meters\n",
       "     geospatial_vertical_resolution:     0.1\n",
       "     geospatial_vertical_positive:       down\n",
       "     DODS.strlen:                        36\n",
       "     DODS.dimName:                       string36\n",
       "     DODS_EXTRA.Unlimited_Dimension:     obs]"
      ]
     },
     "execution_count": 34,
     "metadata": {},
     "output_type": "execute_result"
    }
   ],
   "source": [
    "# Now we go from an abstract 'asset' to an xarray (more tangible!... but we do need to understand what happens here)\n",
    "%time\n",
    "x=asset.to_xarray()\n",
    "x"
   ]
  },
  {
   "cell_type": "code",
   "execution_count": 43,
   "metadata": {},
   "outputs": [],
   "source": [
    "# We hope that 'x' is a list of xarray objects that \"know everything\" so let's try and save it as a file and compare the \n",
    "#   file size to the results of the prior save.\n",
    "# x[0]\n",
    "# sadly this does not run properly:\n",
    "# x[0].to_netcdf(data+'ooi/xarray_test_save')\n",
    "# So uncomment it to see the warning and the error"
   ]
  },
  {
   "cell_type": "code",
   "execution_count": 83,
   "metadata": {},
   "outputs": [
    {
     "ename": "SyntaxError",
     "evalue": "invalid syntax (<ipython-input-83-15c23d9c0c40>, line 4)",
     "output_type": "error",
     "traceback": [
      "\u001b[0;36m  File \u001b[0;32m\"<ipython-input-83-15c23d9c0c40>\"\u001b[0;36m, line \u001b[0;32m4\u001b[0m\n\u001b[0;31m    %%time\u001b[0m\n\u001b[0m    ^\u001b[0m\n\u001b[0;31mSyntaxError\u001b[0m\u001b[0;31m:\u001b[0m invalid syntax\n"
     ]
    }
   ],
   "source": [
    "# This cell associates xx (an xarray) with the completed dataset from above.\n",
    "#   ooi.to_xarray() returns a list of Datasets for our instrument; in this case (with the CTD)... kilroy left off here\n",
    "\n",
    "%time\n",
    "DO = None\n",
    "Time = None\n",
    "Pressure = None\n",
    "Temperature = None\n",
    "Salinity = None\n",
    "count = 0\n",
    "# to_xarray() returns a list of xarray Datasets for each instrument (stream?)\n",
    "# since we only have one instrument, we subscript it to unwrap the data\n",
    "# but this code (commented out) throws a logic error 'the truth value of an array...'\n",
    "# so I will replace it with something more direct\n",
    "# while not (DO and Time and Pressure and Temperature and Salinity):\n",
    "#     xx = asset.to_xarray()[0]\n",
    "#     count += 1\n",
    "#     if (0. not in xx.corrected_dissolved_oxygen.values): DO = xx.corrected_dissolved_oxygen.values\n",
    "#     if (0. not in xx.seawater_pressure.values): Pressure = xx.seawater_pressure.values\n",
    "#     if (0. not in xx.time.values): Time = xx.time.values\n",
    "#     if (0. not in xx.seawater_temperature.values): Temperature = xx.seawater_temperature.values\n",
    "#     if (0. not in xx.practical_salinity.values): Salinity = xx.practical_salinity.values\n",
    "#\n",
    "# This section of code seems to work just fine...\n",
    "xx = asset.to_xarray()[0] \n",
    "DO = xx.corrected_dissolved_oxygen.values\n",
    "Pressure = xx.seawater_pressure.values\n",
    "Time = xx.time.values\n",
    "Temperature = xx.seawater_temperature.values\n",
    "Salinity = xx.practical_salinity.values\n",
    "print(DO.any(),Time.any(),Pressure.any(),Temperature.any(), Salinity.any(), sep=\" -- \")\n",
    "\n",
    "# this is throwing an error on the 'while' which makes sense because i don't know how this even works"
   ]
  },
  {
   "cell_type": "markdown",
   "metadata": {},
   "source": [
    "### Now examine these data\n",
    "\n",
    "Everything up to this point has been about a query and downloading data into RAM for further consideration.\n",
    "The numpy arrays are called DO, Pressure, Time, Temperature and Salinity. Let's first make sure that they \n",
    "are all the same length (this will be along the time axis) so we can chart them against one another.\n",
    "Thus we finally get to turn the corner to look at the data and determine if it makes some sort of sense. Hurray!! "
   ]
  },
  {
   "cell_type": "code",
   "execution_count": 64,
   "metadata": {},
   "outputs": [
    {
     "name": "stdout",
     "output_type": "stream",
     "text": [
      "2400702 2400702 2400702 2400702 2400702\n"
     ]
    }
   ],
   "source": [
    "# Notice we requested\n",
    "print(len(DO), len(Pressure), len(Time), len(Temperature), len(Salinity))"
   ]
  },
  {
   "cell_type": "code",
   "execution_count": 65,
   "metadata": {},
   "outputs": [
    {
     "data": {
      "text/plain": [
       "array([110.43246454, 110.23840414, 110.38948527, ..., 261.87093591,\n",
       "       261.84708291, 261.91488265])"
      ]
     },
     "execution_count": 65,
     "metadata": {},
     "output_type": "execute_result"
    }
   ],
   "source": [
    "DO"
   ]
  },
  {
   "cell_type": "code",
   "execution_count": 66,
   "metadata": {},
   "outputs": [
    {
     "data": {
      "text/plain": [
       "array([191.95034858, 191.95463878, 191.96000153, ...,  62.89325688,\n",
       "        62.76685992,  62.69938897])"
      ]
     },
     "execution_count": 66,
     "metadata": {},
     "output_type": "execute_result"
    }
   ],
   "source": [
    "Pressure"
   ]
  },
  {
   "cell_type": "code",
   "execution_count": 67,
   "metadata": {},
   "outputs": [
    {
     "data": {
      "text/plain": [
       "array([3.69221760e+09, 3.69221760e+09, 3.69221760e+09, ...,\n",
       "       3.69472938e+09, 3.69472938e+09, 3.69472938e+09])"
      ]
     },
     "execution_count": 67,
     "metadata": {},
     "output_type": "execute_result"
    }
   ],
   "source": [
    "Time"
   ]
  },
  {
   "cell_type": "code",
   "execution_count": 68,
   "metadata": {},
   "outputs": [
    {
     "data": {
      "text/plain": [
       "array([ 7.73250989,  7.73275569,  7.73263279, ..., 10.29273615,\n",
       "       10.29266959, 10.29273615])"
      ]
     },
     "execution_count": 68,
     "metadata": {},
     "output_type": "execute_result"
    }
   ],
   "source": [
    "Temperature"
   ]
  },
  {
   "cell_type": "code",
   "execution_count": 69,
   "metadata": {},
   "outputs": [
    {
     "data": {
      "text/plain": [
       "array([33.92359397, 33.92295404, 33.92320398, ..., 32.75775149,\n",
       "       32.75767702, 32.757772  ])"
      ]
     },
     "execution_count": 69,
     "metadata": {},
     "output_type": "execute_result"
    }
   ],
   "source": [
    "Salinity"
   ]
  },
  {
   "cell_type": "code",
   "execution_count": 70,
   "metadata": {},
   "outputs": [
    {
     "data": {
      "text/plain": [
       "[<matplotlib.lines.Line2D at 0x7fad39408748>]"
      ]
     },
     "execution_count": 70,
     "metadata": {},
     "output_type": "execute_result"
    },
    {
     "data": {
      "image/png": "[encoded data removed]",
      "text/plain": [
       "<Figure size 432x288 with 1 Axes>"
      ]
     },
     "metadata": {},
     "output_type": "display_data"
    }
   ],
   "source": [
    "from matplotlib import pyplot as plt\n",
    "plt.plot(Pressure)"
   ]
  },
  {
   "cell_type": "code",
   "execution_count": 71,
   "metadata": {},
   "outputs": [
    {
     "data": {
      "text/plain": [
       "[<matplotlib.lines.Line2D at 0x7fad64d44ba8>]"
      ]
     },
     "execution_count": 71,
     "metadata": {},
     "output_type": "execute_result"
    },
    {
     "data": {
      "image/png": "[encoded data removed]",
      "text/plain": [
       "<Figure size 432x288 with 1 Axes>"
      ]
     },
     "metadata": {},
     "output_type": "display_data"
    }
   ],
   "source": [
    "plt.plot(DO)"
   ]
  },
  {
   "cell_type": "code",
   "execution_count": 72,
   "metadata": {},
   "outputs": [
    {
     "data": {
      "text/plain": [
       "[<matplotlib.lines.Line2D at 0x7fad28d19978>]"
      ]
     },
     "execution_count": 72,
     "metadata": {},
     "output_type": "execute_result"
    },
    {
     "data": {
      "image/png": "[encoded data removed]",
      "text/plain": [
       "<Figure size 432x288 with 1 Axes>"
      ]
     },
     "metadata": {},
     "output_type": "display_data"
    }
   ],
   "source": [
    "plt.plot(Salinity)"
   ]
  },
  {
   "cell_type": "code",
   "execution_count": 73,
   "metadata": {},
   "outputs": [
    {
     "data": {
      "text/plain": [
       "[<matplotlib.lines.Line2D at 0x7fad28d7f0b8>]"
      ]
     },
     "execution_count": 73,
     "metadata": {},
     "output_type": "execute_result"
    },
    {
     "data": {
      "image/png": "[encoded data removed]",
      "text/plain": [
       "<Figure size 432x288 with 1 Axes>"
      ]
     },
     "metadata": {},
     "output_type": "display_data"
    }
   ],
   "source": [
    "plt.plot(Temperature)"
   ]
  },
  {
   "cell_type": "code",
   "execution_count": 74,
   "metadata": {},
   "outputs": [
    {
     "data": {
      "text/plain": [
       "[<matplotlib.lines.Line2D at 0x7fad60088f28>]"
      ]
     },
     "execution_count": 74,
     "metadata": {},
     "output_type": "execute_result"
    },
    {
     "data": {
      "image/png": "[encoded data removed]",
      "text/plain": [
       "<Figure size 432x288 with 1 Axes>"
      ]
     },
     "metadata": {},
     "output_type": "display_data"
    }
   ],
   "source": [
    "x[0].corrected_dissolved_oxygen.plot()"
   ]
  },
  {
   "cell_type": "code",
   "execution_count": 75,
   "metadata": {},
   "outputs": [
    {
     "data": {
      "text/plain": [
       "[<matplotlib.lines.Line2D at 0x7fad607b6be0>]"
      ]
     },
     "execution_count": 75,
     "metadata": {},
     "output_type": "execute_result"
    },
    {
     "data": {
      "image/png": "[encoded data removed]",
      "text/plain": [
       "<Figure size 432x288 with 1 Axes>"
      ]
     },
     "metadata": {},
     "output_type": "display_data"
    }
   ],
   "source": [
    "x[0].seawater_temperature.plot()"
   ]
  },
  {
   "cell_type": "code",
   "execution_count": 76,
   "metadata": {},
   "outputs": [
    {
     "data": {
      "text/plain": [
       "[<matplotlib.lines.Line2D at 0x7fad60787e80>]"
      ]
     },
     "execution_count": 76,
     "metadata": {},
     "output_type": "execute_result"
    },
    {
     "data": {
      "image/png": "[encoded data removed]",
      "text/plain": [
       "<Figure size 432x288 with 1 Axes>"
      ]
     },
     "metadata": {},
     "output_type": "display_data"
    }
   ],
   "source": [
    "x[0].practical_salinity.plot()"
   ]
  },
  {
   "cell_type": "code",
   "execution_count": 77,
   "metadata": {},
   "outputs": [
    {
     "data": {
      "text/plain": [
       "False"
      ]
     },
     "execution_count": 77,
     "metadata": {},
     "output_type": "execute_result"
    }
   ],
   "source": [
    "# a reminder on logical evaluation of an expression...\n",
    "bool(None)"
   ]
  },
  {
   "cell_type": "markdown",
   "metadata": {},
   "source": [
    "## Filter Data\n",
    "\n",
    "Xarray enables us to see the data without downloading it into memory. In our case, the size of the entire dataset is more than 16 GB! By filtering, we save RAM and download time."
   ]
  },
  {
   "cell_type": "code",
   "execution_count": 79,
   "metadata": {},
   "outputs": [
    {
     "data": {
      "text/plain": [
       "array([191.95034858, 191.95463878, 191.96000153, 191.96643683,\n",
       "       191.97179958, 191.97501723, 191.97930743, 191.98037363,\n",
       "       191.97822853, 191.97715598])"
      ]
     },
     "execution_count": 79,
     "metadata": {},
     "output_type": "execute_result"
    }
   ],
   "source": [
    "# Since x is a list of (exactly one) xarray datasets I will set 'xa' to simply be that single dataset. \n",
    "# We can verify that data is sensible by taking a peek. Behind the scenes this pulls the relevant data\n",
    "#   from the server.\n",
    "\n",
    "xa = x[0]\n",
    "xa.seawater_pressure.values[:10]"
   ]
  },
  {
   "cell_type": "code",
   "execution_count": 80,
   "metadata": {},
   "outputs": [],
   "source": [
    "# Now let us work towards curtain plots of DO, salinity and temperature\n",
    "namesDO   = [\"seawater_pressure\",\"corrected_dissolved_oxygen\"]\n",
    "namesTemp = [\"seawater_pressure\",\"seawater_temperature\"]\n",
    "namesSal  = [\"seawater_pressure\",\"practical_salinity\"]\n",
    "\n",
    "# the chunk() call cuts the array into pieces along the time dimension for faster processing\n",
    "xbDO   = xa[[\"time\"] + namesDO].chunk(chunks={\"time\" : 1000})\n",
    "xbTemp = xa[[\"time\"] + namesTemp].chunk(chunks={\"time\" : 1000})\n",
    "xbSal  = xa[[\"time\"] + namesSal].chunk(chunks={\"time\" : 1000})"
   ]
  },
  {
   "cell_type": "code",
   "execution_count": 85,
   "metadata": {},
   "outputs": [
    {
     "data": {
      "text/plain": [
       "<xarray.Dataset>\n",
       "Dimensions:                                 (time: 2400702)\n",
       "Coordinates:\n",
       "    obs                                     (time) int32 0 1 2 3 4 5 6 7 8 9 ...\n",
       "  * time                                    (time) float64 3.692e+09 ...\n",
       "    seawater_pressure                       (time) float64 dask.array<shape=(2400702,), chunksize=(2400702,)>\n",
       "    lat                                     (time) float64 dask.array<shape=(2400702,), chunksize=(2400702,)>\n",
       "    lon                                     (time) float64 dask.array<shape=(2400702,), chunksize=(2400702,)>\n",
       "Data variables:\n",
       "    deployment                              (time) int32 dask.array<shape=(2400702,), chunksize=(2400702,)>\n",
       "    id                                      (time) |S64 dask.array<shape=(2400702,), chunksize=(2400702,)>\n",
       "    conductivity                            (time) float64 dask.array<shape=(2400702,), chunksize=(2400702,)>\n",
       "    driver_timestamp                        (time) float64 dask.array<shape=(2400702,), chunksize=(2400702,)>\n",
       "    ext_volt0                               (time) float64 dask.array<shape=(2400702,), chunksize=(2400702,)>\n",
       "    ingestion_timestamp                     (time) float64 dask.array<shape=(2400702,), chunksize=(2400702,)>\n",
       "    internal_timestamp                      (time) float64 dask.array<shape=(2400702,), chunksize=(2400702,)>\n",
       "    port_timestamp                          (time) float64 dask.array<shape=(2400702,), chunksize=(2400702,)>\n",
       "    preferred_timestamp                     (time) object dask.array<shape=(2400702,), chunksize=(2400702,)>\n",
       "    pressure                                (time) float64 dask.array<shape=(2400702,), chunksize=(2400702,)>\n",
       "    pressure_temp                           (time) float64 dask.array<shape=(2400702,), chunksize=(2400702,)>\n",
       "    provenance                              (time) |S64 dask.array<shape=(2400702,), chunksize=(2400702,)>\n",
       "    temperature                             (time) float64 dask.array<shape=(2400702,), chunksize=(2400702,)>\n",
       "    seawater_temperature                    (time) float64 dask.array<shape=(2400702,), chunksize=(2400702,)>\n",
       "    seawater_conductivity                   (time) float64 dask.array<shape=(2400702,), chunksize=(2400702,)>\n",
       "    practical_salinity                      (time) float64 dask.array<shape=(2400702,), chunksize=(2400702,)>\n",
       "    corrected_dissolved_oxygen              (time) float64 dask.array<shape=(2400702,), chunksize=(2400702,)>\n",
       "    density                                 (time) float64 dask.array<shape=(2400702,), chunksize=(2400702,)>\n",
       "    seawater_temperature_qc_executed        (time) float32 dask.array<shape=(2400702,), chunksize=(2400702,)>\n",
       "    seawater_temperature_qc_results         (time) float32 dask.array<shape=(2400702,), chunksize=(2400702,)>\n",
       "    seawater_pressure_qc_executed           (time) float32 dask.array<shape=(2400702,), chunksize=(2400702,)>\n",
       "    seawater_pressure_qc_results            (time) float32 dask.array<shape=(2400702,), chunksize=(2400702,)>\n",
       "    seawater_conductivity_qc_executed       (time) float32 dask.array<shape=(2400702,), chunksize=(2400702,)>\n",
       "    seawater_conductivity_qc_results        (time) float32 dask.array<shape=(2400702,), chunksize=(2400702,)>\n",
       "    corrected_dissolved_oxygen_qc_executed  (time) float32 dask.array<shape=(2400702,), chunksize=(2400702,)>\n",
       "    corrected_dissolved_oxygen_qc_results   (time) float32 dask.array<shape=(2400702,), chunksize=(2400702,)>\n",
       "    density_qc_executed                     (time) float32 dask.array<shape=(2400702,), chunksize=(2400702,)>\n",
       "    density_qc_results                      (time) float32 dask.array<shape=(2400702,), chunksize=(2400702,)>\n",
       "    practical_salinity_qc_executed          (time) float32 dask.array<shape=(2400702,), chunksize=(2400702,)>\n",
       "    practical_salinity_qc_results           (time) float32 dask.array<shape=(2400702,), chunksize=(2400702,)>\n",
       "Attributes:\n",
       "    _NCProperties:                      version=1|netcdflibversion=4.4.1.1|hd...\n",
       "    node:                               SF01A\n",
       "    comment:                            \n",
       "    publisher_email:                    \n",
       "    sourceUrl:                          http://oceanobservatories.org/\n",
       "    collection_method:                  streamed\n",
       "    stream:                             ctdpf_sbe43_sample\n",
       "    featureType:                        point\n",
       "    creator_email:                      \n",
       "    publisher_name:                     Ocean Observatories Initiative\n",
       "    date_modified:                      2018-12-21T03:16:35.428953\n",
       "    keywords:                           \n",
       "    cdm_data_type:                      Point\n",
       "    references:                         More information can be found at http...\n",
       "    Metadata_Conventions:               Unidata Dataset Discovery v1.0\n",
       "    date_created:                       2018-12-21T03:16:35.428947\n",
       "    id:                                 RS01SBPS-SF01A-2A-CTDPFA102-streamed-...\n",
       "    requestUUID:                        c056c958-1963-4b08-8146-28d42ca95005\n",
       "    contributor_role:                   \n",
       "    summary:                            Dataset Generated by Stream Engine fr...\n",
       "    keywords_vocabulary:                \n",
       "    institution:                        Ocean Observatories Initiative\n",
       "    naming_authority:                   org.oceanobservatories\n",
       "    feature_Type:                       point\n",
       "    infoUrl:                            http://oceanobservatories.org/\n",
       "    license:                            \n",
       "    contributor_name:                   \n",
       "    uuid:                               c056c958-1963-4b08-8146-28d42ca95005\n",
       "    creator_name:                       Ocean Observatories Initiative\n",
       "    title:                              Data produced by Stream Engine versio...\n",
       "    sensor:                             2A-CTDPFA102\n",
       "    standard_name_vocabulary:           NetCDF Climate and Forecast (CF) Meta...\n",
       "    acknowledgement:                    \n",
       "    Conventions:                        CF-1.6\n",
       "    project:                            Ocean Observatories Initiative\n",
       "    source:                             RS01SBPS-SF01A-2A-CTDPFA102-streamed-...\n",
       "    publisher_url:                      http://oceanobservatories.org/\n",
       "    creator_url:                        http://oceanobservatories.org/\n",
       "    nodc_template_version:              NODC_NetCDF_TimeSeries_Orthogonal_Tem...\n",
       "    subsite:                            RS01SBPS\n",
       "    processing_level:                   L2\n",
       "    history:                            2018-12-21T03:16:35.428873 generated ...\n",
       "    Manufacturer:                       Sea-Bird Electronics\n",
       "    ModelNumber:                        SBE 16plus V2\n",
       "    SerialNumber:                       16-7205\n",
       "    Description:                        CTD Profiler: CTDPF Series A\n",
       "    FirmwareVersion:                    Not specified.\n",
       "    SoftwareVersion:                    Not specified.\n",
       "    AssetUniqueID:                      ATAPL-66662-00002\n",
       "    Notes:                              Not specified.\n",
       "    Owner:                              University of Washington\n",
       "    RemoteResources:                    []\n",
       "    ShelfLifeExpirationDate:            Not specified.\n",
       "    Mobile:                             False\n",
       "    AssetManagementRecordLastModified:  2018-12-13T13:07:59.906000\n",
       "    time_coverage_start:                2017-01-01T00:00:00.678980\n",
       "    time_coverage_end:                  2017-01-30T01:43:03.019857\n",
       "    time_coverage_resolution:           P1.05S\n",
       "    geospatial_lat_min:                 44.52897\n",
       "    geospatial_lat_max:                 44.52897\n",
       "    geospatial_lat_units:               degrees_north\n",
       "    geospatial_lat_resolution:          0.1\n",
       "    geospatial_lon_min:                 -125.38966\n",
       "    geospatial_lon_max:                 -125.38966\n",
       "    geospatial_lon_units:               degrees_east\n",
       "    geospatial_lon_resolution:          0.1\n",
       "    geospatial_vertical_units:          meters\n",
       "    geospatial_vertical_resolution:     0.1\n",
       "    geospatial_vertical_positive:       down\n",
       "    DODS.strlen:                        36\n",
       "    DODS.dimName:                       string36\n",
       "    DODS_EXTRA.Unlimited_Dimension:     obs"
      ]
     },
     "execution_count": 85,
     "metadata": {},
     "output_type": "execute_result"
    }
   ],
   "source": [
    "# convert netcdf to pandas data frame\n",
    "# now we are actually downloading into RAM so the data are immediately to hand\n",
    "# this does not work: frame = xa.to_dataframe()\n",
    "# I get 'Runtime error: NetCDF: DAP failure'\n",
    "# So let's work with 'xx' which is the xarray we generated earlier \n",
    "xx"
   ]
  },
  {
   "cell_type": "code",
   "execution_count": 88,
   "metadata": {},
   "outputs": [],
   "source": [
    "# This also fails: Dataset object has no attribute DataArray\n",
    "# frame = xx.DataArray.to_dataframe()\n",
    "# This also fails (after a long time):\n",
    "# frame = xx.to_dataframe()"
   ]
  },
  {
   "cell_type": "code",
   "execution_count": 90,
   "metadata": {},
   "outputs": [
    {
     "name": "stdout",
     "output_type": "stream",
     "text": [
      "['seawater_pressure' 'corrected_dissolved_oxygen']\n"
     ]
    },
    {
     "data": {
      "text/html": [
       "<div>\n",
       "<style scoped>\n",
       "    .dataframe tbody tr th:only-of-type {\n",
       "        vertical-align: middle;\n",
       "    }\n",
       "\n",
       "    .dataframe tbody tr th {\n",
       "        vertical-align: top;\n",
       "    }\n",
       "\n",
       "    .dataframe thead th {\n",
       "        text-align: right;\n",
       "    }\n",
       "</style>\n",
       "<table border=\"1\" class=\"dataframe\">\n",
       "  <thead>\n",
       "    <tr style=\"text-align: right;\">\n",
       "      <th></th>\n",
       "      <th>seawater_pressure</th>\n",
       "      <th>corrected_dissolved_oxygen</th>\n",
       "    </tr>\n",
       "    <tr>\n",
       "      <th>obs</th>\n",
       "      <th></th>\n",
       "      <th></th>\n",
       "    </tr>\n",
       "  </thead>\n",
       "  <tbody>\n",
       "    <tr>\n",
       "      <th>0</th>\n",
       "      <td>192.0</td>\n",
       "      <td>110.432465</td>\n",
       "    </tr>\n",
       "    <tr>\n",
       "      <th>1</th>\n",
       "      <td>192.0</td>\n",
       "      <td>110.238404</td>\n",
       "    </tr>\n",
       "    <tr>\n",
       "      <th>2</th>\n",
       "      <td>192.0</td>\n",
       "      <td>110.389485</td>\n",
       "    </tr>\n",
       "    <tr>\n",
       "      <th>3</th>\n",
       "      <td>192.0</td>\n",
       "      <td>110.303398</td>\n",
       "    </tr>\n",
       "    <tr>\n",
       "      <th>4</th>\n",
       "      <td>192.0</td>\n",
       "      <td>110.347652</td>\n",
       "    </tr>\n",
       "    <tr>\n",
       "      <th>5</th>\n",
       "      <td>192.0</td>\n",
       "      <td>110.293146</td>\n",
       "    </tr>\n",
       "    <tr>\n",
       "      <th>6</th>\n",
       "      <td>192.0</td>\n",
       "      <td>110.228702</td>\n",
       "    </tr>\n",
       "    <tr>\n",
       "      <th>7</th>\n",
       "      <td>192.0</td>\n",
       "      <td>110.338320</td>\n",
       "    </tr>\n",
       "    <tr>\n",
       "      <th>8</th>\n",
       "      <td>192.0</td>\n",
       "      <td>110.349999</td>\n",
       "    </tr>\n",
       "    <tr>\n",
       "      <th>9</th>\n",
       "      <td>192.0</td>\n",
       "      <td>110.318421</td>\n",
       "    </tr>\n",
       "    <tr>\n",
       "      <th>10</th>\n",
       "      <td>192.0</td>\n",
       "      <td>110.340399</td>\n",
       "    </tr>\n",
       "    <tr>\n",
       "      <th>11</th>\n",
       "      <td>192.0</td>\n",
       "      <td>110.254368</td>\n",
       "    </tr>\n",
       "    <tr>\n",
       "      <th>12</th>\n",
       "      <td>192.0</td>\n",
       "      <td>110.264623</td>\n",
       "    </tr>\n",
       "    <tr>\n",
       "      <th>13</th>\n",
       "      <td>192.0</td>\n",
       "      <td>110.264244</td>\n",
       "    </tr>\n",
       "    <tr>\n",
       "      <th>14</th>\n",
       "      <td>192.0</td>\n",
       "      <td>110.425348</td>\n",
       "    </tr>\n",
       "    <tr>\n",
       "      <th>15</th>\n",
       "      <td>192.0</td>\n",
       "      <td>110.330160</td>\n",
       "    </tr>\n",
       "    <tr>\n",
       "      <th>16</th>\n",
       "      <td>192.0</td>\n",
       "      <td>110.374935</td>\n",
       "    </tr>\n",
       "    <tr>\n",
       "      <th>17</th>\n",
       "      <td>192.0</td>\n",
       "      <td>110.269619</td>\n",
       "    </tr>\n",
       "    <tr>\n",
       "      <th>18</th>\n",
       "      <td>192.0</td>\n",
       "      <td>110.302996</td>\n",
       "    </tr>\n",
       "    <tr>\n",
       "      <th>19</th>\n",
       "      <td>192.0</td>\n",
       "      <td>110.367354</td>\n",
       "    </tr>\n",
       "    <tr>\n",
       "      <th>20</th>\n",
       "      <td>192.0</td>\n",
       "      <td>110.334641</td>\n",
       "    </tr>\n",
       "    <tr>\n",
       "      <th>21</th>\n",
       "      <td>192.0</td>\n",
       "      <td>110.324547</td>\n",
       "    </tr>\n",
       "    <tr>\n",
       "      <th>22</th>\n",
       "      <td>192.0</td>\n",
       "      <td>110.261040</td>\n",
       "    </tr>\n",
       "    <tr>\n",
       "      <th>23</th>\n",
       "      <td>192.0</td>\n",
       "      <td>110.380362</td>\n",
       "    </tr>\n",
       "    <tr>\n",
       "      <th>24</th>\n",
       "      <td>192.0</td>\n",
       "      <td>110.402058</td>\n",
       "    </tr>\n",
       "    <tr>\n",
       "      <th>25</th>\n",
       "      <td>192.0</td>\n",
       "      <td>110.303734</td>\n",
       "    </tr>\n",
       "    <tr>\n",
       "      <th>26</th>\n",
       "      <td>192.0</td>\n",
       "      <td>110.448830</td>\n",
       "    </tr>\n",
       "    <tr>\n",
       "      <th>27</th>\n",
       "      <td>192.0</td>\n",
       "      <td>110.427235</td>\n",
       "    </tr>\n",
       "    <tr>\n",
       "      <th>28</th>\n",
       "      <td>192.0</td>\n",
       "      <td>110.381719</td>\n",
       "    </tr>\n",
       "    <tr>\n",
       "      <th>29</th>\n",
       "      <td>192.0</td>\n",
       "      <td>110.402529</td>\n",
       "    </tr>\n",
       "    <tr>\n",
       "      <th>...</th>\n",
       "      <td>...</td>\n",
       "      <td>...</td>\n",
       "    </tr>\n",
       "    <tr>\n",
       "      <th>2400672</th>\n",
       "      <td>62.0</td>\n",
       "      <td>262.062951</td>\n",
       "    </tr>\n",
       "    <tr>\n",
       "      <th>2400673</th>\n",
       "      <td>62.0</td>\n",
       "      <td>261.941123</td>\n",
       "    </tr>\n",
       "    <tr>\n",
       "      <th>2400674</th>\n",
       "      <td>62.0</td>\n",
       "      <td>261.942341</td>\n",
       "    </tr>\n",
       "    <tr>\n",
       "      <th>2400675</th>\n",
       "      <td>62.0</td>\n",
       "      <td>262.027063</td>\n",
       "    </tr>\n",
       "    <tr>\n",
       "      <th>2400676</th>\n",
       "      <td>62.0</td>\n",
       "      <td>261.981700</td>\n",
       "    </tr>\n",
       "    <tr>\n",
       "      <th>2400677</th>\n",
       "      <td>63.0</td>\n",
       "      <td>261.906295</td>\n",
       "    </tr>\n",
       "    <tr>\n",
       "      <th>2400678</th>\n",
       "      <td>63.0</td>\n",
       "      <td>261.941218</td>\n",
       "    </tr>\n",
       "    <tr>\n",
       "      <th>2400679</th>\n",
       "      <td>63.0</td>\n",
       "      <td>261.934665</td>\n",
       "    </tr>\n",
       "    <tr>\n",
       "      <th>2400680</th>\n",
       "      <td>63.0</td>\n",
       "      <td>261.997035</td>\n",
       "    </tr>\n",
       "    <tr>\n",
       "      <th>2400681</th>\n",
       "      <td>63.0</td>\n",
       "      <td>261.946178</td>\n",
       "    </tr>\n",
       "    <tr>\n",
       "      <th>2400682</th>\n",
       "      <td>63.0</td>\n",
       "      <td>261.884027</td>\n",
       "    </tr>\n",
       "    <tr>\n",
       "      <th>2400683</th>\n",
       "      <td>63.0</td>\n",
       "      <td>261.931973</td>\n",
       "    </tr>\n",
       "    <tr>\n",
       "      <th>2400684</th>\n",
       "      <td>63.0</td>\n",
       "      <td>261.958485</td>\n",
       "    </tr>\n",
       "    <tr>\n",
       "      <th>2400685</th>\n",
       "      <td>63.0</td>\n",
       "      <td>261.946458</td>\n",
       "    </tr>\n",
       "    <tr>\n",
       "      <th>2400686</th>\n",
       "      <td>63.0</td>\n",
       "      <td>261.957193</td>\n",
       "    </tr>\n",
       "    <tr>\n",
       "      <th>2400687</th>\n",
       "      <td>63.0</td>\n",
       "      <td>262.007147</td>\n",
       "    </tr>\n",
       "    <tr>\n",
       "      <th>2400688</th>\n",
       "      <td>63.0</td>\n",
       "      <td>261.926268</td>\n",
       "    </tr>\n",
       "    <tr>\n",
       "      <th>2400689</th>\n",
       "      <td>63.0</td>\n",
       "      <td>261.949035</td>\n",
       "    </tr>\n",
       "    <tr>\n",
       "      <th>2400690</th>\n",
       "      <td>63.0</td>\n",
       "      <td>261.954757</td>\n",
       "    </tr>\n",
       "    <tr>\n",
       "      <th>2400691</th>\n",
       "      <td>63.0</td>\n",
       "      <td>261.848715</td>\n",
       "    </tr>\n",
       "    <tr>\n",
       "      <th>2400692</th>\n",
       "      <td>63.0</td>\n",
       "      <td>261.985704</td>\n",
       "    </tr>\n",
       "    <tr>\n",
       "      <th>2400693</th>\n",
       "      <td>63.0</td>\n",
       "      <td>261.950710</td>\n",
       "    </tr>\n",
       "    <tr>\n",
       "      <th>2400694</th>\n",
       "      <td>63.0</td>\n",
       "      <td>261.943877</td>\n",
       "    </tr>\n",
       "    <tr>\n",
       "      <th>2400695</th>\n",
       "      <td>63.0</td>\n",
       "      <td>261.904903</td>\n",
       "    </tr>\n",
       "    <tr>\n",
       "      <th>2400696</th>\n",
       "      <td>63.0</td>\n",
       "      <td>261.934488</td>\n",
       "    </tr>\n",
       "    <tr>\n",
       "      <th>2400697</th>\n",
       "      <td>63.0</td>\n",
       "      <td>261.951575</td>\n",
       "    </tr>\n",
       "    <tr>\n",
       "      <th>2400698</th>\n",
       "      <td>63.0</td>\n",
       "      <td>261.855625</td>\n",
       "    </tr>\n",
       "    <tr>\n",
       "      <th>2400699</th>\n",
       "      <td>63.0</td>\n",
       "      <td>261.870936</td>\n",
       "    </tr>\n",
       "    <tr>\n",
       "      <th>2400700</th>\n",
       "      <td>63.0</td>\n",
       "      <td>261.847083</td>\n",
       "    </tr>\n",
       "    <tr>\n",
       "      <th>2400701</th>\n",
       "      <td>63.0</td>\n",
       "      <td>261.914883</td>\n",
       "    </tr>\n",
       "  </tbody>\n",
       "</table>\n",
       "<p>2400702 rows × 2 columns</p>\n",
       "</div>"
      ],
      "text/plain": [
       "         seawater_pressure  corrected_dissolved_oxygen\n",
       "obs                                                   \n",
       "0                    192.0                  110.432465\n",
       "1                    192.0                  110.238404\n",
       "2                    192.0                  110.389485\n",
       "3                    192.0                  110.303398\n",
       "4                    192.0                  110.347652\n",
       "5                    192.0                  110.293146\n",
       "6                    192.0                  110.228702\n",
       "7                    192.0                  110.338320\n",
       "8                    192.0                  110.349999\n",
       "9                    192.0                  110.318421\n",
       "10                   192.0                  110.340399\n",
       "11                   192.0                  110.254368\n",
       "12                   192.0                  110.264623\n",
       "13                   192.0                  110.264244\n",
       "14                   192.0                  110.425348\n",
       "15                   192.0                  110.330160\n",
       "16                   192.0                  110.374935\n",
       "17                   192.0                  110.269619\n",
       "18                   192.0                  110.302996\n",
       "19                   192.0                  110.367354\n",
       "20                   192.0                  110.334641\n",
       "21                   192.0                  110.324547\n",
       "22                   192.0                  110.261040\n",
       "23                   192.0                  110.380362\n",
       "24                   192.0                  110.402058\n",
       "25                   192.0                  110.303734\n",
       "26                   192.0                  110.448830\n",
       "27                   192.0                  110.427235\n",
       "28                   192.0                  110.381719\n",
       "29                   192.0                  110.402529\n",
       "...                    ...                         ...\n",
       "2400672               62.0                  262.062951\n",
       "2400673               62.0                  261.941123\n",
       "2400674               62.0                  261.942341\n",
       "2400675               62.0                  262.027063\n",
       "2400676               62.0                  261.981700\n",
       "2400677               63.0                  261.906295\n",
       "2400678               63.0                  261.941218\n",
       "2400679               63.0                  261.934665\n",
       "2400680               63.0                  261.997035\n",
       "2400681               63.0                  261.946178\n",
       "2400682               63.0                  261.884027\n",
       "2400683               63.0                  261.931973\n",
       "2400684               63.0                  261.958485\n",
       "2400685               63.0                  261.946458\n",
       "2400686               63.0                  261.957193\n",
       "2400687               63.0                  262.007147\n",
       "2400688               63.0                  261.926268\n",
       "2400689               63.0                  261.949035\n",
       "2400690               63.0                  261.954757\n",
       "2400691               63.0                  261.848715\n",
       "2400692               63.0                  261.985704\n",
       "2400693               63.0                  261.950710\n",
       "2400694               63.0                  261.943877\n",
       "2400695               63.0                  261.904903\n",
       "2400696               63.0                  261.934488\n",
       "2400697               63.0                  261.951575\n",
       "2400698               63.0                  261.855625\n",
       "2400699               63.0                  261.870936\n",
       "2400700               63.0                  261.847083\n",
       "2400701               63.0                  261.914883\n",
       "\n",
       "[2400702 rows x 2 columns]"
      ]
     },
     "execution_count": 90,
     "metadata": {},
     "output_type": "execute_result"
    }
   ],
   "source": [
    "# for local datasets\n",
    "import xarray as xr\n",
    "\n",
    "f = data + 'ooi/' + \\\n",
    "  'deployment0003_RS01SBPS-SF01A-2A-CTDPFA102-streamed-ctdpf_sbe43_sample_20170101T000000.678980-20170130T014303.019857.nc'\n",
    "with xr.open_dataset(f) as d:\n",
    "    frame = d.to_dataframe()\n",
    "\n",
    "# round pressure for later, not totally necessary right now\n",
    "frame[\"seawater_pressure\"] = frame[\"seawater_pressure\"].round()\n",
    "# redundant data slicing\n",
    "frame = frame[[\"seawater_pressure\",\"corrected_dissolved_oxygen\"]]\n",
    "print(frame.columns.values)\n",
    "frame"
   ]
  },
  {
   "cell_type": "markdown",
   "metadata": {},
   "source": [
    "## Basic Plot"
   ]
  },
  {
   "cell_type": "code",
   "execution_count": 91,
   "metadata": {
    "scrolled": true
   },
   "outputs": [
    {
     "data": {
      "image/png": "[encoded data removed]",
      "text/plain": [
       "<Figure size 1152x360 with 2 Axes>"
      ]
     },
     "metadata": {},
     "output_type": "display_data"
    }
   ],
   "source": [
    "%matplotlib inline\n",
    "import matplotlib.pyplot as plt\n",
    "import matplotlib.colors as colors\n",
    "import netCDF4  as nc\n",
    "\n",
    "# we are dealing with 7 million points here, the larger this number, cuts down plotting time\n",
    "# plotting every (step)-th point\n",
    "step = 10\n",
    "fig = plt.figure(figsize=(16,5))\n",
    "# array slicing sugar: arr[start:stop:step]\n",
    "s = plt.scatter(nc.num2date(frame.index[::step], \"seconds since 1900-01-01\"), # x\n",
    "            frame[\"seawater_pressure\"][::step], # y\n",
    "            s=10, # thickness\n",
    "            c=frame[\"corrected_dissolved_oxygen\"][::step], # color map\n",
    "            cmap=plt.get_cmap(\"BuPu\")) # color style, see others in matplotlib docs\n",
    "# invert y to show more intuitive perspective\n",
    "# Remember! Pressure is a proxy for depth!\n",
    "plt.gca().invert_yaxis()\n",
    "plt.ylabel(\"Pressure\")\n",
    "plt.xlabel(\"Sample Number\")\n",
    "cb = plt.colorbar(s)\n",
    "cb.set_label(\"Dissolved Oxygen (umol/L)\")"
   ]
  },
  {
   "cell_type": "code",
   "execution_count": 92,
   "metadata": {
    "scrolled": true
   },
   "outputs": [
    {
     "name": "stderr",
     "output_type": "stream",
     "text": [
      "INFO:yodapy.datasources.ooi.m2m_client:Creating M2mClient instance (https://ooinet.oceanobservatories.org)\n"
     ]
    }
   ],
   "source": [
    "ooi2 = OOI()"
   ]
  },
  {
   "cell_type": "code",
   "execution_count": 95,
   "metadata": {},
   "outputs": [
    {
     "data": {
      "text/html": [
       "<div>\n",
       "<style scoped>\n",
       "    .dataframe tbody tr th:only-of-type {\n",
       "        vertical-align: middle;\n",
       "    }\n",
       "\n",
       "    .dataframe tbody tr th {\n",
       "        vertical-align: top;\n",
       "    }\n",
       "\n",
       "    .dataframe thead th {\n",
       "        text-align: right;\n",
       "    }\n",
       "</style>\n",
       "<table border=\"1\" class=\"dataframe\">\n",
       "  <thead>\n",
       "    <tr style=\"text-align: right;\">\n",
       "      <th></th>\n",
       "      <th>reference_designator</th>\n",
       "      <th>name</th>\n",
       "      <th>start_depth</th>\n",
       "      <th>end_depth</th>\n",
       "      <th>current_status</th>\n",
       "      <th>preferred_stream</th>\n",
       "      <th>preferred_parameter</th>\n",
       "      <th>location</th>\n",
       "    </tr>\n",
       "  </thead>\n",
       "  <tbody>\n",
       "    <tr>\n",
       "      <th>1227</th>\n",
       "      <td>RS01SBPS-SF01A-3C-PARADA101</td>\n",
       "      <td>Photosynthetically Available Radiation</td>\n",
       "      <td>5.0</td>\n",
       "      <td>200.0</td>\n",
       "      <td></td>\n",
       "      <td>parad_sa_sample</td>\n",
       "      <td>192</td>\n",
       "      <td>Shallow Profiler</td>\n",
       "    </tr>\n",
       "    <tr>\n",
       "      <th>1228</th>\n",
       "      <td>RS01SBPS-SF01A-3D-SPKIRA101</td>\n",
       "      <td>Spectral Irradiance</td>\n",
       "      <td>5.0</td>\n",
       "      <td>200.0</td>\n",
       "      <td></td>\n",
       "      <td>spkir_data_record</td>\n",
       "      <td>2645</td>\n",
       "      <td>Shallow Profiler</td>\n",
       "    </tr>\n",
       "  </tbody>\n",
       "</table>\n",
       "</div>"
      ],
      "text/plain": [
       "             reference_designator                                    name  \\\n",
       "1227  RS01SBPS-SF01A-3C-PARADA101  Photosynthetically Available Radiation   \n",
       "1228  RS01SBPS-SF01A-3D-SPKIRA101                     Spectral Irradiance   \n",
       "\n",
       "      start_depth  end_depth current_status   preferred_stream  \\\n",
       "1227          5.0      200.0                   parad_sa_sample   \n",
       "1228          5.0      200.0                 spkir_data_record   \n",
       "\n",
       "     preferred_parameter          location  \n",
       "1227                 192  Shallow Profiler  \n",
       "1228                2645  Shallow Profiler  "
      ]
     },
     "execution_count": 95,
     "metadata": {},
     "output_type": "execute_result"
    }
   ],
   "source": [
    "#lis = [list of reference designators]\n",
    "#ooi2.search(region=\"cabled\",instrument=\",\".join(lis))\n",
    "# use the above to search for all the reference designators in the list\n",
    "\n",
    "ooi2.search(region=\"cabled\", instrument=\"RS01SBPS-SF01A-3D-SPKIRA101,RS01SBPS-SF01A-3C-PARADA101\")\n",
    "ooi2.view_instruments()"
   ]
  },
  {
   "cell_type": "code",
   "execution_count": 96,
   "metadata": {},
   "outputs": [
    {
     "data": {
      "text/plain": [
       "{'RS01SBPS-SF01A-3C-PARADA101': [{'beginTime': '2014-10-07T20:47:48.020Z',\n",
       "   'count': 430935411,\n",
       "   'endTime': '2018-12-21T05:46:36.449Z',\n",
       "   'method': 'streamed',\n",
       "   'stream': 'parad_sa_sample'}],\n",
       " 'RS01SBPS-SF01A-3D-SPKIRA101': [{'beginTime': '2014-10-07T20:46:56.410Z',\n",
       "   'count': 382960573,\n",
       "   'endTime': '2018-12-21T05:46:38.951Z',\n",
       "   'method': 'streamed',\n",
       "   'stream': 'spkir_data_record'}]}"
      ]
     },
     "execution_count": 96,
     "metadata": {},
     "output_type": "execute_result"
    },
    {
     "data": {
      "image/png": "[encoded data removed]",
      "text/plain": [
       "<Figure size 1440x720 with 1 Axes>"
      ]
     },
     "metadata": {},
     "output_type": "display_data"
    }
   ],
   "source": [
    "ooi2.data_availability()"
   ]
  },
  {
   "cell_type": "code",
   "execution_count": 97,
   "metadata": {},
   "outputs": [
    {
     "name": "stderr",
     "output_type": "stream",
     "text": [
      "INFO:yodapy.datasources.ooi:Requesting data ...\n",
      "INFO:yodapy.datasources.ooi:Data request complete, please wait for data to be compiled ...\n"
     ]
    },
    {
     "data": {
      "text/plain": [
       "<Data Source: OOI>"
      ]
     },
     "execution_count": 97,
     "metadata": {},
     "output_type": "execute_result"
    }
   ],
   "source": [
    "ooi2.request_data(\n",
    "        begin_date = \"2017-01-01\",\n",
    "        end_date = \"2017-03-01\",\n",
    "        data_type = \"netcdf\")"
   ]
  },
  {
   "cell_type": "code",
   "execution_count": 110,
   "metadata": {
    "scrolled": true
   },
   "outputs": [
    {
     "name": "stderr",
     "output_type": "stream",
     "text": [
      "INFO:yodapy.datasources.ooi:Request (https://opendap.oceanobservatories.org/async_results/rob5@uw.edu/20181221T054649-RS01SBPS-SF01A-3C-PARADA101-streamed-parad_sa_sample) completed.\n",
      "INFO:yodapy.datasources.ooi:Request (https://opendap.oceanobservatories.org/async_results/rob5@uw.edu/20181221T054702-RS01SBPS-SF01A-3D-SPKIRA101-streamed-spkir_data_record) completed.\n",
      "INFO:yodapy.datasources.ooi:Acquiring data from opendap urls ...\n"
     ]
    }
   ],
   "source": [
    "xx2 = ooi2.to_xarray()"
   ]
  },
  {
   "cell_type": "code",
   "execution_count": 112,
   "metadata": {},
   "outputs": [
    {
     "data": {
      "text/plain": [
       "array([3.69221760e+09, 3.69221760e+09, 3.69221760e+09, ...,\n",
       "       3.69472938e+09, 3.69472938e+09, 3.69472938e+09])"
      ]
     },
     "execution_count": 112,
     "metadata": {},
     "output_type": "execute_result"
    }
   ],
   "source": [
    "xx2[0].time.values"
   ]
  },
  {
   "cell_type": "code",
   "execution_count": 113,
   "metadata": {},
   "outputs": [],
   "source": [
    "par = xx2[0].par.values"
   ]
  },
  {
   "cell_type": "code",
   "execution_count": 114,
   "metadata": {},
   "outputs": [],
   "source": [
    "par4 = par[::4]             # this seems a little arcane / un-documented"
   ]
  },
  {
   "cell_type": "code",
   "execution_count": 115,
   "metadata": {},
   "outputs": [],
   "source": [
    "l = len(par4)"
   ]
  },
  {
   "cell_type": "code",
   "execution_count": 116,
   "metadata": {},
   "outputs": [
    {
     "data": {
      "text/plain": [
       "8392448"
      ]
     },
     "execution_count": 116,
     "metadata": {},
     "output_type": "execute_result"
    }
   ],
   "source": [
    "len(xx2[0].time.values)          # 8 million PAR values"
   ]
  },
  {
   "cell_type": "code",
   "execution_count": 117,
   "metadata": {},
   "outputs": [
    {
     "data": {
      "text/plain": [
       "2400702"
      ]
     },
     "execution_count": 117,
     "metadata": {},
     "output_type": "execute_result"
    }
   ],
   "source": [
    "# now reverting back to the original CTD data in xx\n",
    "len(xx.time.values)"
   ]
  },
  {
   "cell_type": "code",
   "execution_count": 118,
   "metadata": {},
   "outputs": [
    {
     "data": {
      "text/plain": [
       "array([3.69221760e+09, 3.69221760e+09, 3.69221760e+09, ...,\n",
       "       3.69442679e+09, 3.69442679e+09, 3.69442679e+09])"
      ]
     },
     "execution_count": 118,
     "metadata": {},
     "output_type": "execute_result"
    }
   ],
   "source": [
    "xx.time.values[:l]"
   ]
  },
  {
   "cell_type": "code",
   "execution_count": 119,
   "metadata": {},
   "outputs": [],
   "source": [
    "ind = frame.index[:l]"
   ]
  },
  {
   "cell_type": "code",
   "execution_count": 120,
   "metadata": {},
   "outputs": [],
   "source": [
    "p = frame[\"seawater_pressure\"].values[:l]"
   ]
  },
  {
   "cell_type": "code",
   "execution_count": 121,
   "metadata": {},
   "outputs": [],
   "source": [
    "from matplotlib.colors import Normalize as n"
   ]
  },
  {
   "cell_type": "code",
   "execution_count": 122,
   "metadata": {},
   "outputs": [
    {
     "data": {
      "text/plain": [
       "2098112"
      ]
     },
     "execution_count": 122,
     "metadata": {},
     "output_type": "execute_result"
    }
   ],
   "source": [
    "len(ind)"
   ]
  },
  {
   "cell_type": "code",
   "execution_count": 123,
   "metadata": {},
   "outputs": [
    {
     "data": {
      "image/png": "[encoded data removed]",
      "text/plain": [
       "<Figure size 576x360 with 2 Axes>"
      ]
     },
     "metadata": {},
     "output_type": "display_data"
    }
   ],
   "source": [
    "%matplotlib inline\n",
    "import matplotlib.pyplot as plt\n",
    "import numpy as np\n",
    "import matplotlib.colors as colors\n",
    "from matplotlib.colors import Normalize as n\n",
    "import netCDF4  as nc\n",
    "\n",
    "# we are dealing with 7 million points here, the larger this number, cuts down plotting time\n",
    "# plotting every (step)-th point\n",
    "nor = n(vmax=2.17e9, vmin=min(par4))\n",
    "step = 1\n",
    "fig = plt.figure(figsize=(8,5))\n",
    "# array slicing sugar: arr[start:stop:step]\n",
    "s = plt.scatter(ind[200000:400000:step], # x\n",
    "            p[200000:400000:step], # y\n",
    "            s=10, # thickness\n",
    "            c=par4[200000:400000:step], # color map\n",
    "            cmap=plt.get_cmap(\"viridis\"),\n",
    "            norm=nor) # color style, see others in matplotlib docs\n",
    "# invert y to show more intuitive perspective\n",
    "# Remember! Pressure is a proxy for depth!\n",
    "plt.gca().invert_yaxis()\n",
    "plt.ylabel(\"Pressure\")\n",
    "plt.xlabel(\"Sample Number\")\n",
    "cb = plt.colorbar(s)\n",
    "cb.set_label(\"Dissolved Oxygen (umol/L)\")"
   ]
  },
  {
   "cell_type": "code",
   "execution_count": 125,
   "metadata": {
    "scrolled": true
   },
   "outputs": [
    {
     "data": {
      "text/plain": [
       "Int64Index([      0,       1,       2,       3,       4,       5,       6,\n",
       "                  7,       8,       9,\n",
       "            ...\n",
       "            2098102, 2098103, 2098104, 2098105, 2098106, 2098107, 2098108,\n",
       "            2098109, 2098110, 2098111],\n",
       "           dtype='int64', name='obs', length=2098112)"
      ]
     },
     "execution_count": 125,
     "metadata": {},
     "output_type": "execute_result"
    }
   ],
   "source": [
    "ind"
   ]
  },
  {
   "cell_type": "code",
   "execution_count": 126,
   "metadata": {},
   "outputs": [
    {
     "data": {
      "text/plain": [
       "array([[0., 0., 0., ..., 0., 0., 0.],\n",
       "       [0., 0., 0., ..., 0., 0., 0.],\n",
       "       [0., 0., 0., ..., 0., 0., 0.],\n",
       "       ...,\n",
       "       [0., 0., 0., ..., 0., 0., 0.],\n",
       "       [0., 0., 0., ..., 0., 0., 0.],\n",
       "       [0., 0., 0., ..., 0., 0., 0.]])"
      ]
     },
     "execution_count": 126,
     "metadata": {},
     "output_type": "execute_result"
    }
   ],
   "source": [
    "xx2[1].spkir_downwelling_vector.values"
   ]
  },
  {
   "cell_type": "code",
   "execution_count": 127,
   "metadata": {},
   "outputs": [
    {
     "data": {
      "text/plain": [
       "array([192., 192., 192., ..., 171., 171., 171.])"
      ]
     },
     "execution_count": 127,
     "metadata": {},
     "output_type": "execute_result"
    }
   ],
   "source": [
    "p"
   ]
  },
  {
   "cell_type": "code",
   "execution_count": 128,
   "metadata": {},
   "outputs": [
    {
     "data": {
      "text/plain": [
       "array([2.15748518e+09, 2.15747898e+09, 2.15746797e+09, ...,\n",
       "       2.15746432e+09, 2.15746842e+09, 2.15745453e+09])"
      ]
     },
     "execution_count": 128,
     "metadata": {},
     "output_type": "execute_result"
    }
   ],
   "source": [
    "par"
   ]
  },
  {
   "cell_type": "code",
   "execution_count": 129,
   "metadata": {},
   "outputs": [
    {
     "name": "stderr",
     "output_type": "stream",
     "text": [
      "INFO:yodapy.datasources.ooi.m2m_client:Creating M2mClient instance (https://ooinet.oceanobservatories.org)\n"
     ]
    },
    {
     "data": {
      "text/html": [
       "<div>\n",
       "<style scoped>\n",
       "    .dataframe tbody tr th:only-of-type {\n",
       "        vertical-align: middle;\n",
       "    }\n",
       "\n",
       "    .dataframe tbody tr th {\n",
       "        vertical-align: top;\n",
       "    }\n",
       "\n",
       "    .dataframe thead th {\n",
       "        text-align: right;\n",
       "    }\n",
       "</style>\n",
       "<table border=\"1\" class=\"dataframe\">\n",
       "  <thead>\n",
       "    <tr style=\"text-align: right;\">\n",
       "      <th></th>\n",
       "      <th>reference_designator</th>\n",
       "      <th>name</th>\n",
       "      <th>start_depth</th>\n",
       "      <th>end_depth</th>\n",
       "      <th>current_status</th>\n",
       "      <th>preferred_stream</th>\n",
       "      <th>preferred_parameter</th>\n",
       "      <th>location</th>\n",
       "    </tr>\n",
       "  </thead>\n",
       "  <tbody>\n",
       "    <tr>\n",
       "      <th>1222</th>\n",
       "      <td>RS01SBPS-SF01A-2A-CTDPFA102</td>\n",
       "      <td>CTD</td>\n",
       "      <td>5.0</td>\n",
       "      <td>200.0</td>\n",
       "      <td></td>\n",
       "      <td>ctdpf_sbe43_sample</td>\n",
       "      <td>908</td>\n",
       "      <td>Shallow Profiler</td>\n",
       "    </tr>\n",
       "  </tbody>\n",
       "</table>\n",
       "</div>"
      ],
      "text/plain": [
       "             reference_designator name  start_depth  end_depth current_status  \\\n",
       "1222  RS01SBPS-SF01A-2A-CTDPFA102  CTD          5.0      200.0                  \n",
       "\n",
       "        preferred_stream preferred_parameter          location  \n",
       "1222  ctdpf_sbe43_sample                 908  Shallow Profiler  "
      ]
     },
     "execution_count": 129,
     "metadata": {},
     "output_type": "execute_result"
    }
   ],
   "source": [
    "ooi3 = OOI()\n",
    "ooi3.search(region=\"cabled\",instrument=\"RS01SBPS-SF01A-4A-NUTNRA101\")\n",
    "ooi.view_instruments()"
   ]
  },
  {
   "cell_type": "code",
   "execution_count": 130,
   "metadata": {},
   "outputs": [
    {
     "name": "stderr",
     "output_type": "stream",
     "text": [
      "INFO:yodapy.datasources.ooi:Requesting data ...\n",
      "INFO:yodapy.datasources.ooi:Data request complete, please wait for data to be compiled ...\n"
     ]
    },
    {
     "data": {
      "text/plain": [
       "<Data Source: OOI>"
      ]
     },
     "execution_count": 130,
     "metadata": {},
     "output_type": "execute_result"
    }
   ],
   "source": [
    "ooi3.request_data(\n",
    "    begin_date = \"2017-01-01\",\n",
    "    end_date = \"2017-03-01\",\n",
    "    data_type = \"netcdf\")"
   ]
  },
  {
   "cell_type": "code",
   "execution_count": 131,
   "metadata": {},
   "outputs": [
    {
     "name": "stderr",
     "output_type": "stream",
     "text": [
      "WARNING:yodapy.datasources.ooi:Your data (https://opendap.oceanobservatories.org/async_results/rob5@uw.edu/20181221T061033-RS01SBPS-SF01A-4A-NUTNRA101-streamed-nutnr_a_sample) is still compiling... Please wait.\n",
      "INFO:yodapy.datasources.ooi:Time elapsed: 10s\n",
      "WARNING:yodapy.datasources.ooi:Your data (https://opendap.oceanobservatories.org/async_results/rob5@uw.edu/20181221T061033-RS01SBPS-SF01A-4A-NUTNRA101-streamed-nutnr_a_sample) is still compiling... Please wait.\n",
      "INFO:yodapy.datasources.ooi:Time elapsed: 20s\n",
      "WARNING:yodapy.datasources.ooi:Your data (https://opendap.oceanobservatories.org/async_results/rob5@uw.edu/20181221T061033-RS01SBPS-SF01A-4A-NUTNRA101-streamed-nutnr_a_sample) is still compiling... Please wait.\n",
      "INFO:yodapy.datasources.ooi:Time elapsed: 30s\n",
      "WARNING:yodapy.datasources.ooi:Your data (https://opendap.oceanobservatories.org/async_results/rob5@uw.edu/20181221T061033-RS01SBPS-SF01A-4A-NUTNRA101-streamed-nutnr_a_sample) is still compiling... Please wait.\n",
      "INFO:yodapy.datasources.ooi:Time elapsed: 41s\n",
      "WARNING:yodapy.datasources.ooi:Your data (https://opendap.oceanobservatories.org/async_results/rob5@uw.edu/20181221T061033-RS01SBPS-SF01A-4A-NUTNRA101-streamed-nutnr_a_sample) is still compiling... Please wait.\n",
      "INFO:yodapy.datasources.ooi:Time elapsed: 51s\n",
      "WARNING:yodapy.datasources.ooi:Your data (https://opendap.oceanobservatories.org/async_results/rob5@uw.edu/20181221T061033-RS01SBPS-SF01A-4A-NUTNRA101-streamed-nutnr_a_sample) is still compiling... Please wait.\n",
      "INFO:yodapy.datasources.ooi:Time elapsed: 62s\n",
      "INFO:yodapy.datasources.ooi:Request (https://opendap.oceanobservatories.org/async_results/rob5@uw.edu/20181221T061033-RS01SBPS-SF01A-4A-NUTNRA101-streamed-nutnr_a_sample) completed.\n",
      "INFO:yodapy.datasources.ooi:Acquiring data from opendap urls ...\n"
     ]
    }
   ],
   "source": [
    "nitrate = ooi3.to_xarray()[0]"
   ]
  },
  {
   "cell_type": "code",
   "execution_count": 133,
   "metadata": {},
   "outputs": [
    {
     "data": {
      "text/plain": [
       "array([28.13196659, 27.96947343, 28.11719832, ...,  4.48194273,\n",
       "        4.60688412,  4.38088833])"
      ]
     },
     "execution_count": 133,
     "metadata": {},
     "output_type": "execute_result"
    }
   ],
   "source": [
    "nitrate.salinity_corrected_nitrate.values"
   ]
  },
  {
   "cell_type": "code",
   "execution_count": 134,
   "metadata": {},
   "outputs": [],
   "source": [
    "salnit = nitrate.salinity_corrected_nitrate.values"
   ]
  },
  {
   "cell_type": "code",
   "execution_count": 135,
   "metadata": {},
   "outputs": [
    {
     "data": {
      "text/plain": [
       "array([3.69224414e+09, 3.69224414e+09, 3.69224418e+09, ...,\n",
       "       3.69471518e+09, 3.69471522e+09, 3.69471522e+09])"
      ]
     },
     "execution_count": 135,
     "metadata": {},
     "output_type": "execute_result"
    }
   ],
   "source": [
    "nitrate.time.values"
   ]
  },
  {
   "cell_type": "code",
   "execution_count": 137,
   "metadata": {},
   "outputs": [],
   "source": [
    "nframe = nitrate.to_dataframe()"
   ]
  },
  {
   "cell_type": "code",
   "execution_count": 139,
   "metadata": {},
   "outputs": [
    {
     "ename": "RuntimeError",
     "evalue": "NetCDF: DAP failure",
     "output_type": "error",
     "traceback": [
      "\u001b[0;31m---------------------------------------------------------------------------\u001b[0m",
      "\u001b[0;31mRuntimeError\u001b[0m                              Traceback (most recent call last)",
      "\u001b[0;32m<ipython-input-139-78ab5c44d09a>\u001b[0m in \u001b[0;36m<module>\u001b[0;34m()\u001b[0m\n\u001b[0;32m----> 1\u001b[0;31m \u001b[0mctdframe\u001b[0m \u001b[0;34m=\u001b[0m \u001b[0mxx\u001b[0m\u001b[0;34m.\u001b[0m\u001b[0mto_dataframe\u001b[0m\u001b[0;34m(\u001b[0m\u001b[0;34m)\u001b[0m\u001b[0;34m\u001b[0m\u001b[0m\n\u001b[0m",
      "\u001b[0;32m/opt/conda/lib/python3.6/site-packages/xarray/core/dataset.py\u001b[0m in \u001b[0;36mto_dataframe\u001b[0;34m(self)\u001b[0m\n\u001b[1;32m   2913\u001b[0m         \u001b[0mthis\u001b[0m \u001b[0mdataset\u001b[0m\u001b[0;31m'\u001b[0m\u001b[0ms\u001b[0m \u001b[0mindices\u001b[0m\u001b[0;34m.\u001b[0m\u001b[0;34m\u001b[0m\u001b[0m\n\u001b[1;32m   2914\u001b[0m         \"\"\"\n\u001b[0;32m-> 2915\u001b[0;31m         \u001b[0;32mreturn\u001b[0m \u001b[0mself\u001b[0m\u001b[0;34m.\u001b[0m\u001b[0m_to_dataframe\u001b[0m\u001b[0;34m(\u001b[0m\u001b[0mself\u001b[0m\u001b[0;34m.\u001b[0m\u001b[0mdims\u001b[0m\u001b[0;34m)\u001b[0m\u001b[0;34m\u001b[0m\u001b[0m\n\u001b[0m\u001b[1;32m   2916\u001b[0m \u001b[0;34m\u001b[0m\u001b[0m\n\u001b[1;32m   2917\u001b[0m     \u001b[0;34m@\u001b[0m\u001b[0mclassmethod\u001b[0m\u001b[0;34m\u001b[0m\u001b[0m\n",
      "\u001b[0;32m/opt/conda/lib/python3.6/site-packages/xarray/core/dataset.py\u001b[0m in \u001b[0;36m_to_dataframe\u001b[0;34m(self, ordered_dims)\u001b[0m\n\u001b[1;32m   2902\u001b[0m         \u001b[0mcolumns\u001b[0m \u001b[0;34m=\u001b[0m \u001b[0;34m[\u001b[0m\u001b[0mk\u001b[0m \u001b[0;32mfor\u001b[0m \u001b[0mk\u001b[0m \u001b[0;32min\u001b[0m \u001b[0mself\u001b[0m\u001b[0;34m.\u001b[0m\u001b[0mvariables\u001b[0m \u001b[0;32mif\u001b[0m \u001b[0mk\u001b[0m \u001b[0;32mnot\u001b[0m \u001b[0;32min\u001b[0m \u001b[0mself\u001b[0m\u001b[0;34m.\u001b[0m\u001b[0mdims\u001b[0m\u001b[0;34m]\u001b[0m\u001b[0;34m\u001b[0m\u001b[0m\n\u001b[1;32m   2903\u001b[0m         data = [self._variables[k].set_dims(ordered_dims).values.reshape(-1)\n\u001b[0;32m-> 2904\u001b[0;31m                 for k in columns]\n\u001b[0m\u001b[1;32m   2905\u001b[0m         \u001b[0mindex\u001b[0m \u001b[0;34m=\u001b[0m \u001b[0mself\u001b[0m\u001b[0;34m.\u001b[0m\u001b[0mcoords\u001b[0m\u001b[0;34m.\u001b[0m\u001b[0mto_index\u001b[0m\u001b[0;34m(\u001b[0m\u001b[0mordered_dims\u001b[0m\u001b[0;34m)\u001b[0m\u001b[0;34m\u001b[0m\u001b[0m\n\u001b[1;32m   2906\u001b[0m         \u001b[0;32mreturn\u001b[0m \u001b[0mpd\u001b[0m\u001b[0;34m.\u001b[0m\u001b[0mDataFrame\u001b[0m\u001b[0;34m(\u001b[0m\u001b[0mOrderedDict\u001b[0m\u001b[0;34m(\u001b[0m\u001b[0mzip\u001b[0m\u001b[0;34m(\u001b[0m\u001b[0mcolumns\u001b[0m\u001b[0;34m,\u001b[0m \u001b[0mdata\u001b[0m\u001b[0;34m)\u001b[0m\u001b[0;34m)\u001b[0m\u001b[0;34m,\u001b[0m \u001b[0mindex\u001b[0m\u001b[0;34m=\u001b[0m\u001b[0mindex\u001b[0m\u001b[0;34m)\u001b[0m\u001b[0;34m\u001b[0m\u001b[0m\n",
      "\u001b[0;32m/opt/conda/lib/python3.6/site-packages/xarray/core/dataset.py\u001b[0m in \u001b[0;36m<listcomp>\u001b[0;34m(.0)\u001b[0m\n\u001b[1;32m   2902\u001b[0m         \u001b[0mcolumns\u001b[0m \u001b[0;34m=\u001b[0m \u001b[0;34m[\u001b[0m\u001b[0mk\u001b[0m \u001b[0;32mfor\u001b[0m \u001b[0mk\u001b[0m \u001b[0;32min\u001b[0m \u001b[0mself\u001b[0m\u001b[0;34m.\u001b[0m\u001b[0mvariables\u001b[0m \u001b[0;32mif\u001b[0m \u001b[0mk\u001b[0m \u001b[0;32mnot\u001b[0m \u001b[0;32min\u001b[0m \u001b[0mself\u001b[0m\u001b[0;34m.\u001b[0m\u001b[0mdims\u001b[0m\u001b[0;34m]\u001b[0m\u001b[0;34m\u001b[0m\u001b[0m\n\u001b[1;32m   2903\u001b[0m         data = [self._variables[k].set_dims(ordered_dims).values.reshape(-1)\n\u001b[0;32m-> 2904\u001b[0;31m                 for k in columns]\n\u001b[0m\u001b[1;32m   2905\u001b[0m         \u001b[0mindex\u001b[0m \u001b[0;34m=\u001b[0m \u001b[0mself\u001b[0m\u001b[0;34m.\u001b[0m\u001b[0mcoords\u001b[0m\u001b[0;34m.\u001b[0m\u001b[0mto_index\u001b[0m\u001b[0;34m(\u001b[0m\u001b[0mordered_dims\u001b[0m\u001b[0;34m)\u001b[0m\u001b[0;34m\u001b[0m\u001b[0m\n\u001b[1;32m   2906\u001b[0m         \u001b[0;32mreturn\u001b[0m \u001b[0mpd\u001b[0m\u001b[0;34m.\u001b[0m\u001b[0mDataFrame\u001b[0m\u001b[0;34m(\u001b[0m\u001b[0mOrderedDict\u001b[0m\u001b[0;34m(\u001b[0m\u001b[0mzip\u001b[0m\u001b[0;34m(\u001b[0m\u001b[0mcolumns\u001b[0m\u001b[0;34m,\u001b[0m \u001b[0mdata\u001b[0m\u001b[0;34m)\u001b[0m\u001b[0;34m)\u001b[0m\u001b[0;34m,\u001b[0m \u001b[0mindex\u001b[0m\u001b[0;34m=\u001b[0m\u001b[0mindex\u001b[0m\u001b[0;34m)\u001b[0m\u001b[0;34m\u001b[0m\u001b[0m\n",
      "\u001b[0;32m/opt/conda/lib/python3.6/site-packages/xarray/core/variable.py\u001b[0m in \u001b[0;36mvalues\u001b[0;34m(self)\u001b[0m\n\u001b[1;32m    385\u001b[0m     \u001b[0;32mdef\u001b[0m \u001b[0mvalues\u001b[0m\u001b[0;34m(\u001b[0m\u001b[0mself\u001b[0m\u001b[0;34m)\u001b[0m\u001b[0;34m:\u001b[0m\u001b[0;34m\u001b[0m\u001b[0m\n\u001b[1;32m    386\u001b[0m         \u001b[0;34m\"\"\"The variable's data as a numpy.ndarray\"\"\"\u001b[0m\u001b[0;34m\u001b[0m\u001b[0m\n\u001b[0;32m--> 387\u001b[0;31m         \u001b[0;32mreturn\u001b[0m \u001b[0m_as_array_or_item\u001b[0m\u001b[0;34m(\u001b[0m\u001b[0mself\u001b[0m\u001b[0;34m.\u001b[0m\u001b[0m_data\u001b[0m\u001b[0;34m)\u001b[0m\u001b[0;34m\u001b[0m\u001b[0m\n\u001b[0m\u001b[1;32m    388\u001b[0m \u001b[0;34m\u001b[0m\u001b[0m\n\u001b[1;32m    389\u001b[0m     \u001b[0;34m@\u001b[0m\u001b[0mvalues\u001b[0m\u001b[0;34m.\u001b[0m\u001b[0msetter\u001b[0m\u001b[0;34m\u001b[0m\u001b[0m\n",
      "\u001b[0;32m/opt/conda/lib/python3.6/site-packages/xarray/core/variable.py\u001b[0m in \u001b[0;36m_as_array_or_item\u001b[0;34m(data)\u001b[0m\n\u001b[1;32m    209\u001b[0m     \u001b[0mTODO\u001b[0m\u001b[0;34m:\u001b[0m \u001b[0mremove\u001b[0m \u001b[0mthis\u001b[0m \u001b[0;34m(\u001b[0m\u001b[0mreplace\u001b[0m \u001b[0;32mwith\u001b[0m \u001b[0mnp\u001b[0m\u001b[0;34m.\u001b[0m\u001b[0masarray\u001b[0m\u001b[0;34m)\u001b[0m \u001b[0monce\u001b[0m \u001b[0mthese\u001b[0m \u001b[0missues\u001b[0m \u001b[0mare\u001b[0m \u001b[0mfixed\u001b[0m\u001b[0;34m\u001b[0m\u001b[0m\n\u001b[1;32m    210\u001b[0m     \"\"\"\n\u001b[0;32m--> 211\u001b[0;31m     \u001b[0mdata\u001b[0m \u001b[0;34m=\u001b[0m \u001b[0mnp\u001b[0m\u001b[0;34m.\u001b[0m\u001b[0masarray\u001b[0m\u001b[0;34m(\u001b[0m\u001b[0mdata\u001b[0m\u001b[0;34m)\u001b[0m\u001b[0;34m\u001b[0m\u001b[0m\n\u001b[0m\u001b[1;32m    212\u001b[0m     \u001b[0;32mif\u001b[0m \u001b[0mdata\u001b[0m\u001b[0;34m.\u001b[0m\u001b[0mndim\u001b[0m \u001b[0;34m==\u001b[0m \u001b[0;36m0\u001b[0m\u001b[0;34m:\u001b[0m\u001b[0;34m\u001b[0m\u001b[0m\n\u001b[1;32m    213\u001b[0m         \u001b[0;32mif\u001b[0m \u001b[0mdata\u001b[0m\u001b[0;34m.\u001b[0m\u001b[0mdtype\u001b[0m\u001b[0;34m.\u001b[0m\u001b[0mkind\u001b[0m \u001b[0;34m==\u001b[0m \u001b[0;34m'M'\u001b[0m\u001b[0;34m:\u001b[0m\u001b[0;34m\u001b[0m\u001b[0m\n",
      "\u001b[0;32m/opt/conda/lib/python3.6/site-packages/numpy/core/numeric.py\u001b[0m in \u001b[0;36masarray\u001b[0;34m(a, dtype, order)\u001b[0m\n\u001b[1;32m    490\u001b[0m \u001b[0;34m\u001b[0m\u001b[0m\n\u001b[1;32m    491\u001b[0m     \"\"\"\n\u001b[0;32m--> 492\u001b[0;31m     \u001b[0;32mreturn\u001b[0m \u001b[0marray\u001b[0m\u001b[0;34m(\u001b[0m\u001b[0ma\u001b[0m\u001b[0;34m,\u001b[0m \u001b[0mdtype\u001b[0m\u001b[0;34m,\u001b[0m \u001b[0mcopy\u001b[0m\u001b[0;34m=\u001b[0m\u001b[0;32mFalse\u001b[0m\u001b[0;34m,\u001b[0m \u001b[0morder\u001b[0m\u001b[0;34m=\u001b[0m\u001b[0morder\u001b[0m\u001b[0;34m)\u001b[0m\u001b[0;34m\u001b[0m\u001b[0m\n\u001b[0m\u001b[1;32m    493\u001b[0m \u001b[0;34m\u001b[0m\u001b[0m\n\u001b[1;32m    494\u001b[0m \u001b[0;34m\u001b[0m\u001b[0m\n",
      "\u001b[0;32m/opt/conda/lib/python3.6/site-packages/dask/array/core.py\u001b[0m in \u001b[0;36m__array__\u001b[0;34m(self, dtype, **kwargs)\u001b[0m\n\u001b[1;32m   1254\u001b[0m \u001b[0;34m\u001b[0m\u001b[0m\n\u001b[1;32m   1255\u001b[0m     \u001b[0;32mdef\u001b[0m \u001b[0m__array__\u001b[0m\u001b[0;34m(\u001b[0m\u001b[0mself\u001b[0m\u001b[0;34m,\u001b[0m \u001b[0mdtype\u001b[0m\u001b[0;34m=\u001b[0m\u001b[0;32mNone\u001b[0m\u001b[0;34m,\u001b[0m \u001b[0;34m**\u001b[0m\u001b[0mkwargs\u001b[0m\u001b[0;34m)\u001b[0m\u001b[0;34m:\u001b[0m\u001b[0;34m\u001b[0m\u001b[0m\n\u001b[0;32m-> 1256\u001b[0;31m         \u001b[0mx\u001b[0m \u001b[0;34m=\u001b[0m \u001b[0mself\u001b[0m\u001b[0;34m.\u001b[0m\u001b[0mcompute\u001b[0m\u001b[0;34m(\u001b[0m\u001b[0;34m)\u001b[0m\u001b[0;34m\u001b[0m\u001b[0m\n\u001b[0m\u001b[1;32m   1257\u001b[0m         \u001b[0;32mif\u001b[0m \u001b[0mdtype\u001b[0m \u001b[0;32mand\u001b[0m \u001b[0mx\u001b[0m\u001b[0;34m.\u001b[0m\u001b[0mdtype\u001b[0m \u001b[0;34m!=\u001b[0m \u001b[0mdtype\u001b[0m\u001b[0;34m:\u001b[0m\u001b[0;34m\u001b[0m\u001b[0m\n\u001b[1;32m   1258\u001b[0m             \u001b[0mx\u001b[0m \u001b[0;34m=\u001b[0m \u001b[0mx\u001b[0m\u001b[0;34m.\u001b[0m\u001b[0mastype\u001b[0m\u001b[0;34m(\u001b[0m\u001b[0mdtype\u001b[0m\u001b[0;34m)\u001b[0m\u001b[0;34m\u001b[0m\u001b[0m\n",
      "\u001b[0;32m/opt/conda/lib/python3.6/site-packages/dask/base.py\u001b[0m in \u001b[0;36mcompute\u001b[0;34m(self, **kwargs)\u001b[0m\n\u001b[1;32m    154\u001b[0m         \u001b[0mdask\u001b[0m\u001b[0;34m.\u001b[0m\u001b[0mbase\u001b[0m\u001b[0;34m.\u001b[0m\u001b[0mcompute\u001b[0m\u001b[0;34m\u001b[0m\u001b[0m\n\u001b[1;32m    155\u001b[0m         \"\"\"\n\u001b[0;32m--> 156\u001b[0;31m         \u001b[0;34m(\u001b[0m\u001b[0mresult\u001b[0m\u001b[0;34m,\u001b[0m\u001b[0;34m)\u001b[0m \u001b[0;34m=\u001b[0m \u001b[0mcompute\u001b[0m\u001b[0;34m(\u001b[0m\u001b[0mself\u001b[0m\u001b[0;34m,\u001b[0m \u001b[0mtraverse\u001b[0m\u001b[0;34m=\u001b[0m\u001b[0;32mFalse\u001b[0m\u001b[0;34m,\u001b[0m \u001b[0;34m**\u001b[0m\u001b[0mkwargs\u001b[0m\u001b[0;34m)\u001b[0m\u001b[0;34m\u001b[0m\u001b[0m\n\u001b[0m\u001b[1;32m    157\u001b[0m         \u001b[0;32mreturn\u001b[0m \u001b[0mresult\u001b[0m\u001b[0;34m\u001b[0m\u001b[0m\n\u001b[1;32m    158\u001b[0m \u001b[0;34m\u001b[0m\u001b[0m\n",
      "\u001b[0;32m/opt/conda/lib/python3.6/site-packages/dask/base.py\u001b[0m in \u001b[0;36mcompute\u001b[0;34m(*args, **kwargs)\u001b[0m\n\u001b[1;32m    400\u001b[0m     \u001b[0mkeys\u001b[0m \u001b[0;34m=\u001b[0m \u001b[0;34m[\u001b[0m\u001b[0mx\u001b[0m\u001b[0;34m.\u001b[0m\u001b[0m__dask_keys__\u001b[0m\u001b[0;34m(\u001b[0m\u001b[0;34m)\u001b[0m \u001b[0;32mfor\u001b[0m \u001b[0mx\u001b[0m \u001b[0;32min\u001b[0m \u001b[0mcollections\u001b[0m\u001b[0;34m]\u001b[0m\u001b[0;34m\u001b[0m\u001b[0m\n\u001b[1;32m    401\u001b[0m     \u001b[0mpostcomputes\u001b[0m \u001b[0;34m=\u001b[0m \u001b[0;34m[\u001b[0m\u001b[0mx\u001b[0m\u001b[0;34m.\u001b[0m\u001b[0m__dask_postcompute__\u001b[0m\u001b[0;34m(\u001b[0m\u001b[0;34m)\u001b[0m \u001b[0;32mfor\u001b[0m \u001b[0mx\u001b[0m \u001b[0;32min\u001b[0m \u001b[0mcollections\u001b[0m\u001b[0;34m]\u001b[0m\u001b[0;34m\u001b[0m\u001b[0m\n\u001b[0;32m--> 402\u001b[0;31m     \u001b[0mresults\u001b[0m \u001b[0;34m=\u001b[0m \u001b[0mschedule\u001b[0m\u001b[0;34m(\u001b[0m\u001b[0mdsk\u001b[0m\u001b[0;34m,\u001b[0m \u001b[0mkeys\u001b[0m\u001b[0;34m,\u001b[0m \u001b[0;34m**\u001b[0m\u001b[0mkwargs\u001b[0m\u001b[0;34m)\u001b[0m\u001b[0;34m\u001b[0m\u001b[0m\n\u001b[0m\u001b[1;32m    403\u001b[0m     \u001b[0;32mreturn\u001b[0m \u001b[0mrepack\u001b[0m\u001b[0;34m(\u001b[0m\u001b[0;34m[\u001b[0m\u001b[0mf\u001b[0m\u001b[0;34m(\u001b[0m\u001b[0mr\u001b[0m\u001b[0;34m,\u001b[0m \u001b[0;34m*\u001b[0m\u001b[0ma\u001b[0m\u001b[0;34m)\u001b[0m \u001b[0;32mfor\u001b[0m \u001b[0mr\u001b[0m\u001b[0;34m,\u001b[0m \u001b[0;34m(\u001b[0m\u001b[0mf\u001b[0m\u001b[0;34m,\u001b[0m \u001b[0ma\u001b[0m\u001b[0;34m)\u001b[0m \u001b[0;32min\u001b[0m \u001b[0mzip\u001b[0m\u001b[0;34m(\u001b[0m\u001b[0mresults\u001b[0m\u001b[0;34m,\u001b[0m \u001b[0mpostcomputes\u001b[0m\u001b[0;34m)\u001b[0m\u001b[0;34m]\u001b[0m\u001b[0;34m)\u001b[0m\u001b[0;34m\u001b[0m\u001b[0m\n\u001b[1;32m    404\u001b[0m \u001b[0;34m\u001b[0m\u001b[0m\n",
      "\u001b[0;32m/opt/conda/lib/python3.6/site-packages/dask/threaded.py\u001b[0m in \u001b[0;36mget\u001b[0;34m(dsk, result, cache, num_workers, **kwargs)\u001b[0m\n\u001b[1;32m     73\u001b[0m     results = get_async(pool.apply_async, len(pool._pool), dsk, result,\n\u001b[1;32m     74\u001b[0m                         \u001b[0mcache\u001b[0m\u001b[0;34m=\u001b[0m\u001b[0mcache\u001b[0m\u001b[0;34m,\u001b[0m \u001b[0mget_id\u001b[0m\u001b[0;34m=\u001b[0m\u001b[0m_thread_get_id\u001b[0m\u001b[0;34m,\u001b[0m\u001b[0;34m\u001b[0m\u001b[0m\n\u001b[0;32m---> 75\u001b[0;31m                         pack_exception=pack_exception, **kwargs)\n\u001b[0m\u001b[1;32m     76\u001b[0m \u001b[0;34m\u001b[0m\u001b[0m\n\u001b[1;32m     77\u001b[0m     \u001b[0;31m# Cleanup pools associated to dead threads\u001b[0m\u001b[0;34m\u001b[0m\u001b[0;34m\u001b[0m\u001b[0m\n",
      "\u001b[0;32m/opt/conda/lib/python3.6/site-packages/dask/local.py\u001b[0m in \u001b[0;36mget_async\u001b[0;34m(apply_async, num_workers, dsk, result, cache, get_id, rerun_exceptions_locally, pack_exception, raise_exception, callbacks, dumps, loads, **kwargs)\u001b[0m\n\u001b[1;32m    503\u001b[0m                         \u001b[0m_execute_task\u001b[0m\u001b[0;34m(\u001b[0m\u001b[0mtask\u001b[0m\u001b[0;34m,\u001b[0m \u001b[0mdata\u001b[0m\u001b[0;34m)\u001b[0m  \u001b[0;31m# Re-execute locally\u001b[0m\u001b[0;34m\u001b[0m\u001b[0m\n\u001b[1;32m    504\u001b[0m                     \u001b[0;32melse\u001b[0m\u001b[0;34m:\u001b[0m\u001b[0;34m\u001b[0m\u001b[0m\n\u001b[0;32m--> 505\u001b[0;31m                         \u001b[0mraise_exception\u001b[0m\u001b[0;34m(\u001b[0m\u001b[0mexc\u001b[0m\u001b[0;34m,\u001b[0m \u001b[0mtb\u001b[0m\u001b[0;34m)\u001b[0m\u001b[0;34m\u001b[0m\u001b[0m\n\u001b[0m\u001b[1;32m    506\u001b[0m                 \u001b[0mres\u001b[0m\u001b[0;34m,\u001b[0m \u001b[0mworker_id\u001b[0m \u001b[0;34m=\u001b[0m \u001b[0mloads\u001b[0m\u001b[0;34m(\u001b[0m\u001b[0mres_info\u001b[0m\u001b[0;34m)\u001b[0m\u001b[0;34m\u001b[0m\u001b[0m\n\u001b[1;32m    507\u001b[0m                 \u001b[0mstate\u001b[0m\u001b[0;34m[\u001b[0m\u001b[0;34m'cache'\u001b[0m\u001b[0;34m]\u001b[0m\u001b[0;34m[\u001b[0m\u001b[0mkey\u001b[0m\u001b[0;34m]\u001b[0m \u001b[0;34m=\u001b[0m \u001b[0mres\u001b[0m\u001b[0;34m\u001b[0m\u001b[0m\n",
      "\u001b[0;32m/opt/conda/lib/python3.6/site-packages/dask/compatibility.py\u001b[0m in \u001b[0;36mreraise\u001b[0;34m(exc, tb)\u001b[0m\n\u001b[1;32m     67\u001b[0m         \u001b[0;32mif\u001b[0m \u001b[0mexc\u001b[0m\u001b[0;34m.\u001b[0m\u001b[0m__traceback__\u001b[0m \u001b[0;32mis\u001b[0m \u001b[0;32mnot\u001b[0m \u001b[0mtb\u001b[0m\u001b[0;34m:\u001b[0m\u001b[0;34m\u001b[0m\u001b[0m\n\u001b[1;32m     68\u001b[0m             \u001b[0;32mraise\u001b[0m \u001b[0mexc\u001b[0m\u001b[0;34m.\u001b[0m\u001b[0mwith_traceback\u001b[0m\u001b[0;34m(\u001b[0m\u001b[0mtb\u001b[0m\u001b[0;34m)\u001b[0m\u001b[0;34m\u001b[0m\u001b[0m\n\u001b[0;32m---> 69\u001b[0;31m         \u001b[0;32mraise\u001b[0m \u001b[0mexc\u001b[0m\u001b[0;34m\u001b[0m\u001b[0m\n\u001b[0m\u001b[1;32m     70\u001b[0m \u001b[0;34m\u001b[0m\u001b[0m\n\u001b[1;32m     71\u001b[0m \u001b[0;32melse\u001b[0m\u001b[0;34m:\u001b[0m\u001b[0;34m\u001b[0m\u001b[0m\n",
      "\u001b[0;32m/opt/conda/lib/python3.6/site-packages/dask/local.py\u001b[0m in \u001b[0;36mexecute_task\u001b[0;34m(key, task_info, dumps, loads, get_id, pack_exception)\u001b[0m\n\u001b[1;32m    272\u001b[0m     \u001b[0;32mtry\u001b[0m\u001b[0;34m:\u001b[0m\u001b[0;34m\u001b[0m\u001b[0m\n\u001b[1;32m    273\u001b[0m         \u001b[0mtask\u001b[0m\u001b[0;34m,\u001b[0m \u001b[0mdata\u001b[0m \u001b[0;34m=\u001b[0m \u001b[0mloads\u001b[0m\u001b[0;34m(\u001b[0m\u001b[0mtask_info\u001b[0m\u001b[0;34m)\u001b[0m\u001b[0;34m\u001b[0m\u001b[0m\n\u001b[0;32m--> 274\u001b[0;31m         \u001b[0mresult\u001b[0m \u001b[0;34m=\u001b[0m \u001b[0m_execute_task\u001b[0m\u001b[0;34m(\u001b[0m\u001b[0mtask\u001b[0m\u001b[0;34m,\u001b[0m \u001b[0mdata\u001b[0m\u001b[0;34m)\u001b[0m\u001b[0;34m\u001b[0m\u001b[0m\n\u001b[0m\u001b[1;32m    275\u001b[0m         \u001b[0mid\u001b[0m \u001b[0;34m=\u001b[0m \u001b[0mget_id\u001b[0m\u001b[0;34m(\u001b[0m\u001b[0;34m)\u001b[0m\u001b[0;34m\u001b[0m\u001b[0m\n\u001b[1;32m    276\u001b[0m         \u001b[0mresult\u001b[0m \u001b[0;34m=\u001b[0m \u001b[0mdumps\u001b[0m\u001b[0;34m(\u001b[0m\u001b[0;34m(\u001b[0m\u001b[0mresult\u001b[0m\u001b[0;34m,\u001b[0m \u001b[0mid\u001b[0m\u001b[0;34m)\u001b[0m\u001b[0;34m)\u001b[0m\u001b[0;34m\u001b[0m\u001b[0m\n",
      "\u001b[0;32m/opt/conda/lib/python3.6/site-packages/dask/local.py\u001b[0m in \u001b[0;36m_execute_task\u001b[0;34m(arg, cache, dsk)\u001b[0m\n\u001b[1;32m    253\u001b[0m         \u001b[0mfunc\u001b[0m\u001b[0;34m,\u001b[0m \u001b[0margs\u001b[0m \u001b[0;34m=\u001b[0m \u001b[0marg\u001b[0m\u001b[0;34m[\u001b[0m\u001b[0;36m0\u001b[0m\u001b[0;34m]\u001b[0m\u001b[0;34m,\u001b[0m \u001b[0marg\u001b[0m\u001b[0;34m[\u001b[0m\u001b[0;36m1\u001b[0m\u001b[0;34m:\u001b[0m\u001b[0;34m]\u001b[0m\u001b[0;34m\u001b[0m\u001b[0m\n\u001b[1;32m    254\u001b[0m         \u001b[0margs2\u001b[0m \u001b[0;34m=\u001b[0m \u001b[0;34m[\u001b[0m\u001b[0m_execute_task\u001b[0m\u001b[0;34m(\u001b[0m\u001b[0ma\u001b[0m\u001b[0;34m,\u001b[0m \u001b[0mcache\u001b[0m\u001b[0;34m)\u001b[0m \u001b[0;32mfor\u001b[0m \u001b[0ma\u001b[0m \u001b[0;32min\u001b[0m \u001b[0margs\u001b[0m\u001b[0;34m]\u001b[0m\u001b[0;34m\u001b[0m\u001b[0m\n\u001b[0;32m--> 255\u001b[0;31m         \u001b[0;32mreturn\u001b[0m \u001b[0mfunc\u001b[0m\u001b[0;34m(\u001b[0m\u001b[0;34m*\u001b[0m\u001b[0margs2\u001b[0m\u001b[0;34m)\u001b[0m\u001b[0;34m\u001b[0m\u001b[0m\n\u001b[0m\u001b[1;32m    256\u001b[0m     \u001b[0;32melif\u001b[0m \u001b[0;32mnot\u001b[0m \u001b[0mishashable\u001b[0m\u001b[0;34m(\u001b[0m\u001b[0marg\u001b[0m\u001b[0;34m)\u001b[0m\u001b[0;34m:\u001b[0m\u001b[0;34m\u001b[0m\u001b[0m\n\u001b[1;32m    257\u001b[0m         \u001b[0;32mreturn\u001b[0m \u001b[0marg\u001b[0m\u001b[0;34m\u001b[0m\u001b[0m\n",
      "\u001b[0;32m/opt/conda/lib/python3.6/site-packages/dask/array/core.py\u001b[0m in \u001b[0;36mgetter\u001b[0;34m(a, b, asarray, lock)\u001b[0m\n\u001b[1;32m     87\u001b[0m         \u001b[0mc\u001b[0m \u001b[0;34m=\u001b[0m \u001b[0ma\u001b[0m\u001b[0;34m[\u001b[0m\u001b[0mb\u001b[0m\u001b[0;34m]\u001b[0m\u001b[0;34m\u001b[0m\u001b[0m\n\u001b[1;32m     88\u001b[0m         \u001b[0;32mif\u001b[0m \u001b[0masarray\u001b[0m\u001b[0;34m:\u001b[0m\u001b[0;34m\u001b[0m\u001b[0m\n\u001b[0;32m---> 89\u001b[0;31m             \u001b[0mc\u001b[0m \u001b[0;34m=\u001b[0m \u001b[0mnp\u001b[0m\u001b[0;34m.\u001b[0m\u001b[0masarray\u001b[0m\u001b[0;34m(\u001b[0m\u001b[0mc\u001b[0m\u001b[0;34m)\u001b[0m\u001b[0;34m\u001b[0m\u001b[0m\n\u001b[0m\u001b[1;32m     90\u001b[0m     \u001b[0;32mfinally\u001b[0m\u001b[0;34m:\u001b[0m\u001b[0;34m\u001b[0m\u001b[0m\n\u001b[1;32m     91\u001b[0m         \u001b[0;32mif\u001b[0m \u001b[0mlock\u001b[0m\u001b[0;34m:\u001b[0m\u001b[0;34m\u001b[0m\u001b[0m\n",
      "\u001b[0;32m/opt/conda/lib/python3.6/site-packages/numpy/core/numeric.py\u001b[0m in \u001b[0;36masarray\u001b[0;34m(a, dtype, order)\u001b[0m\n\u001b[1;32m    490\u001b[0m \u001b[0;34m\u001b[0m\u001b[0m\n\u001b[1;32m    491\u001b[0m     \"\"\"\n\u001b[0;32m--> 492\u001b[0;31m     \u001b[0;32mreturn\u001b[0m \u001b[0marray\u001b[0m\u001b[0;34m(\u001b[0m\u001b[0ma\u001b[0m\u001b[0;34m,\u001b[0m \u001b[0mdtype\u001b[0m\u001b[0;34m,\u001b[0m \u001b[0mcopy\u001b[0m\u001b[0;34m=\u001b[0m\u001b[0;32mFalse\u001b[0m\u001b[0;34m,\u001b[0m \u001b[0morder\u001b[0m\u001b[0;34m=\u001b[0m\u001b[0morder\u001b[0m\u001b[0;34m)\u001b[0m\u001b[0;34m\u001b[0m\u001b[0m\n\u001b[0m\u001b[1;32m    493\u001b[0m \u001b[0;34m\u001b[0m\u001b[0m\n\u001b[1;32m    494\u001b[0m \u001b[0;34m\u001b[0m\u001b[0m\n",
      "\u001b[0;32m/opt/conda/lib/python3.6/site-packages/xarray/core/indexing.py\u001b[0m in \u001b[0;36m__array__\u001b[0;34m(self, dtype)\u001b[0m\n\u001b[1;32m    600\u001b[0m \u001b[0;34m\u001b[0m\u001b[0m\n\u001b[1;32m    601\u001b[0m     \u001b[0;32mdef\u001b[0m \u001b[0m__array__\u001b[0m\u001b[0;34m(\u001b[0m\u001b[0mself\u001b[0m\u001b[0;34m,\u001b[0m \u001b[0mdtype\u001b[0m\u001b[0;34m=\u001b[0m\u001b[0;32mNone\u001b[0m\u001b[0;34m)\u001b[0m\u001b[0;34m:\u001b[0m\u001b[0;34m\u001b[0m\u001b[0m\n\u001b[0;32m--> 602\u001b[0;31m         \u001b[0;32mreturn\u001b[0m \u001b[0mnp\u001b[0m\u001b[0;34m.\u001b[0m\u001b[0masarray\u001b[0m\u001b[0;34m(\u001b[0m\u001b[0mself\u001b[0m\u001b[0;34m.\u001b[0m\u001b[0marray\u001b[0m\u001b[0;34m,\u001b[0m \u001b[0mdtype\u001b[0m\u001b[0;34m=\u001b[0m\u001b[0mdtype\u001b[0m\u001b[0;34m)\u001b[0m\u001b[0;34m\u001b[0m\u001b[0m\n\u001b[0m\u001b[1;32m    603\u001b[0m \u001b[0;34m\u001b[0m\u001b[0m\n\u001b[1;32m    604\u001b[0m     \u001b[0;32mdef\u001b[0m \u001b[0m__getitem__\u001b[0m\u001b[0;34m(\u001b[0m\u001b[0mself\u001b[0m\u001b[0;34m,\u001b[0m \u001b[0mkey\u001b[0m\u001b[0;34m)\u001b[0m\u001b[0;34m:\u001b[0m\u001b[0;34m\u001b[0m\u001b[0m\n",
      "\u001b[0;32m/opt/conda/lib/python3.6/site-packages/numpy/core/numeric.py\u001b[0m in \u001b[0;36masarray\u001b[0;34m(a, dtype, order)\u001b[0m\n\u001b[1;32m    490\u001b[0m \u001b[0;34m\u001b[0m\u001b[0m\n\u001b[1;32m    491\u001b[0m     \"\"\"\n\u001b[0;32m--> 492\u001b[0;31m     \u001b[0;32mreturn\u001b[0m \u001b[0marray\u001b[0m\u001b[0;34m(\u001b[0m\u001b[0ma\u001b[0m\u001b[0;34m,\u001b[0m \u001b[0mdtype\u001b[0m\u001b[0;34m,\u001b[0m \u001b[0mcopy\u001b[0m\u001b[0;34m=\u001b[0m\u001b[0;32mFalse\u001b[0m\u001b[0;34m,\u001b[0m \u001b[0morder\u001b[0m\u001b[0;34m=\u001b[0m\u001b[0morder\u001b[0m\u001b[0;34m)\u001b[0m\u001b[0;34m\u001b[0m\u001b[0m\n\u001b[0m\u001b[1;32m    493\u001b[0m \u001b[0;34m\u001b[0m\u001b[0m\n\u001b[1;32m    494\u001b[0m \u001b[0;34m\u001b[0m\u001b[0m\n",
      "\u001b[0;32m/opt/conda/lib/python3.6/site-packages/xarray/core/indexing.py\u001b[0m in \u001b[0;36m__array__\u001b[0;34m(self, dtype)\u001b[0m\n\u001b[1;32m    506\u001b[0m     \u001b[0;32mdef\u001b[0m \u001b[0m__array__\u001b[0m\u001b[0;34m(\u001b[0m\u001b[0mself\u001b[0m\u001b[0;34m,\u001b[0m \u001b[0mdtype\u001b[0m\u001b[0;34m=\u001b[0m\u001b[0;32mNone\u001b[0m\u001b[0;34m)\u001b[0m\u001b[0;34m:\u001b[0m\u001b[0;34m\u001b[0m\u001b[0m\n\u001b[1;32m    507\u001b[0m         \u001b[0marray\u001b[0m \u001b[0;34m=\u001b[0m \u001b[0mas_indexable\u001b[0m\u001b[0;34m(\u001b[0m\u001b[0mself\u001b[0m\u001b[0;34m.\u001b[0m\u001b[0marray\u001b[0m\u001b[0;34m)\u001b[0m\u001b[0;34m\u001b[0m\u001b[0m\n\u001b[0;32m--> 508\u001b[0;31m         \u001b[0;32mreturn\u001b[0m \u001b[0mnp\u001b[0m\u001b[0;34m.\u001b[0m\u001b[0masarray\u001b[0m\u001b[0;34m(\u001b[0m\u001b[0marray\u001b[0m\u001b[0;34m[\u001b[0m\u001b[0mself\u001b[0m\u001b[0;34m.\u001b[0m\u001b[0mkey\u001b[0m\u001b[0;34m]\u001b[0m\u001b[0;34m,\u001b[0m \u001b[0mdtype\u001b[0m\u001b[0;34m=\u001b[0m\u001b[0;32mNone\u001b[0m\u001b[0;34m)\u001b[0m\u001b[0;34m\u001b[0m\u001b[0m\n\u001b[0m\u001b[1;32m    509\u001b[0m \u001b[0;34m\u001b[0m\u001b[0m\n\u001b[1;32m    510\u001b[0m     \u001b[0;32mdef\u001b[0m \u001b[0mtranspose\u001b[0m\u001b[0;34m(\u001b[0m\u001b[0mself\u001b[0m\u001b[0;34m,\u001b[0m \u001b[0morder\u001b[0m\u001b[0;34m)\u001b[0m\u001b[0;34m:\u001b[0m\u001b[0;34m\u001b[0m\u001b[0m\n",
      "\u001b[0;32m/opt/conda/lib/python3.6/site-packages/xarray/coding/strings.py\u001b[0m in \u001b[0;36m__getitem__\u001b[0;34m(self, key)\u001b[0m\n\u001b[1;32m    220\u001b[0m         \u001b[0;32mif\u001b[0m \u001b[0mkey\u001b[0m\u001b[0;34m.\u001b[0m\u001b[0mtuple\u001b[0m\u001b[0;34m[\u001b[0m\u001b[0;34m-\u001b[0m\u001b[0;36m1\u001b[0m\u001b[0;34m]\u001b[0m \u001b[0;34m!=\u001b[0m \u001b[0mslice\u001b[0m\u001b[0;34m(\u001b[0m\u001b[0;32mNone\u001b[0m\u001b[0;34m)\u001b[0m\u001b[0;34m:\u001b[0m\u001b[0;34m\u001b[0m\u001b[0m\n\u001b[1;32m    221\u001b[0m             \u001b[0;32mraise\u001b[0m \u001b[0mIndexError\u001b[0m\u001b[0;34m(\u001b[0m\u001b[0;34m'too many indices'\u001b[0m\u001b[0;34m)\u001b[0m\u001b[0;34m\u001b[0m\u001b[0m\n\u001b[0;32m--> 222\u001b[0;31m         \u001b[0;32mreturn\u001b[0m \u001b[0m_numpy_char_to_bytes\u001b[0m\u001b[0;34m(\u001b[0m\u001b[0mself\u001b[0m\u001b[0;34m.\u001b[0m\u001b[0marray\u001b[0m\u001b[0;34m[\u001b[0m\u001b[0mkey\u001b[0m\u001b[0;34m]\u001b[0m\u001b[0;34m)\u001b[0m\u001b[0;34m\u001b[0m\u001b[0m\n\u001b[0m",
      "\u001b[0;32m/opt/conda/lib/python3.6/site-packages/xarray/coding/strings.py\u001b[0m in \u001b[0;36m_numpy_char_to_bytes\u001b[0;34m(arr)\u001b[0m\n\u001b[1;32m    178\u001b[0m     \"\"\"\n\u001b[1;32m    179\u001b[0m     \u001b[0;31m# based on: http://stackoverflow.com/a/10984878/809705\u001b[0m\u001b[0;34m\u001b[0m\u001b[0;34m\u001b[0m\u001b[0m\n\u001b[0;32m--> 180\u001b[0;31m     \u001b[0marr\u001b[0m \u001b[0;34m=\u001b[0m \u001b[0mnp\u001b[0m\u001b[0;34m.\u001b[0m\u001b[0marray\u001b[0m\u001b[0;34m(\u001b[0m\u001b[0marr\u001b[0m\u001b[0;34m,\u001b[0m \u001b[0mcopy\u001b[0m\u001b[0;34m=\u001b[0m\u001b[0;32mFalse\u001b[0m\u001b[0;34m,\u001b[0m \u001b[0morder\u001b[0m\u001b[0;34m=\u001b[0m\u001b[0;34m'C'\u001b[0m\u001b[0;34m)\u001b[0m\u001b[0;34m\u001b[0m\u001b[0m\n\u001b[0m\u001b[1;32m    181\u001b[0m     \u001b[0mdtype\u001b[0m \u001b[0;34m=\u001b[0m \u001b[0;34m'S'\u001b[0m \u001b[0;34m+\u001b[0m \u001b[0mstr\u001b[0m\u001b[0;34m(\u001b[0m\u001b[0marr\u001b[0m\u001b[0;34m.\u001b[0m\u001b[0mshape\u001b[0m\u001b[0;34m[\u001b[0m\u001b[0;34m-\u001b[0m\u001b[0;36m1\u001b[0m\u001b[0;34m]\u001b[0m\u001b[0;34m)\u001b[0m\u001b[0;34m\u001b[0m\u001b[0m\n\u001b[1;32m    182\u001b[0m     \u001b[0;32mreturn\u001b[0m \u001b[0marr\u001b[0m\u001b[0;34m.\u001b[0m\u001b[0mview\u001b[0m\u001b[0;34m(\u001b[0m\u001b[0mdtype\u001b[0m\u001b[0;34m)\u001b[0m\u001b[0;34m.\u001b[0m\u001b[0mreshape\u001b[0m\u001b[0;34m(\u001b[0m\u001b[0marr\u001b[0m\u001b[0;34m.\u001b[0m\u001b[0mshape\u001b[0m\u001b[0;34m[\u001b[0m\u001b[0;34m:\u001b[0m\u001b[0;34m-\u001b[0m\u001b[0;36m1\u001b[0m\u001b[0;34m]\u001b[0m\u001b[0;34m)\u001b[0m\u001b[0;34m\u001b[0m\u001b[0m\n",
      "\u001b[0;32m/opt/conda/lib/python3.6/site-packages/xarray/core/indexing.py\u001b[0m in \u001b[0;36m__array__\u001b[0;34m(self, dtype)\u001b[0m\n\u001b[1;32m    506\u001b[0m     \u001b[0;32mdef\u001b[0m \u001b[0m__array__\u001b[0m\u001b[0;34m(\u001b[0m\u001b[0mself\u001b[0m\u001b[0;34m,\u001b[0m \u001b[0mdtype\u001b[0m\u001b[0;34m=\u001b[0m\u001b[0;32mNone\u001b[0m\u001b[0;34m)\u001b[0m\u001b[0;34m:\u001b[0m\u001b[0;34m\u001b[0m\u001b[0m\n\u001b[1;32m    507\u001b[0m         \u001b[0marray\u001b[0m \u001b[0;34m=\u001b[0m \u001b[0mas_indexable\u001b[0m\u001b[0;34m(\u001b[0m\u001b[0mself\u001b[0m\u001b[0;34m.\u001b[0m\u001b[0marray\u001b[0m\u001b[0;34m)\u001b[0m\u001b[0;34m\u001b[0m\u001b[0m\n\u001b[0;32m--> 508\u001b[0;31m         \u001b[0;32mreturn\u001b[0m \u001b[0mnp\u001b[0m\u001b[0;34m.\u001b[0m\u001b[0masarray\u001b[0m\u001b[0;34m(\u001b[0m\u001b[0marray\u001b[0m\u001b[0;34m[\u001b[0m\u001b[0mself\u001b[0m\u001b[0;34m.\u001b[0m\u001b[0mkey\u001b[0m\u001b[0;34m]\u001b[0m\u001b[0;34m,\u001b[0m \u001b[0mdtype\u001b[0m\u001b[0;34m=\u001b[0m\u001b[0;32mNone\u001b[0m\u001b[0;34m)\u001b[0m\u001b[0;34m\u001b[0m\u001b[0m\n\u001b[0m\u001b[1;32m    509\u001b[0m \u001b[0;34m\u001b[0m\u001b[0m\n\u001b[1;32m    510\u001b[0m     \u001b[0;32mdef\u001b[0m \u001b[0mtranspose\u001b[0m\u001b[0;34m(\u001b[0m\u001b[0mself\u001b[0m\u001b[0;34m,\u001b[0m \u001b[0morder\u001b[0m\u001b[0;34m)\u001b[0m\u001b[0;34m:\u001b[0m\u001b[0;34m\u001b[0m\u001b[0m\n",
      "\u001b[0;32m/opt/conda/lib/python3.6/site-packages/xarray/backends/netCDF4_.py\u001b[0m in \u001b[0;36m__getitem__\u001b[0;34m(self, key)\u001b[0m\n\u001b[1;32m     64\u001b[0m         \u001b[0;32mwith\u001b[0m \u001b[0mself\u001b[0m\u001b[0;34m.\u001b[0m\u001b[0mdatastore\u001b[0m\u001b[0;34m.\u001b[0m\u001b[0mensure_open\u001b[0m\u001b[0;34m(\u001b[0m\u001b[0mautoclose\u001b[0m\u001b[0;34m=\u001b[0m\u001b[0;32mTrue\u001b[0m\u001b[0;34m)\u001b[0m\u001b[0;34m:\u001b[0m\u001b[0;34m\u001b[0m\u001b[0m\n\u001b[1;32m     65\u001b[0m             \u001b[0;32mtry\u001b[0m\u001b[0;34m:\u001b[0m\u001b[0;34m\u001b[0m\u001b[0m\n\u001b[0;32m---> 66\u001b[0;31m                 \u001b[0marray\u001b[0m \u001b[0;34m=\u001b[0m \u001b[0mgetitem\u001b[0m\u001b[0;34m(\u001b[0m\u001b[0mself\u001b[0m\u001b[0;34m.\u001b[0m\u001b[0mget_array\u001b[0m\u001b[0;34m(\u001b[0m\u001b[0;34m)\u001b[0m\u001b[0;34m,\u001b[0m \u001b[0mkey\u001b[0m\u001b[0;34m.\u001b[0m\u001b[0mtuple\u001b[0m\u001b[0;34m)\u001b[0m\u001b[0;34m\u001b[0m\u001b[0m\n\u001b[0m\u001b[1;32m     67\u001b[0m             \u001b[0;32mexcept\u001b[0m \u001b[0mIndexError\u001b[0m\u001b[0;34m:\u001b[0m\u001b[0;34m\u001b[0m\u001b[0m\n\u001b[1;32m     68\u001b[0m                 \u001b[0;31m# Catch IndexError in netCDF4 and return a more informative\u001b[0m\u001b[0;34m\u001b[0m\u001b[0;34m\u001b[0m\u001b[0m\n",
      "\u001b[0;32m/opt/conda/lib/python3.6/site-packages/xarray/backends/common.py\u001b[0m in \u001b[0;36mrobust_getitem\u001b[0;34m(array, key, catch, max_retries, initial_delay)\u001b[0m\n\u001b[1;32m    121\u001b[0m     \u001b[0;32mfor\u001b[0m \u001b[0mn\u001b[0m \u001b[0;32min\u001b[0m \u001b[0mrange\u001b[0m\u001b[0;34m(\u001b[0m\u001b[0mmax_retries\u001b[0m \u001b[0;34m+\u001b[0m \u001b[0;36m1\u001b[0m\u001b[0;34m)\u001b[0m\u001b[0;34m:\u001b[0m\u001b[0;34m\u001b[0m\u001b[0m\n\u001b[1;32m    122\u001b[0m         \u001b[0;32mtry\u001b[0m\u001b[0;34m:\u001b[0m\u001b[0;34m\u001b[0m\u001b[0m\n\u001b[0;32m--> 123\u001b[0;31m             \u001b[0;32mreturn\u001b[0m \u001b[0marray\u001b[0m\u001b[0;34m[\u001b[0m\u001b[0mkey\u001b[0m\u001b[0;34m]\u001b[0m\u001b[0;34m\u001b[0m\u001b[0m\n\u001b[0m\u001b[1;32m    124\u001b[0m         \u001b[0;32mexcept\u001b[0m \u001b[0mcatch\u001b[0m\u001b[0;34m:\u001b[0m\u001b[0;34m\u001b[0m\u001b[0m\n\u001b[1;32m    125\u001b[0m             \u001b[0;32mif\u001b[0m \u001b[0mn\u001b[0m \u001b[0;34m==\u001b[0m \u001b[0mmax_retries\u001b[0m\u001b[0;34m:\u001b[0m\u001b[0;34m\u001b[0m\u001b[0m\n",
      "\u001b[0;32mnetCDF4/_netCDF4.pyx\u001b[0m in \u001b[0;36mnetCDF4._netCDF4.Variable.__getitem__\u001b[0;34m()\u001b[0m\n",
      "\u001b[0;32mnetCDF4/_netCDF4.pyx\u001b[0m in \u001b[0;36mnetCDF4._netCDF4.Variable._get\u001b[0;34m()\u001b[0m\n",
      "\u001b[0;32mnetCDF4/_netCDF4.pyx\u001b[0m in \u001b[0;36mnetCDF4._netCDF4._ensure_nc_success\u001b[0;34m()\u001b[0m\n",
      "\u001b[0;31mRuntimeError\u001b[0m: NetCDF: DAP failure"
     ]
    }
   ],
   "source": [
    "# Rob got this far on 12/20/2018 where the error here should be fixed by looking above where a frame\n",
    "#   was cast from xx. There is a lot of redundancy in this notebook; it is rather stream-of-consciousness\n",
    "#   and very poorly documented. It does go for three related datasets on the SCIP: CTD, PAR and nitrate; \n",
    "#   so there is great potential for a good comparison of \"3D\" plots. \n",
    "#\n",
    "# At this point skip down to the \"Depth Averaged\" section for some more cells that run\n",
    "ctdframe = xx.to_dataframe()"
   ]
  },
  {
   "cell_type": "code",
   "execution_count": 118,
   "metadata": {},
   "outputs": [],
   "source": [
    "import numpy as np\n",
    "\n",
    "def round_dataframe(frame,precision=0):\n",
    "    '''Rounds index to precision numbers after the decimal.'''\n",
    "    frame.index = frame.index.to_series().apply(lambda x: np.round(x,precision))\n",
    "    # remove any duplicates for instruments with sampling rate > 1Hz\n",
    "    return frame[~frame.index.duplicated(keep=\"first\")]"
   ]
  },
  {
   "cell_type": "code",
   "execution_count": 119,
   "metadata": {},
   "outputs": [],
   "source": [
    "ctdframe = round_dataframe(ctdframe)"
   ]
  },
  {
   "cell_type": "code",
   "execution_count": 129,
   "metadata": {},
   "outputs": [],
   "source": [
    "nindex = list(zip(*nframe.index.values))[0]"
   ]
  },
  {
   "cell_type": "code",
   "execution_count": 130,
   "metadata": {},
   "outputs": [
    {
     "name": "stderr",
     "output_type": "stream",
     "text": [
      "C:\\Users\\ganzk\\Anaconda3\\envs\\yodapy\\lib\\site-packages\\pandas\\core\\indexing.py:870: FutureWarning: \n",
      "Passing list-likes to .loc or [] with any missing label will raise\n",
      "KeyError in the future, you can use .reindex() as an alternative.\n",
      "\n",
      "See the documentation here:\n",
      "https://pandas.pydata.org/pandas-docs/stable/indexing.html#deprecate-loc-reindex-listlike\n",
      "  return self._getitem_lowerdim(tup)\n"
     ]
    }
   ],
   "source": [
    "ctdpoints = ctdframe.loc[nindex,:]"
   ]
  },
  {
   "cell_type": "code",
   "execution_count": 131,
   "metadata": {},
   "outputs": [
    {
     "data": {
      "text/plain": [
       "True"
      ]
     },
     "execution_count": 131,
     "metadata": {},
     "output_type": "execute_result"
    }
   ],
   "source": [
    "len(ctdpoints) == len(nframe)"
   ]
  },
  {
   "cell_type": "code",
   "execution_count": 1,
   "metadata": {},
   "outputs": [
    {
     "ename": "NameError",
     "evalue": "name 'ctdpoints' is not defined",
     "output_type": "error",
     "traceback": [
      "\u001b[1;31m---------------------------------------------------------------------------\u001b[0m",
      "\u001b[1;31mNameError\u001b[0m                                 Traceback (most recent call last)",
      "\u001b[1;32m<ipython-input-1-dacd3cf08ee5>\u001b[0m in \u001b[0;36m<module>\u001b[1;34m()\u001b[0m\n\u001b[0;32m     11\u001b[0m \u001b[0mfig\u001b[0m \u001b[1;33m=\u001b[0m \u001b[0mplt\u001b[0m\u001b[1;33m.\u001b[0m\u001b[0mfigure\u001b[0m\u001b[1;33m(\u001b[0m\u001b[0mfigsize\u001b[0m\u001b[1;33m=\u001b[0m\u001b[1;33m(\u001b[0m\u001b[1;36m8\u001b[0m\u001b[1;33m,\u001b[0m\u001b[1;36m5\u001b[0m\u001b[1;33m)\u001b[0m\u001b[1;33m)\u001b[0m\u001b[1;33m\u001b[0m\u001b[0m\n\u001b[0;32m     12\u001b[0m \u001b[1;31m# array slicing sugar: arr[start:stop:step]\u001b[0m\u001b[1;33m\u001b[0m\u001b[1;33m\u001b[0m\u001b[0m\n\u001b[1;32m---> 13\u001b[1;33m s = plt.scatter(ctdpoints.index.values, # x\n\u001b[0m\u001b[0;32m     14\u001b[0m             \u001b[0mctdpoints\u001b[0m\u001b[1;33m[\u001b[0m\u001b[1;34m\"seawater_pressure\"\u001b[0m\u001b[1;33m]\u001b[0m\u001b[1;33m,\u001b[0m \u001b[1;31m# y\u001b[0m\u001b[1;33m\u001b[0m\u001b[0m\n\u001b[0;32m     15\u001b[0m             \u001b[0ms\u001b[0m\u001b[1;33m=\u001b[0m\u001b[1;36m10\u001b[0m\u001b[1;33m,\u001b[0m \u001b[1;31m# thickness\u001b[0m\u001b[1;33m\u001b[0m\u001b[0m\n",
      "\u001b[1;31mNameError\u001b[0m: name 'ctdpoints' is not defined"
     ]
    },
    {
     "data": {
      "text/plain": [
       "<Figure size 576x360 with 0 Axes>"
      ]
     },
     "metadata": {},
     "output_type": "display_data"
    }
   ],
   "source": [
    "%matplotlib inline\n",
    "import matplotlib.pyplot as plt\n",
    "import numpy as np\n",
    "import matplotlib.colors as colors\n",
    "from matplotlib.colors import Normalize as n\n",
    "import netCDF4  as nc\n",
    "\n",
    "# we are dealing with 7 million points here, the larger this number, cuts down plotting time\n",
    "# plotting every (step)-th point\n",
    "step = 1\n",
    "fig = plt.figure(figsize=(8,5))\n",
    "# array slicing sugar: arr[start:stop:step]\n",
    "s = plt.scatter(ctdpoints.index.values, # x\n",
    "            ctdpoints[\"seawater_pressure\"], # y\n",
    "            s=10, # thickness\n",
    "            c=nframe[\"salinity_corrected_nitrate\"], # color map\n",
    "            cmap=plt.get_cmap(\"viridis\"),\n",
    "            norm=nor) # color style, see others in matplotlib docs\n",
    "# invert y to show more intuitive perspective\n",
    "# Remember! Pressure is a proxy for depth!\n",
    "plt.gca().invert_yaxis()\n",
    "plt.ylabel(\"Pressure\")\n",
    "plt.xlabel(\"Sample Number\")\n",
    "cb = plt.colorbar(s)\n",
    "cb.set_label(\"Dissolved Oxygen (umol/L)\")"
   ]
  },
  {
   "cell_type": "markdown",
   "metadata": {},
   "source": [
    "Why the large white block in the middle of our data? If there is a connection issue between the profiler and the shore, the instrument will automatically stop oscillating. On rarer occasions, mechanical failure (likely the above) can cause longer outages. Fortunately, these holes are rare and do not prevent plotting the rest of the data."
   ]
  },
  {
   "cell_type": "markdown",
   "metadata": {},
   "source": [
    "## Depth Averaged\n",
    "\n",
    "Above, we see a nice correlation between depth (synonym for pressure) and DO as we would expect. Although nice, what if there were an anomalous increase or decrease in DO at a particular depth that could harm marine life? To suss out this kind of information, we replot the data above but color-code it by comparing it to all other data points at the same depth."
   ]
  },
  {
   "cell_type": "code",
   "execution_count": 140,
   "metadata": {},
   "outputs": [
    {
     "data": {
      "text/plain": [
       "<matplotlib.axes._subplots.AxesSubplot at 0x7facd9a36a90>"
      ]
     },
     "execution_count": 140,
     "metadata": {},
     "output_type": "execute_result"
    },
    {
     "data": {
      "image/png": "[encoded data removed]",
      "text/plain": [
       "<Figure size 432x288 with 1 Axes>"
      ]
     },
     "metadata": {},
     "output_type": "display_data"
    }
   ],
   "source": [
    "# group datapoints by depth and then take the mean of DO for each group\n",
    "avgdo = frame.groupby(\"seawater_pressure\").mean()[\"corrected_dissolved_oxygen\"]\n",
    "avgdo.plot(y=\"corrected_dissolved_oxygen\",legend=True)"
   ]
  },
  {
   "cell_type": "code",
   "execution_count": 141,
   "metadata": {},
   "outputs": [
    {
     "data": {
      "text/plain": [
       "262.22188112198256"
      ]
     },
     "execution_count": 141,
     "metadata": {},
     "output_type": "execute_result"
    }
   ],
   "source": [
    "# effectively a dictionary linking pressure with DO average\n",
    "avgdo[20.0]"
   ]
  },
  {
   "cell_type": "code",
   "execution_count": 142,
   "metadata": {},
   "outputs": [
    {
     "name": "stdout",
     "output_type": "stream",
     "text": [
      "CPU times: user 2min 14s, sys: 0 ns, total: 2min 14s\n",
      "Wall time: 2min 16s\n"
     ]
    }
   ],
   "source": [
    "%%time\n",
    "\n",
    "# This runs fairly slow (minutes); perhaps optimize it\n",
    "def compute_diff(r):\n",
    "    return r[\"corrected_dissolved_oxygen\"] - avgdo[r[\"seawater_pressure\"]]\n",
    "\n",
    "frame2 = frame.apply(compute_diff,axis=1)"
   ]
  },
  {
   "cell_type": "markdown",
   "metadata": {},
   "source": [
    "The cell below is helpful for making sure our color-coding does not bias towards either extreme by forcing pure white to align with zero variation from the mean."
   ]
  },
  {
   "cell_type": "code",
   "execution_count": 144,
   "metadata": {},
   "outputs": [],
   "source": [
    "from matplotlib.colors import Normalize as n\n",
    "import numpy as np\n",
    "\n",
    "# find largest absolute value in dataframe\n",
    "maxmag = max(np.absolute(frame2))\n",
    "\n",
    "# Note: norm is the CLASS that performs the normalization as opposed to the default generated by matplotlib\n",
    "# matplotlib's occasionally makes the zero point red\n",
    "norm = n(vmin = -maxmag,vmax = maxmag)"
   ]
  },
  {
   "cell_type": "code",
   "execution_count": 145,
   "metadata": {},
   "outputs": [
    {
     "data": {
      "image/png": "[encoded data removed]",
      "text/plain": [
       "<Figure size 1152x360 with 2 Axes>"
      ]
     },
     "metadata": {},
     "output_type": "display_data"
    }
   ],
   "source": [
    "step = 1 # remember from before...\n",
    "fig = plt.figure(figsize=(16,5))\n",
    "s = plt.scatter(frame.index[::step], # x\n",
    "            frame[\"seawater_pressure\"][::step], # y\n",
    "            s=10, # thickness\n",
    "            c=frame2[::step], # color map\n",
    "            norm=norm,\n",
    "            cmap=plt.get_cmap(\"bwr\")) # color style\n",
    "plt.gca().invert_yaxis()\n",
    "plt.ylabel(\"Pressure\")\n",
    "plt.xlabel(\"Time\")\n",
    "plt.title(\"Dissolved O2 Difference from Depth Mean\")\n",
    "plt.tick_params(\n",
    "    axis = \"x\",\n",
    "    which=\"both\",\n",
    "    bottom = False,\n",
    "    top = False,\n",
    "    labelbottom=False)\n",
    "cb = plt.colorbar(s)\n",
    "cb.set_label(\"Dissolved Oxygen Difference from Pressure Average (umol/L)\")"
   ]
  },
  {
   "cell_type": "markdown",
   "metadata": {},
   "source": [
    "This depth comparison reveals an interesting oxygen-rich time period towards the end of the dataset. I wonder if that's anomalous, or just a typical variation. See if you can find out. Pick a different CTD on the array or a larger time range (the data goes back to 2014-15 ish). Good luck!"
   ]
  }
 ],
 "metadata": {
  "kernelspec": {
   "display_name": "Python [default]",
   "language": "python",
   "name": "python3"
  },
  "language_info": {
   "codemirror_mode": {
    "name": "ipython",
    "version": 3
   },
   "file_extension": ".py",
   "mimetype": "text/x-python",
   "name": "python",
   "nbconvert_exporter": "python",
   "pygments_lexer": "ipython3",
   "version": "3.6.6"
  }
 },
 "nbformat": 4,
 "nbformat_minor": 2
}
