{
 "cells": [
  {
   "cell_type": "code",
   "execution_count": 1,
   "metadata": {},
   "outputs": [
    {
     "name": "stdout",
     "output_type": "stream",
     "text": [
      "{\"message\": \"Internal server error\"}\n"
     ]
    }
   ],
   "source": [
    "# Authored by Shiv\n",
    "import requests\n",
    "\n",
    "value_to_square = 55555555555555555555555555555555555555555\n",
    "url = 'https://j5vup65xlb.execute-api.us-east-1.amazonaws.com/default/xsquared?unimportant_key_word=1.347&n={}'.format(value_to_square)\n",
    "response = requests.get(url)\n",
    "print(response.text)"
   ]
  },
  {
   "cell_type": "code",
   "execution_count": 6,
   "metadata": {},
   "outputs": [
    {
     "name": "stdout",
     "output_type": "stream",
     "text": [
      "5\n"
     ]
    }
   ],
   "source": [
    "import requests\n",
    "def bees(x, y, z): return requests.get('https://52t7suregg.' + \\\n",
    "        'execute-api.us-east-1.amazonaws.com/default/dronebees?' + \\\n",
    "        'x=' + str(x) + '&y=' + str(y) + '&z=' + str(z)).text\n",
    "    \n",
    "print(bees(100, 200, 300))"
   ]
  },
  {
   "cell_type": "code",
   "execution_count": 10,
   "metadata": {},
   "outputs": [
    {
     "name": "stdout",
     "output_type": "stream",
     "text": [
      "2\n",
      "1037 960 10 2  ...from...  6 5 4 6 and dx dy is now 52 52\n",
      "1038 941 10 2  ...from...  2 4 7 2 and dx dy is now 54 54\n",
      "1051 976 10 2  ...from...  5 4 8 3 and dx dy is now 56 56\n",
      "1040 1004 10 2  ...from...  8 5 2 5 and dx dy is now 58 58\n",
      "983 1033 10 2  ...from...  8 8 5 5 and dx dy is now 61 61\n",
      "1033 1073 10 2  ...from...  7 6 7 6 and dx dy is now 64 64\n",
      "1048 1118 10 2  ...from...  8 3 7 3 and dx dy is now 67 67\n",
      "1051 1073 10 2  ...from...  3 2 2 2 and dx dy is now 70 70\n",
      "1084 1109 10 2  ...from...  2 4 7 2 and dx dy is now 73 73\n",
      "1084 1095 10 2  ...from...  6 3 6 5 and dx dy is now 76 76\n",
      "1150 1097 10 2  ...from...  8 8 7 3 and dx dy is now 80 80\n",
      "1202 1117 10 2  ...from...  8 5 2 2 and dx dy is now 84 84\n",
      "1222 1044 10 2  ...from...  4 2 4 4 and dx dy is now 88 88\n",
      "1155 1106 10 2  ...from...  8 2 4 2 and dx dy is now 92 92\n",
      "1107 1128 10 2  ...from...  8 3 4 7 and dx dy is now 96 96\n",
      "1196 1033 10 2  ...from...  7 3 4 6 and dx dy is now 101 101\n",
      "1121 1133 10 2  ...from...  8 8 8 6 and dx dy is now 106 106\n",
      "1221 1223 10 2  ...from...  6 8 3 4 and dx dy is now 111 111\n",
      "1221 1320 10 2  ...from...  6 6 3 8 and dx dy is now 116 116\n",
      "1306 1318 10 2  ...from...  2 4 5 4 and dx dy is now 122 122\n"
     ]
    }
   ],
   "source": [
    "from random import randint\n",
    "\n",
    "y = 1000\n",
    "x = 1000\n",
    "z = 10\n",
    "dx = 50\n",
    "dy = 50\n",
    "nsteps = 100\n",
    "scale = 0.95\n",
    "while True:\n",
    "    b = bees(x, y, z)\n",
    "    if b != 'drone lost': break\n",
    "b = int(b)\n",
    "print(b)\n",
    "for i in range(nsteps):\n",
    "    while True:\n",
    "        b0 = bees(x + dx, y, z)\n",
    "        if b0 != 'drone lost': break\n",
    "    while True:\n",
    "        b1 = bees(x - dx, y, z)\n",
    "        if b1 != 'drone lost': break\n",
    "    while True:\n",
    "        b2 = bees(x, y + dy, z)\n",
    "        if b2 != 'drone lost': break\n",
    "    while True:\n",
    "        b3 = bees(x, y - dy, z)\n",
    "        if b3 != 'drone lost': break\n",
    "    b0 = int(b0)\n",
    "    b1 = int(b1)\n",
    "    b2 = int(b2)\n",
    "    b3 = int(b3)\n",
    "    if b0 > b + 8: \n",
    "        b = b0\n",
    "        x = x + dx\n",
    "        dx = int(float(dx)*scale)\n",
    "    elif b1 > b + 8: \n",
    "        b = b1\n",
    "        x = x - dx\n",
    "        dx = int(float(dx)*scale)\n",
    "    elif b2 > b + 8:\n",
    "        b = b2\n",
    "        y = y + dy\n",
    "        dy = int(float(dy)*scale)\n",
    "    elif b3 > b + 8:\n",
    "        b = b3\n",
    "        y = y - dy\n",
    "        dy = int(float(dy)*scale)\n",
    "    else: \n",
    "        x = x + randint(-dx, dx)\n",
    "        y = y + randint(-dy, dy)\n",
    "        dx = int(float(dx)/scale)\n",
    "        dy = int(float(dy)/scale)\n",
    "        \n",
    "    print(x, y, z, b, ' ...from... ', b0, b1, b2, b3, 'and dx dy is now', dx, dy)"
   ]
  },
  {
   "cell_type": "code",
   "execution_count": null,
   "metadata": {},
   "outputs": [],
   "source": []
  }
 ],
 "metadata": {
  "kernelspec": {
   "display_name": "Python [conda root]",
   "language": "python",
   "name": "conda-root-py"
  },
  "language_info": {
   "codemirror_mode": {
    "name": "ipython",
    "version": 3
   },
   "file_extension": ".py",
   "mimetype": "text/x-python",
   "name": "python",
   "nbconvert_exporter": "python",
   "pygments_lexer": "ipython3",
   "version": "3.6.6"
  }
 },
 "nbformat": 4,
 "nbformat_minor": 2
}
