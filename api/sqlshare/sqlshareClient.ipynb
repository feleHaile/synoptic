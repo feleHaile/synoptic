{
 "cells": [
  {
   "cell_type": "code",
   "execution_count": 4,
   "metadata": {},
   "outputs": [
    {
     "ename": "AttributeError",
     "evalue": "module 'requests' has no attribute 'HTTPSConnection'",
     "output_type": "error",
     "traceback": [
      "\u001b[0;31m---------------------------------------------------------------------------\u001b[0m",
      "\u001b[0;31mAttributeError\u001b[0m                            Traceback (most recent call last)",
      "\u001b[0;32m<ipython-input-4-2e36cc15e718>\u001b[0m in \u001b[0;36m<module>\u001b[0;34m()\u001b[0m\n\u001b[1;32m      9\u001b[0m \u001b[0;31m# 2) It can be used to test the REST server when debugging problems\u001b[0m\u001b[0;34m\u001b[0m\u001b[0;34m\u001b[0m\u001b[0m\n\u001b[1;32m     10\u001b[0m \u001b[0;34m\u001b[0m\u001b[0m\n\u001b[0;32m---> 11\u001b[0;31m \u001b[0mh\u001b[0m \u001b[0;34m=\u001b[0m \u001b[0mrequests\u001b[0m\u001b[0;34m.\u001b[0m\u001b[0mHTTPSConnection\u001b[0m\u001b[0;34m(\u001b[0m\u001b[0;34m\"rest.sqlshare.escience.washington.edu\"\u001b[0m\u001b[0;34m)\u001b[0m\u001b[0;34m\u001b[0m\u001b[0m\n\u001b[0m\u001b[1;32m     12\u001b[0m \u001b[0;34m\u001b[0m\u001b[0m\n\u001b[1;32m     13\u001b[0m \u001b[0mheaders\u001b[0m \u001b[0;34m=\u001b[0m \u001b[0;34m{\u001b[0m\u001b[0;34m}\u001b[0m\u001b[0;34m\u001b[0m\u001b[0m\n",
      "\u001b[0;31mAttributeError\u001b[0m: module 'requests' has no attribute 'HTTPSConnection'"
     ]
    }
   ],
   "source": [
    "import requests\n",
    "import urllib\n",
    "\n",
    "# This script issues an SQL query directly against the\n",
    "# REST API, bypassing the python client interface\n",
    "\n",
    "# This script serves two purposes:\n",
    "# 1) It demonstrates how the python API works under the sheets\n",
    "# 2) It can be used to test the REST server when debugging problems\n",
    "\n",
    "h = requests.HTTPSConnection(\"rest.sqlshare.escience.washington.edu\")\n",
    "\n",
    "headers = {}\n",
    "# format is ss_apikey <username> : <apikey>\n",
    "# To generate an API Key for your user account, go to\n",
    "# https://sqlshare.escience.washington.edu/sqlshare/#s=credentials\n",
    "# This account is a shared account used as an example.\n",
    "headers[\"Authorization\"] = \"ss_apikey sqlshare@uw.edu : cc4f77d4afb8dfb0462aa6c008771765\"\n",
    "\n",
    "# Construct the url from the SQL query\n",
    "sql = \"SELECT * FROM periodic_table\"\n",
    "selector = \"/REST.svc/v1/db/file?sql=%s\" % (urllib.quote(sql),)\n",
    "\n",
    "# Issue the call\n",
    "h.request('GET', selector, '', headers)\n",
    "\n",
    "# Interpret the resonse\n",
    "res = h.getresponse()\n",
    "\n",
    "if res.status == 200:\n",
    "  # Print the result\n",
    "  print(res.read())\n",
    "  print(\"Test passed!\")\n",
    "else:\n",
    "  raise Exception(\"%s: %s\" % (res.status, res.read()))\n"
   ]
  },
  {
   "cell_type": "code",
   "execution_count": null,
   "metadata": {},
   "outputs": [],
   "source": []
  }
 ],
 "metadata": {
  "kernelspec": {
   "display_name": "Python [conda root]",
   "language": "python",
   "name": "conda-root-py"
  },
  "language_info": {
   "codemirror_mode": {
    "name": "ipython",
    "version": 3
   },
   "file_extension": ".py",
   "mimetype": "text/x-python",
   "name": "python",
   "nbconvert_exporter": "python",
   "pygments_lexer": "ipython3",
   "version": "3.6.6"
  }
 },
 "nbformat": 4,
 "nbformat_minor": 2
}
