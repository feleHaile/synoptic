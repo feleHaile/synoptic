{
 "cells": [
  {
   "cell_type": "raw",
   "metadata": {},
   "source": [
    "#Visualize pH from the Oregon slope base shallow profiler during the 2017 solar eclipse"
   ]
  },
  {
   "cell_type": "code",
   "execution_count": 11,
   "metadata": {},
   "outputs": [],
   "source": [
    "import netrc\n",
    "netrc = netrc.netrc()\n",
    "remoteHostName = \"ooinet.oceanobservatories.org\"\n",
    "info = netrc.authenticators(remoteHostName)\n",
    "username = info[0]\n",
    "token = info[2]"
   ]
  },
  {
   "cell_type": "code",
   "execution_count": 12,
   "metadata": {},
   "outputs": [],
   "source": [
    "import matplotlib.pyplot as plt\n",
    "import matplotlib.dates as dates\n",
    "import netCDF4 as nc\n",
    "import numpy as np\n",
    "\n",
    "import requests\n",
    "import datetime"
   ]
  },
  {
   "cell_type": "code",
   "execution_count": 4,
   "metadata": {},
   "outputs": [],
   "source": [
    "subsite = 'RS01SBPS'\n",
    "node = 'PC01A'\n",
    "sensor = '4B-PHSENA102'\n",
    "method = 'streamed'\n",
    "stream = 'phsen_data_record'\n",
    "beginDT = '2017-08-21T07:00:00.000Z'\n",
    "# beginDT = (datetime.datetime.utcnow() - datetime.timedelta(days=2)).strftime(\"%Y-%m-%dT%H:%M:%S.000Z\")\n",
    "endDT = '2017-08-22T07:00:00.000Z'"
   ]
  },
  {
   "cell_type": "code",
   "execution_count": 5,
   "metadata": {},
   "outputs": [],
   "source": [
    "base_url = 'https://ooinet.oceanobservatories.org/api/m2m/12576/sensor/inv'\n",
    "\n",
    "data_request_url ='/'.join((base_url,subsite,node,sensor,method,stream))\n",
    "params = {\n",
    "    'beginDT':beginDT,\n",
    "    'endDT':endDT,\n",
    "    'limit':20000,   \n",
    "}\n",
    "\n",
    "r = requests.get(data_request_url, params=params,auth=(username, token))\n",
    "data = r.json()"
   ]
  },
  {
   "cell_type": "code",
   "execution_count": 10,
   "metadata": {},
   "outputs": [
    {
     "data": {
      "text/plain": [
       "{'checksum': 139,\n",
       " 'ctdpf_sbe43_sample-practical_salinity': 33.94285689526693,\n",
       " 'driver_timestamp': 3712287780.892228,\n",
       " 'ingestion_timestamp': 3712287784.017,\n",
       " 'internal_timestamp': 0.0,\n",
       " 'ph_light_measurements': [3338,\n",
       "  2374,\n",
       "  2228,\n",
       "  2453,\n",
       "  3336,\n",
       "  1599,\n",
       "  2224,\n",
       "  1964,\n",
       "  3337,\n",
       "  569,\n",
       "  2228,\n",
       "  1142,\n",
       "  3337,\n",
       "  222,\n",
       "  2227,\n",
       "  731,\n",
       "  3342,\n",
       "  264,\n",
       "  2230,\n",
       "  774,\n",
       "  3337,\n",
       "  421,\n",
       "  2231,\n",
       "  963,\n",
       "  3342,\n",
       "  651,\n",
       "  2230,\n",
       "  1202,\n",
       "  3337,\n",
       "  907,\n",
       "  2230,\n",
       "  1429,\n",
       "  3338,\n",
       "  1162,\n",
       "  2226,\n",
       "  1637,\n",
       "  3339,\n",
       "  1389,\n",
       "  2228,\n",
       "  1806,\n",
       "  3340,\n",
       "  1576,\n",
       "  2224,\n",
       "  1941,\n",
       "  3341,\n",
       "  1731,\n",
       "  2230,\n",
       "  2046,\n",
       "  3342,\n",
       "  1855,\n",
       "  2229,\n",
       "  2128,\n",
       "  3341,\n",
       "  1973,\n",
       "  2227,\n",
       "  2209,\n",
       "  3339,\n",
       "  2026,\n",
       "  2228,\n",
       "  2237,\n",
       "  3341,\n",
       "  2092,\n",
       "  2229,\n",
       "  2280,\n",
       "  3340,\n",
       "  2143,\n",
       "  2228,\n",
       "  2311,\n",
       "  3340,\n",
       "  2181,\n",
       "  2227,\n",
       "  2336,\n",
       "  3339,\n",
       "  2214,\n",
       "  2227,\n",
       "  2356,\n",
       "  3339,\n",
       "  2243,\n",
       "  2226,\n",
       "  2375,\n",
       "  3338,\n",
       "  2260,\n",
       "  2228,\n",
       "  2384,\n",
       "  3339,\n",
       "  2279,\n",
       "  2232,\n",
       "  2396,\n",
       "  3338,\n",
       "  2325,\n",
       "  2226,\n",
       "  2429],\n",
       " 'ph_seawater': 7.698601738587833,\n",
       " 'ph_seawater_qc_executed': 29,\n",
       " 'ph_seawater_qc_results': 29,\n",
       " 'phsen_battery_volts': 11.43310546875,\n",
       " 'phsen_thermistor_temperature': 7.492251666484492,\n",
       " 'pk': {'deployment': 4,\n",
       "  'method': 'streamed',\n",
       "  'node': 'PC01A',\n",
       "  'sensor': '4B-PHSENA102',\n",
       "  'stream': 'phsen_data_record',\n",
       "  'subsite': 'RS01SBPS',\n",
       "  'time': 3712287600.8680167},\n",
       " 'port_timestamp': 3712287600.8680167,\n",
       " 'preferred_timestamp': 'port_timestamp',\n",
       " 'record_length': 231,\n",
       " 'record_time': 3586143611,\n",
       " 'record_type': 10,\n",
       " 'reference_light_measurements': [3340,\n",
       "  2371,\n",
       "  2230,\n",
       "  2450,\n",
       "  3339,\n",
       "  2367,\n",
       "  2227,\n",
       "  2447,\n",
       "  3345,\n",
       "  2368,\n",
       "  2229,\n",
       "  2449,\n",
       "  3344,\n",
       "  2370,\n",
       "  2228,\n",
       "  2452],\n",
       " 'signal_intensity_434': [2374.0,\n",
       "  1599.0,\n",
       "  569.0,\n",
       "  222.0,\n",
       "  264.0,\n",
       "  421.0,\n",
       "  651.0,\n",
       "  907.0,\n",
       "  1162.0,\n",
       "  1389.0,\n",
       "  1576.0,\n",
       "  1731.0,\n",
       "  1855.0,\n",
       "  1973.0,\n",
       "  2026.0,\n",
       "  2092.0,\n",
       "  2143.0,\n",
       "  2181.0,\n",
       "  2214.0,\n",
       "  2243.0,\n",
       "  2260.0,\n",
       "  2279.0,\n",
       "  2325.0],\n",
       " 'signal_intensity_578': [2453.0,\n",
       "  1964.0,\n",
       "  1142.0,\n",
       "  731.0,\n",
       "  774.0,\n",
       "  963.0,\n",
       "  1202.0,\n",
       "  1429.0,\n",
       "  1637.0,\n",
       "  1806.0,\n",
       "  1941.0,\n",
       "  2046.0,\n",
       "  2128.0,\n",
       "  2209.0,\n",
       "  2237.0,\n",
       "  2280.0,\n",
       "  2311.0,\n",
       "  2336.0,\n",
       "  2356.0,\n",
       "  2375.0,\n",
       "  2384.0,\n",
       "  2396.0,\n",
       "  2429.0],\n",
       " 'thermistor_end': 2235,\n",
       " 'thermistor_start': 2235,\n",
       " 'time': 3712287600.8680167,\n",
       " 'unique_id': 235,\n",
       " 'voltage_battery': 3122}"
      ]
     },
     "execution_count": 10,
     "metadata": {},
     "output_type": "execute_result"
    }
   ],
   "source": [
    "len(data)\n",
    "data[0]"
   ]
  },
  {
   "cell_type": "code",
   "execution_count": 16,
   "metadata": {},
   "outputs": [],
   "source": [
    "time = []\n",
    "pH = []\n",
    "hour = []\n",
    "\n",
    "for i in range(len(data)):\n",
    "    time.append(nc.num2date(data[i]['time'],'seconds since 1900-01-01').replace(microsecond=0))\n",
    "    pH.append(data[i]['ph_seawater'])\n",
    "    hour.append((data[i]['time']-data[0]['time'])/3600)"
   ]
  },
  {
   "cell_type": "code",
   "execution_count": 18,
   "metadata": {},
   "outputs": [
    {
     "data": {
      "text/plain": [
       "24"
      ]
     },
     "execution_count": 18,
     "metadata": {},
     "output_type": "execute_result"
    }
   ],
   "source": [
    "len(pH)"
   ]
  },
  {
   "cell_type": "markdown",
   "metadata": {},
   "source": [
    "I'm a little confused as to why there are only 24 data points for pH over the 24 period...si this right?"
   ]
  },
  {
   "cell_type": "code",
   "execution_count": 19,
   "metadata": {},
   "outputs": [
    {
     "data": {
      "image/png": "[encoded data removed]",
      "text/plain": [
       "<matplotlib.figure.Figure at 0x7fbc3a237a20>"
      ]
     },
     "metadata": {},
     "output_type": "display_data"
    }
   ],
   "source": [
    "plt.plot(time, pH, marker=\".\", markersize=1, linestyle=None)\n",
    "plt.ylabel('pH (total scale)')\n",
    "plt.xlabel('Time')\n",
    "plt.xticks(rotation=30)\n",
    "#plt.tight_layout()\n",
    "plt.show()"
   ]
  },
  {
   "cell_type": "markdown",
   "metadata": {},
   "source": [
    "This needs to be synched with James' depth data.  "
   ]
  }
 ],
 "metadata": {
  "kernelspec": {
   "display_name": "Python 3",
   "language": "python",
   "name": "python3"
  },
  "language_info": {
   "codemirror_mode": {
    "name": "ipython",
    "version": 3
   },
   "file_extension": ".py",
   "mimetype": "text/x-python",
   "name": "python",
   "nbconvert_exporter": "python",
   "pygments_lexer": "ipython3",
   "version": "3.6.4"
  }
 },
 "nbformat": 4,
 "nbformat_minor": 2
}
