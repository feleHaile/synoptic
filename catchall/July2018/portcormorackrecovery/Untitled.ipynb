{
 "cells": [
  {
   "cell_type": "code",
   "execution_count": 1,
   "metadata": {},
   "outputs": [
    {
     "data": {
      "text/plain": [
       "56"
      ]
     },
     "execution_count": 1,
     "metadata": {},
     "output_type": "execute_result"
    }
   ],
   "source": [
    "x=7*8\n",
    "x"
   ]
  },
  {
   "cell_type": "markdown",
   "metadata": {},
   "source": [
    "### Getting a WMS to work in an ipyleaflet Map\n",
    "\n",
    "The **ipyleaflet** Jupyter notebook extension must be enabled. The command from a Python cell looks like this... \n",
    "\n",
    "```\n",
    "print('ok go')\n",
    "!jupyter nbextension enable --py --sys-prefix ipyleaflet\n",
    "```\n",
    "\n",
    "**inspect** means that we right-click on the map control, select *inspect*, this opens at the right side of the\n",
    "browser window, we select the *Network* tab, and we bump the control in some way to generate some tile requests. \n",
    "When these fail they appear in red ink. They may also be *pending* for some time. The various calls can be hovered \n",
    "or clicked to see in entirety. If they are working then compare them to what is happening in a failing map control;\n",
    "where the difference in the call means the difference between working and not working. \n",
    "\n",
    "\n",
    "* [Marine Geoscience Data System](http://www.marine-geo.org/tools/web_services.php) gets an A+ with GMRT topography and clear links to GetCapabilities \n",
    "  * [Example](https://www.gmrt.org/services/mapserver/wms_merc?request=GetCapabilities&service=WMS&version=1.0.0)\n",
    "\n",
    "```\n",
    "wms = WMSLayer(url='https://www.gmrt.org/services/mapserver/wms_merc', layers='GMRT')\n",
    "```\n",
    "\n",
    "* [NASA Earth Observations](https://neo.sci.gsfc.nasa.gov/about/)\n",
    "* [MARACOOS](http://wms.maracoos.org/wms/index) introduced the *styles* issue\n",
    "  * Used the **inspect** browser feature to start figuring out: Why no data? \n",
    "  * But real progress was from **inspecting** the network calls from the [example leaflet map](http://wms.maracoos.org/wms/demo)\n",
    "    * This got us from using the GetCap Style Name string to using a workable Style Name string\n",
    "\n",
    "```\n",
    "styles='contourf_average_jet_0.0_0.1_grid_False'\n",
    "```\n",
    "\n",
    "  * Here we find that *countourf_average...* does **not** occur in the GetCapabilities XML\n",
    "\n",
    "* [NOAA NowCOAST](https://nowcoast.noaa.gov/help/#!section=wms-layer-ids) works for SST...\n",
    "  * Get this: The SST layer for the WMS is named '1'. Like the number 1. I guess it is layer 1. \n",
    "  * Anyway it worked without further forensics so they get a B- for that\n",
    "  \n",
    "* [Federal Geographic Data Committee (FGDC.gov)](https://www.fgdc.gov/index_html#)\n",
    "* [Integrated Marine Observing System (IMOS)](https://catalogue-imos.aodn.org.au/geonetwork/srv/eng/main.home)\n",
    "  \n",
    "### Further goals\n",
    "\n",
    "* [time-enabled services like NOAA says](https://nowcoast.noaa.gov/help/#!section=time-enabled-map-services)\n",
    "* Chlorophyll, MSLA, sea state, precip, wind speed, wind direction would all be good to have\n",
    "* Tie in to specific lat/lon\n",
    "* DN extraction\n",
    "* Greyscale version re-colored\n",
    "* NASA GIBS "
   ]
  },
  {
   "cell_type": "markdown",
   "metadata": {},
   "source": [
    "**stopper**"
   ]
  },
  {
   "cell_type": "code",
   "execution_count": 2,
   "metadata": {},
   "outputs": [
    {
     "name": "stdout",
     "output_type": "stream",
     "text": [
      "Enabling notebook extension jupyter-leaflet/extension...\r\n",
      "      - Validating: \u001b[32mOK\u001b[0m\r\n"
     ]
    }
   ],
   "source": [
    "!jupyter nbextension enable --py --sys-prefix ipyleaflet"
   ]
  },
  {
   "cell_type": "code",
   "execution_count": 3,
   "metadata": {},
   "outputs": [
    {
     "data": {
      "application/vnd.jupyter.widget-view+json": {
       "model_id": "ca1832afafca467eba61c9c55d09acb8",
       "version_major": 2,
       "version_minor": 0
      },
      "text/plain": [
       "Map(basemap={'url': 'https://{s}.tile.openstreetmap.org/{z}/{x}/{y}.png', 'max_zoom': 19, 'attribution': 'Map …"
      ]
     },
     "metadata": {},
     "output_type": "display_data"
    }
   ],
   "source": [
    "# from ipyleaflet import (Map, Marker, TileLayer, ImageOverlay, Polyline, Polygon, Rectangle, Circle, CircleMarker,\n",
    "#     GeoJSON, DrawControl, WMSLayer)\n",
    "\n",
    "from ipyleaflet import *\n",
    "\n",
    "from traitlets import link\n",
    "\n",
    "center, zoom, widString, hgtString = [46, -126], 7, '970px', '250px'\n",
    "m = Map(center=center, zoom=zoom, layout=dict(width=widString, height=hgtString))\n",
    "m2 = Map(center=center, zoom=zoom, layout=dict(width=widString, height=hgtString))\n",
    "\n",
    "# print(m.zoom)\n",
    "wms = WMSLayer(url='https://www.gmrt.org/services/mapserver/wms_merc', layers='GMRT')\n",
    "# works; mid-Atlantic only\n",
    "# wms2 = WMSLayer(url='http://wms.maracoos.org/wms/MODIS_Eight_Agg', \\\n",
    "#                 layers='mass_concentration_of_chlorophyll_in_sea_water', \\\n",
    "#                 styles='contourf_average_jet_0.0_0.1_grid_False')\n",
    "# works but mid-Atlantic only\n",
    "# wms2 = WMSLayer(url='http://wms.maracoos.org/wms/MURSST_Agg', \\\n",
    "#                 layers='sea_surface_temperature', \\\n",
    "#                 styles='contourf_average_jet_0.0_0.1_grid_False')\n",
    "# doesn't work...\n",
    "# wms2 = WMSLayer(url='https://neo.sci.gsfc.nasa.gov/wms', layers='AVHRR_CLIM_W', styles='rgb')\n",
    "# SST but tiles unreliable\n",
    "wms2 = WMSLayer(url='https://nowcoast.noaa.gov/arcgis/services/nowcoast/analysis_ocean_sfc_sst_time/MapServer/WmsServer',\\\n",
    "                layers='1')\n",
    "# wms2 = WMSLayer(url='https://nowcoast.noaa.gov/arcgis/services/nowcoast/obs_meteocean_insitu_sfc_time/MapServer/WMSServer',\\\n",
    "#                  layers='34')\n",
    "# Does not work (monthly)\n",
    "# wms2 = WMSLayer(url='https://neo.sci.gsfc.nasa.gov/wms/wms', layers='MY1DMM_CHLORA', styles='rgb')\n",
    "# Trying weekly, 'rgb' and 'gs' should both work but neither\n",
    "# wms2 = WMSLayer(url='https://neo.sci.gsfc.nasa.gov/wms/wms', layers='MY1DMW_CHLORA', styles='gs')\n",
    "# wms2 = WMSLayer(url='https://neo.sci.gsfc.nasa.gov/wms', layers='MY1DMW_CHLORA', styles='gs')\n",
    "# wms2 = WMSLayer(url='https://neo.sci.gsfc.nasa.gov/wms/wms', layers='MODAL2_M_CLD_FR', styles='rgb')\n",
    "# wms2 = WMSLayer(url='', layers='', styles='')\n",
    "\n",
    "# change map size with ..., layout=dict(width='600px', height='400px'))\n",
    "m.add_layer(wms)\n",
    "m2.add_layer(wms2)\n",
    "\n",
    "dc = DrawControl()\n",
    "def handle_draw(self, action, geo_json):\n",
    "    print(action)\n",
    "    print(geo_json)\n",
    "dc.on_draw(handle_draw)\n",
    "\n",
    "m.add_control(dc)\n",
    "map_center_link = link((m, 'center'), (m2, 'center'))\n",
    "map_zoom_link = link((m, 'zoom'), (m2, 'zoom'))\n",
    "\n",
    "m"
   ]
  },
  {
   "cell_type": "code",
   "execution_count": 4,
   "metadata": {},
   "outputs": [
    {
     "data": {
      "application/vnd.jupyter.widget-view+json": {
       "model_id": "d93cf8c831b54649ac12932d332902a8",
       "version_major": 2,
       "version_minor": 0
      },
      "text/plain": [
       "Map(basemap={'url': 'https://{s}.tile.openstreetmap.org/{z}/{x}/{y}.png', 'max_zoom': 19, 'attribution': 'Map …"
      ]
     },
     "metadata": {},
     "output_type": "display_data"
    }
   ],
   "source": [
    "m2"
   ]
  },
  {
   "cell_type": "code",
   "execution_count": null,
   "metadata": {},
   "outputs": [],
   "source": []
  }
 ],
 "metadata": {
  "kernelspec": {
   "display_name": "Python 3",
   "language": "python",
   "name": "python3"
  },
  "language_info": {
   "codemirror_mode": {
    "name": "ipython",
    "version": 3
   },
   "file_extension": ".py",
   "mimetype": "text/x-python",
   "name": "python",
   "nbconvert_exporter": "python",
   "pygments_lexer": "ipython3",
   "version": "3.6.5"
  }
 },
 "nbformat": 4,
 "nbformat_minor": 2
}
