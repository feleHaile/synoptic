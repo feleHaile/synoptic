{
 "cells": [
  {
   "cell_type": "markdown",
   "metadata": {},
   "source": [
    "### Scripts to visualize ASCAT data\n",
    "\n",
    "The HiMAT Daily Surface Freeze/Thaw and Snowmelt Status (F/T/M), Version 1 is a data set of the bulk landscape frozen, thawed or snowmelt status derived from enhanced resolution Advanced Scatterometer (ASCAT METOP-A). Data is obtained from the NASA sponsored Scatterometer Climate Record Pathfinder at Brigham Young University courtesy of David G. Long.\n",
    "\n",
    "Full metadata [here](http://himat.org/team-documents/data-access/ascat/).\n"
   ]
  },
  {
   "cell_type": "code",
   "execution_count": 6,
   "metadata": {
    "collapsed": true
   },
   "outputs": [],
   "source": [
    "# import the libraries\n",
    "%matplotlib inline\n",
    "\n",
    "import xarray as xr"
   ]
  },
  {
   "cell_type": "code",
   "execution_count": 4,
   "metadata": {
    "collapsed": false
   },
   "outputs": [],
   "source": [
    "ds = xr.open_dataset('/att/pubrepo/hma_data/products/snowmelt/ascat/daily/2009/radcwt_1r4_China-Japan_hma_ascat_mafa_20091229_20091229.h5')"
   ]
  },
  {
   "cell_type": "markdown",
   "metadata": {},
   "source": [
    "#### Examine the contents of the dataset"
   ]
  },
  {
   "cell_type": "code",
   "execution_count": 5,
   "metadata": {
    "collapsed": false
   },
   "outputs": [
    {
     "data": {
      "text/plain": [
       "<xarray.Dataset>\n",
       "Dimensions:                     (phony_dim_0: 1, phony_dim_1: 500, phony_dim_2: 800, phony_dim_3: 0)\n",
       "Dimensions without coordinates: phony_dim_0, phony_dim_1, phony_dim_2, phony_dim_3\n",
       "Data variables:\n",
       "    dates                       (phony_dim_0) float32 14607.0\n",
       "    freeze_thaw_melt            (phony_dim_1, phony_dim_2, phony_dim_0) float32 0.0 ...\n",
       "    freeze_thaw_melt_cwt_all    (phony_dim_1, phony_dim_2, phony_dim_0) float32 1.0 ...\n",
       "    freeze_thaw_melt_thr        (phony_dim_1, phony_dim_2, phony_dim_0) float32 0.0 ...\n",
       "    freeze_thaw_melt_thr_value  (phony_dim_1, phony_dim_2) float32 -16.186 ...\n",
       "    latitude                    (phony_dim_1, phony_dim_2) float32 37.0972 ...\n",
       "    longitude                   (phony_dim_1, phony_dim_2) float32 63.4278 ...\n",
       "    sigma0                      (phony_dim_1, phony_dim_2, phony_dim_3) float32 \n",
       "    sigma0_dates                (phony_dim_3) float32 \n",
       "    surface_type                (phony_dim_1, phony_dim_2) float32 0.0 0.0 ...\n",
       "Attributes:\n",
       "    LongName:                High Mountain Asia ASCAT Freeze/Thaw/Melt Status\n",
       "    ShortName:               HiMAT_FreezeThawMelt\n",
       "    DataContact:             Nick Steiner <nsteiner@ccny.cuny.edu>\n",
       "    DataOrganization:        The City College of New York (CUNY), New York, NY\n",
       "    SourceDataOrganization:  NASA-SCP-BYU\n",
       "    SourceDataProduct:       mafa-ChJ-sir\n",
       "    DataVersion:             1r4"
      ]
     },
     "execution_count": 5,
     "metadata": {},
     "output_type": "execute_result"
    }
   ],
   "source": [
    "ds"
   ]
  },
  {
   "cell_type": "markdown",
   "metadata": {},
   "source": [
    "#### Make a plot"
   ]
  },
  {
   "cell_type": "code",
   "execution_count": 8,
   "metadata": {
    "collapsed": false
   },
   "outputs": [
    {
     "data": {
      "text/plain": [
       "<matplotlib.collections.QuadMesh at 0x7fe53ceb0278>"
      ]
     },
     "execution_count": 8,
     "metadata": {},
     "output_type": "execute_result"
    },
    {
     "data": {
      "image/png": "[encoded data removed]",
      "text/plain": [
       "<matplotlib.figure.Figure at 0x7fe541030c88>"
      ]
     },
     "metadata": {},
     "output_type": "display_data"
    }
   ],
   "source": [
    "ds['freeze_thaw_melt'].plot()"
   ]
  }
 ],
 "metadata": {
  "kernelspec": {
   "display_name": "Python (himat)",
   "language": "python",
   "name": "himat"
  },
  "language_info": {
   "codemirror_mode": {
    "name": "ipython",
    "version": 3
   },
   "file_extension": ".py",
   "mimetype": "text/x-python",
   "name": "python",
   "nbconvert_exporter": "python",
   "pygments_lexer": "ipython3",
   "version": "3.6.1"
  }
 },
 "nbformat": 4,
 "nbformat_minor": 2
}
