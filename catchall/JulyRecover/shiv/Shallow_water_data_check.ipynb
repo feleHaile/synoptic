{
 "cells": [
  {
   "cell_type": "markdown",
   "metadata": {},
   "source": [
    "Get the credentials by going to OOI website\n",
    "\n",
    "[OOI](https://ooinet.oceanobservatories.org)"
   ]
  },
  {
   "cell_type": "markdown",
   "metadata": {},
   "source": [
    "__Data request__"
   ]
  },
  {
   "cell_type": "code",
   "execution_count": 1,
   "metadata": {},
   "outputs": [],
   "source": [
    "import datetime\n",
    "import yodapy\n",
    "from yodapy.core import OOIASSET"
   ]
  },
  {
   "cell_type": "code",
   "execution_count": 8,
   "metadata": {},
   "outputs": [
    {
     "name": "stdout",
     "output_type": "stream",
     "text": [
      "Please wait while data is compiled.\n"
     ]
    },
    {
     "data": {
      "text/plain": [
       "'https://opendap.oceanobservatories.org/thredds/catalog/ooi/pshivraj@uw.edu/20180530T192834-RS01SBPS-SF01A-2A-CTDPFA102-streamed-ctdpf_sbe43_sample/catalog.html'"
      ]
     },
     "execution_count": 8,
     "metadata": {},
     "output_type": "execute_result"
    }
   ],
   "source": [
    "username = ''\n",
    "token = ''\n",
    "yodapy.utils.set_credentials_file(username= username, token= token)\n",
    "asset = OOIASSET.from_reference_designator('RS01SBPS-SF01A-2A-CTDPFA102')\n",
    "\n",
    "stdt = datetime.datetime(2018, 1, 1)\n",
    "enddt = datetime.datetime(2018, 1, 30)\n",
    "\n",
    "asset.request_data(\n",
    "    begin_date=stdt,\n",
    "    end_date=enddt\n",
    ")"
   ]
  },
  {
   "cell_type": "markdown",
   "metadata": {},
   "source": [
    "Check the above url for genrated data, once done hit the next cell. This might take a minute or two"
   ]
  },
  {
   "cell_type": "code",
   "execution_count": 9,
   "metadata": {},
   "outputs": [],
   "source": [
    "%%capture\n",
    "ds = asset.to_xarray()"
   ]
  },
  {
   "cell_type": "markdown",
   "metadata": {},
   "source": [
    "__Data Analysis__"
   ]
  },
  {
   "cell_type": "code",
   "execution_count": 10,
   "metadata": {},
   "outputs": [],
   "source": [
    "from IPython import display\n",
    "import matplotlib.pyplot as plt\n",
    "import matplotlib.gridspec as gridspec\n",
    "import numpy as np\n",
    "import netCDF4 as nc\n",
    "import pandas as pd\n",
    "import requests\n",
    "from scipy import constants"
   ]
  },
  {
   "cell_type": "code",
   "execution_count": 11,
   "metadata": {},
   "outputs": [],
   "source": [
    "# Extracting desired variables to be analyzed.\n",
    "ds_time = ds['time'].values\n",
    "pressure = ds['seawater_pressure'].values\n",
    "temperature = ds['seawater_temperature'].values"
   ]
  },
  {
   "cell_type": "code",
   "execution_count": 12,
   "metadata": {},
   "outputs": [
    {
     "data": {
      "text/html": [
       "<div>\n",
       "<style scoped>\n",
       "    .dataframe tbody tr th:only-of-type {\n",
       "        vertical-align: middle;\n",
       "    }\n",
       "\n",
       "    .dataframe tbody tr th {\n",
       "        vertical-align: top;\n",
       "    }\n",
       "\n",
       "    .dataframe thead th {\n",
       "        text-align: right;\n",
       "    }\n",
       "</style>\n",
       "<table border=\"1\" class=\"dataframe\">\n",
       "  <thead>\n",
       "    <tr style=\"text-align: right;\">\n",
       "      <th></th>\n",
       "      <th>pressure</th>\n",
       "      <th>temperature</th>\n",
       "      <th>time</th>\n",
       "      <th>local_time</th>\n",
       "      <th>date</th>\n",
       "      <th>hour</th>\n",
       "    </tr>\n",
       "  </thead>\n",
       "  <tbody>\n",
       "    <tr>\n",
       "      <th>0</th>\n",
       "      <td>190.106058</td>\n",
       "      <td>7.915867</td>\n",
       "      <td>2018-01-01 00:00:00.415237120+00:00</td>\n",
       "      <td>2017-12-31 15:00:00</td>\n",
       "      <td>2017-12-31</td>\n",
       "      <td>15</td>\n",
       "    </tr>\n",
       "    <tr>\n",
       "      <th>1</th>\n",
       "      <td>190.099638</td>\n",
       "      <td>7.915804</td>\n",
       "      <td>2018-01-01 00:00:01.416078336+00:00</td>\n",
       "      <td>2017-12-31 15:00:01</td>\n",
       "      <td>2017-12-31</td>\n",
       "      <td>15</td>\n",
       "    </tr>\n",
       "    <tr>\n",
       "      <th>2</th>\n",
       "      <td>190.096456</td>\n",
       "      <td>7.915804</td>\n",
       "      <td>2018-01-01 00:00:02.416397824+00:00</td>\n",
       "      <td>2017-12-31 15:00:02</td>\n",
       "      <td>2017-12-31</td>\n",
       "      <td>15</td>\n",
       "    </tr>\n",
       "    <tr>\n",
       "      <th>3</th>\n",
       "      <td>190.094316</td>\n",
       "      <td>7.915741</td>\n",
       "      <td>2018-01-01 00:00:03.416716288+00:00</td>\n",
       "      <td>2017-12-31 15:00:03</td>\n",
       "      <td>2017-12-31</td>\n",
       "      <td>15</td>\n",
       "    </tr>\n",
       "    <tr>\n",
       "      <th>4</th>\n",
       "      <td>190.093260</td>\n",
       "      <td>7.915804</td>\n",
       "      <td>2018-01-01 00:00:04.415160320+00:00</td>\n",
       "      <td>2017-12-31 15:00:04</td>\n",
       "      <td>2017-12-31</td>\n",
       "      <td>15</td>\n",
       "    </tr>\n",
       "  </tbody>\n",
       "</table>\n",
       "</div>"
      ],
      "text/plain": [
       "     pressure  temperature                                time  \\\n",
       "0  190.106058     7.915867 2018-01-01 00:00:00.415237120+00:00   \n",
       "1  190.099638     7.915804 2018-01-01 00:00:01.416078336+00:00   \n",
       "2  190.096456     7.915804 2018-01-01 00:00:02.416397824+00:00   \n",
       "3  190.094316     7.915741 2018-01-01 00:00:03.416716288+00:00   \n",
       "4  190.093260     7.915804 2018-01-01 00:00:04.415160320+00:00   \n",
       "\n",
       "           local_time        date  hour  \n",
       "0 2017-12-31 15:00:00  2017-12-31    15  \n",
       "1 2017-12-31 15:00:01  2017-12-31    15  \n",
       "2 2017-12-31 15:00:02  2017-12-31    15  \n",
       "3 2017-12-31 15:00:03  2017-12-31    15  \n",
       "4 2017-12-31 15:00:04  2017-12-31    15  "
      ]
     },
     "execution_count": 12,
     "metadata": {},
     "output_type": "execute_result"
    }
   ],
   "source": [
    "sample_data = pd.DataFrame({'time' : ds_time , 'pressure': pressure, 'temperature' : temperature})\n",
    "#changinf time zone to Pacific\n",
    "sample_data['time'] = pd.to_datetime(sample_data['time']).dt.tz_localize('UTC')\n",
    "sample_data['local_time'] = sample_data['time'].dt.tz_convert('US/Pacific')\n",
    "\n",
    "# adding offset of -1 for Axial Seamount time zone\n",
    "sample_data['local_time'] = sample_data['local_time'] +  pd.DateOffset(hours=-1)\n",
    "sample_data['local_time'] = sample_data['local_time'].dt.floor('s')\n",
    "sample_data['date'] = sample_data['local_time'].dt.date\n",
    "sample_data['hour'] = sample_data['local_time'].dt.hour\n",
    "\n",
    "#removing localization from timestamp.\n",
    "sample_data['local_time'] = sample_data['local_time'].dt.tz_localize(None)\n",
    "sample_data.head(5)"
   ]
  },
  {
   "cell_type": "code",
   "execution_count": 13,
   "metadata": {},
   "outputs": [],
   "source": [
    "#grouping the data to analyze temperature and pressure(depth)\n",
    "grouped_data = sample_data[['local_time','temperature','pressure']].groupby('local_time').mean()"
   ]
  },
  {
   "cell_type": "code",
   "execution_count": 14,
   "metadata": {},
   "outputs": [
    {
     "data": {
      "text/html": [
       "<div>\n",
       "<style scoped>\n",
       "    .dataframe tbody tr th:only-of-type {\n",
       "        vertical-align: middle;\n",
       "    }\n",
       "\n",
       "    .dataframe tbody tr th {\n",
       "        vertical-align: top;\n",
       "    }\n",
       "\n",
       "    .dataframe thead th {\n",
       "        text-align: right;\n",
       "    }\n",
       "</style>\n",
       "<table border=\"1\" class=\"dataframe\">\n",
       "  <thead>\n",
       "    <tr style=\"text-align: right;\">\n",
       "      <th></th>\n",
       "      <th>temperature</th>\n",
       "      <th>pressure</th>\n",
       "      <th>temp_bin</th>\n",
       "    </tr>\n",
       "    <tr>\n",
       "      <th>local_time</th>\n",
       "      <th></th>\n",
       "      <th></th>\n",
       "      <th></th>\n",
       "    </tr>\n",
       "  </thead>\n",
       "  <tbody>\n",
       "    <tr>\n",
       "      <th>2017-12-31 15:00:00</th>\n",
       "      <td>7.915867</td>\n",
       "      <td>190.106058</td>\n",
       "      <td>blue</td>\n",
       "    </tr>\n",
       "    <tr>\n",
       "      <th>2017-12-31 15:00:01</th>\n",
       "      <td>7.915804</td>\n",
       "      <td>190.099638</td>\n",
       "      <td>blue</td>\n",
       "    </tr>\n",
       "    <tr>\n",
       "      <th>2017-12-31 15:00:02</th>\n",
       "      <td>7.915804</td>\n",
       "      <td>190.096456</td>\n",
       "      <td>blue</td>\n",
       "    </tr>\n",
       "    <tr>\n",
       "      <th>2017-12-31 15:00:03</th>\n",
       "      <td>7.915741</td>\n",
       "      <td>190.094316</td>\n",
       "      <td>blue</td>\n",
       "    </tr>\n",
       "    <tr>\n",
       "      <th>2017-12-31 15:00:04</th>\n",
       "      <td>7.915804</td>\n",
       "      <td>190.093260</td>\n",
       "      <td>blue</td>\n",
       "    </tr>\n",
       "  </tbody>\n",
       "</table>\n",
       "</div>"
      ],
      "text/plain": [
       "                     temperature    pressure temp_bin\n",
       "local_time                                           \n",
       "2017-12-31 15:00:00     7.915867  190.106058     blue\n",
       "2017-12-31 15:00:01     7.915804  190.099638     blue\n",
       "2017-12-31 15:00:02     7.915804  190.096456     blue\n",
       "2017-12-31 15:00:03     7.915741  190.094316     blue\n",
       "2017-12-31 15:00:04     7.915804  190.093260     blue"
      ]
     },
     "execution_count": 14,
     "metadata": {},
     "output_type": "execute_result"
    }
   ],
   "source": [
    "#binning of temperature\n",
    "grouped_data['temp_bin'] = pd.cut(grouped_data.temperature, bins=[6, 8, 9, 13], labels=['cold','mild','warm'])\n",
    "map_temp = {'cold': 'blue', 'mild': 'orange','warm':'red'}\n",
    "grouped_data.replace({\"temp_bin\": map_temp},inplace=True)\n",
    "grouped_data.head(5)"
   ]
  },
  {
   "cell_type": "markdown",
   "metadata": {},
   "source": [
    "Plotly would require one time credentials to make the plot, once ran it wont require credentials on a particular system.\n",
    "\n",
    "[Plotly Signup](https://plot.ly/settings/api#/)"
   ]
  },
  {
   "cell_type": "code",
   "execution_count": 15,
   "metadata": {},
   "outputs": [
    {
     "name": "stdout",
     "output_type": "stream",
     "text": [
      "High five! You successfully sent some data to your account on plotly. View your plot in your browser at https://plot.ly/~pshivraj/0 or inside your plot.ly account where it is named 'basic-line'\n"
     ]
    },
    {
     "data": {
      "text/html": [
       "<iframe id=\"igraph\" scrolling=\"no\" style=\"border:none;\" seamless=\"seamless\" src=\"https://plot.ly/~pshivraj/0.embed\" height=\"525px\" width=\"100%\"></iframe>"
      ],
      "text/plain": [
       "<plotly.tools.PlotlyDisplay object>"
      ]
     },
     "execution_count": 15,
     "metadata": {},
     "output_type": "execute_result"
    }
   ],
   "source": [
    "import plotly\n",
    "import plotly.plotly as py\n",
    "import plotly.graph_objs as go\n",
    "# plotly.tools.set_credentials_file(username='',api_key='')\n",
    "\n",
    "df = grouped_data[(grouped_data.index > '2018-01-01') & (grouped_data.index < '2018-01-07')]\n",
    "trace = go.Scatter(x=df.index[::200],\n",
    "                   y=df.pressure[::200],\n",
    "                   mode='markers+text',\n",
    "                   marker=dict(color=df.temp_bin.values[::200]))\n",
    "\n",
    "data = [trace]\n",
    "layout = dict(\n",
    "    title='Dept vs Time with Temperature color coded',\n",
    "    xaxis=dict(\n",
    "        rangeselector=dict(\n",
    "            buttons=list([\n",
    "                dict(count=1,\n",
    "                     label='1m',\n",
    "                     step='month',\n",
    "                     stepmode='backward'),\n",
    "                dict(count=6,\n",
    "                     label='6m',\n",
    "                     step='month',\n",
    "                     stepmode='backward'),\n",
    "                dict(count=1,\n",
    "                    label='YTD',\n",
    "                    step='year',\n",
    "                    stepmode='todate'),\n",
    "                dict(count=1,\n",
    "                    label='1y',\n",
    "                    step='year',\n",
    "                    stepmode='backward'),\n",
    "                dict(step='all')\n",
    "            ])\n",
    "        ),\n",
    "        rangeslider=dict()\n",
    "    ),\n",
    "    yaxis = dict(\n",
    "      title = \"Depth\",\n",
    "      autorange ='reversed'\n",
    "    ),\n",
    ")\n",
    "\n",
    "fig = dict(data=data, layout=layout)\n",
    "py.iplot(fig,filename = 'basic-line')"
   ]
  },
  {
   "cell_type": "markdown",
   "metadata": {},
   "source": [
    "As we can see Noon time ascend for Nitrate collection looks fine (starts at around '11:45') with timeshift of 1 hour from Pacific Time, \n",
    "however Night time ascend for Nitrate starts at around '22:25'"
   ]
  },
  {
   "cell_type": "markdown",
   "metadata": {},
   "source": [
    "__Winch Stuck__"
   ]
  },
  {
   "cell_type": "markdown",
   "metadata": {},
   "source": [
    "It looks like winch got stuck twice in the month of Jan 2018. Lets plot and see when it happened."
   ]
  },
  {
   "cell_type": "code",
   "execution_count": 16,
   "metadata": {},
   "outputs": [
    {
     "name": "stdout",
     "output_type": "stream",
     "text": [
      "High five! You successfully sent some data to your account on plotly. View your plot in your browser at https://plot.ly/~pshivraj/0 or inside your plot.ly account where it is named 'basic-line'\n"
     ]
    },
    {
     "data": {
      "text/html": [
       "<iframe id=\"igraph\" scrolling=\"no\" style=\"border:none;\" seamless=\"seamless\" src=\"https://plot.ly/~pshivraj/0.embed\" height=\"525px\" width=\"100%\"></iframe>"
      ],
      "text/plain": [
       "<plotly.tools.PlotlyDisplay object>"
      ]
     },
     "execution_count": 16,
     "metadata": {},
     "output_type": "execute_result"
    }
   ],
   "source": [
    "import plotly\n",
    "import plotly.plotly as py\n",
    "import plotly.graph_objs as go\n",
    "# plotly.tools.set_credentials_file(username='',api_key='')\n",
    "\n",
    "#skipping 200 consecutive values as the values are quite similar and redundant to analysis.\n",
    "df = grouped_data[(grouped_data.index > '2018-01-01') & (grouped_data.index < '2018-01-30')]\n",
    "trace = go.Scatter(x=df.index[::200],\n",
    "                   y=df.pressure[::200],\n",
    "                   mode='markers+text',\n",
    "                   marker=dict(color=df.temp_bin.values[::200]))\n",
    "\n",
    "data = [trace]\n",
    "layout = dict(\n",
    "    title='Dept vs Time with Temperature color coded',\n",
    "    xaxis=dict(\n",
    "        rangeselector=dict(\n",
    "            buttons=list([\n",
    "                dict(count=1,\n",
    "                     label='1m',\n",
    "                     step='month',\n",
    "                     stepmode='backward'),\n",
    "                dict(count=6,\n",
    "                     label='6m',\n",
    "                     step='month',\n",
    "                     stepmode='backward'),\n",
    "                dict(count=1,\n",
    "                    label='YTD',\n",
    "                    step='year',\n",
    "                    stepmode='todate'),\n",
    "                dict(count=1,\n",
    "                    label='1y',\n",
    "                    step='year',\n",
    "                    stepmode='backward'),\n",
    "                dict(step='all')\n",
    "            ])\n",
    "        ),\n",
    "        rangeslider=dict()\n",
    "    ),\n",
    "    yaxis = dict(\n",
    "      title = \"Depth\",\n",
    "      autorange ='reversed'\n",
    "    ),\n",
    ")\n",
    "\n",
    "fig = dict(data=data, layout=layout)\n",
    "py.iplot(fig,filename = 'basic-line')"
   ]
  },
  {
   "cell_type": "markdown",
   "metadata": {},
   "source": [
    "So its on Two days 5th of Jan 2018 (from Midnight till morning 9) at depth around 195m\n",
    "and on 25th of Jan(from midnight till morning 6) around 30m.\n",
    "Additionally there is no data from '18th Jan 18:00 'till '19th Jan 19:00'."
   ]
  },
  {
   "cell_type": "markdown",
   "metadata": {},
   "source": [
    "Let look at if we can detect the pattern when it got stuck."
   ]
  },
  {
   "cell_type": "code",
   "execution_count": 17,
   "metadata": {},
   "outputs": [
    {
     "data": {
      "image/png": "[encoded data removed]",
      "text/plain": [
       "<Figure size 720x360 with 2 Axes>"
      ]
     },
     "metadata": {},
     "output_type": "display_data"
    }
   ],
   "source": [
    "#let decide a step function which has upper and lower bounds similar to our standardize data.\n",
    "step_function = np.concatenate([[-1]*10,[1]*10])\n",
    "grouped_data =  grouped_data[::1000]\n",
    "\n",
    "#standardise the data for correlation calculation \n",
    "depth = (grouped_data.pressure - grouped_data.pressure.mean())/grouped_data.pressure.std()\n",
    "\n",
    "#calculate the correlation of our predefined step function with existing data\n",
    "corr_val = np.correlate(depth, step_function,mode='same')\n",
    "\n",
    "# setting a threshold for anomalies\n",
    "th = 10\n",
    "plt.figure(figsize=(10,5))\n",
    "plt.subplot(211)\n",
    "plt.plot(depth.values)\n",
    "plt.subplot(212)\n",
    "plt.plot(corr_val)\n",
    "plt.plot(np.arange(len(corr_val))[(corr_val > th) + (corr_val < -th)],corr_val[(corr_val > th) + (corr_val < -th)],'ro')\n",
    "plt.show()"
   ]
  },
  {
   "cell_type": "markdown",
   "metadata": {},
   "source": [
    "As we can see a basic correlation measure can reveal that we do have some anomalies happening around 5th and 25th."
   ]
  }
 ],
 "metadata": {
  "kernelspec": {
   "display_name": "Python (dev)",
   "language": "python",
   "name": "dev"
  },
  "language_info": {
   "codemirror_mode": {
    "name": "ipython",
    "version": 3
   },
   "file_extension": ".py",
   "mimetype": "text/x-python",
   "name": "python",
   "nbconvert_exporter": "python",
   "pygments_lexer": "ipython3",
   "version": "3.6.5"
  }
 },
 "nbformat": 4,
 "nbformat_minor": 2
}
