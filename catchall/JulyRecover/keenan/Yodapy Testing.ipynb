{
 "cells": [
  {
   "cell_type": "code",
   "execution_count": 1,
   "metadata": {},
   "outputs": [
    {
     "data": {
      "text/plain": [
       "'0.1.0-alpha+90.gbe45b7c'"
      ]
     },
     "execution_count": 1,
     "metadata": {},
     "output_type": "execute_result"
    }
   ],
   "source": [
    "import yodapy\n",
    "yodapy.__version__"
   ]
  },
  {
   "cell_type": "code",
   "execution_count": 2,
   "metadata": {},
   "outputs": [],
   "source": [
    "# set up data access\n",
    "from yodapy.datasources import OOI\n",
    "from yodapy.utils import set_credentials_file\n",
    "\n",
    "set_credentials_file(data_source='ooi', username='OOIAPI-CHN725DB03M3AC', token='SAFZTAB3M1')"
   ]
  },
  {
   "cell_type": "code",
   "execution_count": 3,
   "metadata": {},
   "outputs": [],
   "source": [
    "ooi = OOI()"
   ]
  },
  {
   "cell_type": "code",
   "execution_count": 13,
   "metadata": {},
   "outputs": [
    {
     "data": {
      "text/html": [
       "<div>\n",
       "<style scoped>\n",
       "    .dataframe tbody tr th:only-of-type {\n",
       "        vertical-align: middle;\n",
       "    }\n",
       "\n",
       "    .dataframe tbody tr th {\n",
       "        vertical-align: top;\n",
       "    }\n",
       "\n",
       "    .dataframe thead th {\n",
       "        text-align: right;\n",
       "    }\n",
       "</style>\n",
       "<table border=\"1\" class=\"dataframe\">\n",
       "  <thead>\n",
       "    <tr style=\"text-align: right;\">\n",
       "      <th></th>\n",
       "      <th>reference_designator</th>\n",
       "      <th>name</th>\n",
       "      <th>start_depth</th>\n",
       "      <th>end_depth</th>\n",
       "      <th>current_status</th>\n",
       "      <th>preferred_stream</th>\n",
       "      <th>preferred_parameter</th>\n",
       "      <th>location</th>\n",
       "    </tr>\n",
       "  </thead>\n",
       "  <tbody>\n",
       "    <tr>\n",
       "      <th>9</th>\n",
       "      <td>CE01ISSM-MFD37-03-CTDBPC000</td>\n",
       "      <td>CTD</td>\n",
       "      <td>25.0</td>\n",
       "      <td>25.0</td>\n",
       "      <td></td>\n",
       "      <td>ctdbp_cdef_dcl_instrument</td>\n",
       "      <td>6</td>\n",
       "      <td>Multi-Function Node</td>\n",
       "    </tr>\n",
       "  </tbody>\n",
       "</table>\n",
       "</div>"
      ],
      "text/plain": [
       "          reference_designator name  start_depth  end_depth current_status  \\\n",
       "9  CE01ISSM-MFD37-03-CTDBPC000  CTD         25.0       25.0                  \n",
       "\n",
       "            preferred_stream preferred_parameter             location  \n",
       "9  ctdbp_cdef_dcl_instrument                   6  Multi-Function Node  "
      ]
     },
     "execution_count": 13,
     "metadata": {},
     "output_type": "execute_result"
    }
   ],
   "source": [
    "ooi.filter(region=\"coastal endurance\",site=\"oregon shelf shallow profiler\",\n",
    "                         instrument=\"CE01ISSM-MFD37-03-CTDBPC000\")\n",
    "ooi.view_instruments()"
   ]
  },
  {
   "cell_type": "code",
   "execution_count": 14,
   "metadata": {},
   "outputs": [],
   "source": [
    "data = ooi.request_data(data_type=\"netcdf\")"
   ]
  },
  {
   "cell_type": "code",
   "execution_count": 15,
   "metadata": {},
   "outputs": [
    {
     "name": "stdout",
     "output_type": "stream",
     "text": [
      "https://opendap.oceanobservatories.org/thredds/catalog/ooi/s-kganz@lwsd.org/20180710T220635-CE01ISSM-MFD37-03-CTDBPC000-telemetered-ctdbp_cdef_dcl_instrument/catalog.html\n",
      "https://opendap.oceanobservatories.org/async_results/s-kganz@lwsd.org/20180710T220635-CE01ISSM-MFD37-03-CTDBPC000-telemetered-ctdbp_cdef_dcl_instrument\n"
     ]
    }
   ],
   "source": [
    "for i in data.raw()[0][\"allURLs\"]:\n",
    "    print(i)"
   ]
  },
  {
   "cell_type": "code",
   "execution_count": null,
   "metadata": {},
   "outputs": [],
   "source": []
  }
 ],
 "metadata": {
  "kernelspec": {
   "display_name": "Python 3",
   "language": "python",
   "name": "python3"
  },
  "language_info": {
   "codemirror_mode": {
    "name": "ipython",
    "version": 3
   },
   "file_extension": ".py",
   "mimetype": "text/x-python",
   "name": "python",
   "nbconvert_exporter": "python",
   "pygments_lexer": "ipython3",
   "version": "3.6.5"
  }
 },
 "nbformat": 4,
 "nbformat_minor": 2
}
