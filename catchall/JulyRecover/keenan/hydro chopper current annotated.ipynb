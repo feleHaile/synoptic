{
 "cells": [
  {
   "cell_type": "code",
   "execution_count": 1,
   "metadata": {},
   "outputs": [],
   "source": [
    "from obspy import read\n",
    "from obspy.core import UTCDateTime\n",
    "import numpy as np\n",
    "from matplotlib import mlab\n",
    "from matplotlib.colors import Normalize\n",
    "import matplotlib.pyplot as plt\n",
    "import math as M\n",
    "import matplotlib\n",
    "import requests\n",
    "from lxml import html\n",
    "import os\n",
    "#import boto3"
   ]
  },
  {
   "cell_type": "markdown",
   "metadata": {},
   "source": [
    "__Preprossesing file an pushing to S3__"
   ]
  },
  {
   "cell_type": "code",
   "execution_count": 2,
   "metadata": {},
   "outputs": [],
   "source": [
    "# web craweler\n",
    "mainurl = 'https://rawdata.oceanobservatories.org/files/RS01SLBS/LJ01A/09-HYDBBA102/2017/10/06/'\n",
    "mainurlpage =requests.get(mainurl)\n",
    "webpage = html.fromstring(mainurlpage.content)\n",
    "suburl = webpage.xpath('//a/@href')\n",
    "\n",
    "# This is exhaustive...\n",
    "# FileNum = len(suburl)\n",
    "FileNum = 8\n",
    "timestep = 5 #save results every 5 seceonds (no overlap)\n",
    "\n",
    "data_url_list = []\n",
    "for filename in suburl[6:FileNum]:\n",
    "    data_url_list.append(str(mainurl + filename[2:]))"
   ]
  },
  {
   "cell_type": "code",
   "execution_count": 3,
   "metadata": {},
   "outputs": [
    {
     "data": {
      "text/plain": [
       "302"
      ]
     },
     "execution_count": 3,
     "metadata": {},
     "output_type": "execute_result"
    }
   ],
   "source": [
    "# 15 minute duration, some redundancies; get 308 rather than 288\n",
    "len(suburl)"
   ]
  },
  {
   "cell_type": "code",
   "execution_count": 4,
   "metadata": {},
   "outputs": [
    {
     "name": "stderr",
     "output_type": "stream",
     "text": [
      "C:\\Users\\ganzk\\Anaconda3\\lib\\site-packages\\obspy\\core\\trace.py:2176: FutureWarning: Conversion of the second argument of issubdtype from `float` to `np.floating` is deprecated. In future, it will be treated as `np.float64 == np.dtype(float).type`.\n",
      "  if not np.issubdtype(self.data.dtype, float):\n"
     ]
    }
   ],
   "source": [
    "#provide requisite credential to access S3 bucket\n",
    "#client = boto3.client('s3',aws_access_key_id='',\n",
    "#         aws_secret_access_key='')\n",
    "\n",
    "# 'read' is very generic... could rename this obspy_read or something\n",
    "\n",
    "# for data_url in data_url_list:\n",
    "for data_url in data_url_list[0:1]:\n",
    "    \n",
    "    # Now we are looping over the .mseed files (5 minutes each) \n",
    "    #  (ok actually just the first one if we use [0:1])\n",
    "    #  And this is getting cut into 5-second segments; so 12 x 5 = 60 outputs per seed file\n",
    "    #  Further there are 12 x 24 = 288 seed files per day\n",
    "    # \n",
    "    # HOWEVER!!!!\n",
    "    # There is a little bit of overlap in the output files so the file count will be a bit higher\n",
    "    \n",
    "    # stream is effectively the five-minute-long .mseed audio file from the raw data website\n",
    "    stream = read(data_url)         # Read from url\n",
    "    samp_rate = stream[0].stats.sampling_rate\n",
    "    t_start = stream[0].stats.starttime\n",
    "    t_end = stream[0].stats.endtime\n",
    "    duration = t_end-t_start\n",
    "\n",
    "    # Ping Detections\n",
    "    # We believe these are about 1.25 seconds apart\n",
    "\n",
    "    pingtimes = np.zeros(int(duration)-1)\n",
    "    for stratpoint in range(int(duration)-1):\n",
    "        pingindex = np.argmax(stream[0].data[int(stratpoint * samp_rate):int((stratpoint + 1) * samp_rate)])\n",
    "        pingtimes[stratpoint] = (t_start + stratpoint + pingindex * stream[0].stats.delta)\n",
    "\n",
    "    # Filter Data+Plot Spectrogram+Save Image and Audio \n",
    "\n",
    "    def _nearest_pow_2(x):\n",
    "        a = M.pow(2, M.ceil(np.log2(x)))\n",
    "        b = M.pow(2, M.floor(np.log2(x)))\n",
    "        if abs(a - x) < abs(b - x):\n",
    "            return a\n",
    "        else:\n",
    "            return b\n",
    "        \n",
    "    # step_size = 5 translates to 5 seconds of data in what follows\n",
    "    step_size = 5 # for calculating the rms pressure and ploting the spectrogram \n",
    "    wlen = 0.056;  # bin size in sec \n",
    "    nfft = int(_nearest_pow_2(wlen * samp_rate))  # number of fft points of each bin\n",
    "\n",
    "    per_lap = 0.995      # percentage of overlap\n",
    "    nlap = int(nfft * float(per_lap))   # number of overlapped samples\n",
    "\n",
    "    for i in range(0, len(pingtimes), timestep):\n",
    "        \n",
    "        # obspy's smallest workable integer unit is seconds here; hence step_size = 5 gives a 5 sec window\n",
    "        st = stream.slice(UTCDateTime(pingtimes[i]), UTCDateTime(pingtimes[i]) + step_size)\n",
    "        \n",
    "        # Plot Spectrogram\n",
    "        npts = len(st[0])\n",
    "        end = npts / samp_rate\n",
    "        \n",
    "        # using mlab to create the array of spectrogram \n",
    "        specgram, freq, time = mlab.specgram(st[0].data/1e-6, NFFT = nfft, Fs = samp_rate, noverlap = nlap, pad_to = None)\n",
    "        specgram = 10 * np.log10(specgram[1:, :])\n",
    "        specgram = np.flipud(specgram)\n",
    "        freq = freq[1:] / 1e3  # Convert Frequency to kHz\n",
    "        halfbin_time = (time[1] - time[0]) / 2.0\n",
    "        halfbin_freq = (freq[1] - freq[0]) / 2.0\n",
    "        freq = np.concatenate((freq, [freq[-1] + 2 * halfbin_freq]))\n",
    "        time = np.concatenate((time, [time[-1] + 2 * halfbin_time]))\n",
    "        extent = (time[0] - halfbin_time, time[-1] + halfbin_time,\n",
    "                      freq[0] - halfbin_freq, freq[-1] + halfbin_freq)\n",
    "        \n",
    "        # colormap setting\n",
    "        vmin = 0.50  # default should be 0 to start from the min number of the spectrgram\n",
    "        vmax = 0.95  # default should be 1 to end at the max number of the spectrgram\n",
    "        _range = float(specgram.max() - specgram.min())\n",
    "        vmin = specgram.min() + vmin * _range\n",
    "        vmax = specgram.min() + vmax * _range\n",
    "        norm = Normalize(vmin, vmax)  # to scale a 2-D float X input to the (0, 1) range for input to the cmap\n",
    "\n",
    "# This section commented out as multiple .mseed source files will eventually crash the notebook with plots...\n",
    "\n",
    "#         # plot spectrogram\n",
    "#         fig = plt.figure(figsize=(8,8))\n",
    "#         ax = fig.add_subplot(111)\n",
    "#         cax = ax.imshow(specgram, interpolation=\"nearest\", extent=extent, norm=norm, cmap='viridis')\n",
    "#         dpi = fig.get_dpi()\n",
    "#         fig.set_size_inches(512/float(dpi),512/float(dpi))\n",
    "#         ax.axis('tight')\n",
    "#         ax.set_xlim(0, end)\n",
    "#         ax.set_ylim(0,11)\n",
    "#         ax.grid(False)\n",
    "#         ax.set_xlabel('Time [s]')\n",
    "#         ax.set_ylabel('Frequency [kHz]')\n",
    "\n",
    "        # Save spectrogram\n",
    "        fig = plt.figure(frameon=False, figsize=(8,8))\n",
    "        ax = plt.Axes(fig, [0., 0., 1., 1.])\n",
    "        ax.set_axis_off()\n",
    "        fig.add_axes(ax)\n",
    "\n",
    "        cax = ax.imshow(specgram, interpolation=\"nearest\", extent=extent, norm=norm, cmap='viridis')\n",
    "        dpi = fig.get_dpi()\n",
    "        fig.set_size_inches(512/float(dpi),512/float(dpi))\n",
    "        ax.axis('tight')\n",
    "        ax.set_xlim(0, end)\n",
    "        ax.set_ylim(0,11)\n",
    "        ax.grid(False)\n",
    "        ax.set_xlabel('Time [s]')\n",
    "        ax.set_ylabel('Frequency [kHz]')\n",
    "        filename = st[0].stats.network+'_'+st[0].stats.station+'_'+st[0].stats.location+'_'+st[0].stats.channel+'_'+str(UTCDateTime(pingtimes[i])).replace(\"-\",\"_\").replace(\":\",\"_\")\n",
    "\n",
    "        # These three lines save the figure to disk, then push to S3, then delete; notice they are commented out\n",
    "        #   See comment below on timestamp characters\n",
    "        # plt.savefig(filename[:-8] + '.jpg')\n",
    "        # client.upload_file(filename[:-8] + '.jpg', 'himatdata', 'whaledr/'+ filename[:-8] + '.jpg')\n",
    "        # os.remove(filename[:-8] + '.jpg')\n",
    "        \n",
    "        # Rather: At this point we could create a temporary memory object and write that to S3\n",
    "        # to be done...\n",
    "        \n",
    "        \n",
    "        # First garbage-collect (clf()) and *then* close it to properly clean up (avoid a memory leak)\n",
    "        plt.clf()\n",
    "        plt.close(fig)\n",
    "        \n",
    "        #save audio\n",
    "        def Save2Wav(sound):\n",
    "            sound = sound.copy()\n",
    "            sound.normalize()\n",
    "            sound.data = (sound.data * (2**31-1)).astype('int32')\n",
    "            sound.write(filename[:-8] + '.wav', format = 'WAV', framerate = samp_rate)\n",
    "            \n",
    "        Save2Wav(st[0])\n",
    "        \n",
    "        # Notice [:-8] which tosses out 8 timestamp characters, not needed for anything\n",
    "        #client.upload_file(filename[:-8] + '.wav', 'himatdata', 'whaledr/'+ filename[:-8] + '.wav')\n",
    "        os.remove(filename[:-8] + '.wav')"
   ]
  },
  {
   "cell_type": "code",
   "execution_count": 10,
   "metadata": {},
   "outputs": [
    {
     "name": "stdout",
     "output_type": "stream",
     "text": [
      "OO.HYVM1..YDH | 2017-10-06T00:00:00.000000Z - 2017-10-06T00:04:59.997984Z | 64000.0 Hz, 19199872 samples\n"
     ]
    }
   ],
   "source": [
    "from obspy import read\n",
    "ms = read(\"C:/users/ganzk/Desktop/notebooks/dev_notebooks/keenan/whales/negative.mseed\")[0]\n",
    "print(ms)"
   ]
  },
  {
   "cell_type": "code",
   "execution_count": 11,
   "metadata": {},
   "outputs": [
    {
     "data": {
      "text/plain": [
       "         network: OO\n",
       "         station: HYVM1\n",
       "        location: \n",
       "         channel: YDH\n",
       "       starttime: 2017-10-06T00:00:00.000000Z\n",
       "         endtime: 2017-10-06T00:04:59.997984Z\n",
       "   sampling_rate: 64000.0\n",
       "           delta: 1.5625e-05\n",
       "            npts: 19199872\n",
       "           calib: 1.0\n",
       "         _format: MSEED\n",
       "           mseed: AttribDict({'dataquality': 'D', 'number_of_records': 6604, 'encoding': 'STEIM2', 'byteorder': '>', 'record_length': 4096, 'filesize': 27049984})"
      ]
     },
     "execution_count": 11,
     "metadata": {},
     "output_type": "execute_result"
    }
   ],
   "source": [
    "ms.stats"
   ]
  },
  {
   "cell_type": "code",
   "execution_count": 15,
   "metadata": {},
   "outputs": [],
   "source": [
    "lis = ms.data.tolist()"
   ]
  },
  {
   "cell_type": "code",
   "execution_count": 17,
   "metadata": {},
   "outputs": [
    {
     "data": {
      "text/plain": [
       "[<matplotlib.lines.Line2D at 0x23aa3072f28>]"
      ]
     },
     "execution_count": 17,
     "metadata": {},
     "output_type": "execute_result"
    },
    {
     "data": {
      "image/png": "[encoded data removed]",
      "text/plain": [
       "<Figure size 432x288 with 1 Axes>"
      ]
     },
     "metadata": {},
     "output_type": "display_data"
    }
   ],
   "source": [
    "from matplotlib import pyplot as plt\n",
    "\n",
    "plt.plot(lis)"
   ]
  },
  {
   "cell_type": "code",
   "execution_count": 18,
   "metadata": {},
   "outputs": [
    {
     "name": "stdout",
     "output_type": "stream",
     "text": [
      "OO.HYVM1..YDH | 2017-10-06T19:00:00.000015Z - 2017-10-06T19:04:59.997999Z | 64000.0 Hz, 19199872 samples\n"
     ]
    }
   ],
   "source": [
    "ms = read(\"C:/users/ganzk/Desktop/notebooks/dev_notebooks/keenan/whales/positive.mseed\")[0]\n",
    "print(ms)"
   ]
  },
  {
   "cell_type": "code",
   "execution_count": 19,
   "metadata": {},
   "outputs": [],
   "source": [
    "lis = ms.data.tolist()"
   ]
  },
  {
   "cell_type": "code",
   "execution_count": 20,
   "metadata": {},
   "outputs": [
    {
     "data": {
      "text/plain": [
       "[<matplotlib.lines.Line2D at 0x23aa355ed30>]"
      ]
     },
     "execution_count": 20,
     "metadata": {},
     "output_type": "execute_result"
    },
    {
     "data": {
      "image/png": "[encoded data removed]",
      "text/plain": [
       "<Figure size 432x288 with 1 Axes>"
      ]
     },
     "metadata": {},
     "output_type": "display_data"
    }
   ],
   "source": [
    "plt.plot(lis)"
   ]
  },
  {
   "cell_type": "code",
   "execution_count": null,
   "metadata": {},
   "outputs": [],
   "source": []
  }
 ],
 "metadata": {
  "kernelspec": {
   "display_name": "Python 3",
   "language": "python",
   "name": "python3"
  },
  "language_info": {
   "codemirror_mode": {
    "name": "ipython",
    "version": 3
   },
   "file_extension": ".py",
   "mimetype": "text/x-python",
   "name": "python",
   "nbconvert_exporter": "python",
   "pygments_lexer": "ipython3",
   "version": "3.6.5"
  }
 },
 "nbformat": 4,
 "nbformat_minor": 2
}
