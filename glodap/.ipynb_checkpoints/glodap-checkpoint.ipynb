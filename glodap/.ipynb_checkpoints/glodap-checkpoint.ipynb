{
 "cells": [
  {
   "cell_type": "markdown",
   "metadata": {},
   "source": [
    "# GLODAP introduction\n",
    "\n",
    "\n",
    "This notebook looks into the [Global Ocean Data Analysis Project (GLODAP)](https://www.glodap.info/) \n",
    "data and also demonstrates a number of features of the Jupyter\n",
    "notebook environment.\n",
    "\n",
    "\n",
    "GLODAP is a *static* snapshot of the state of ocean across biological, chemical and physical observables. \n",
    "GLODAP is not time-series data.\n",
    "\n",
    "\n",
    "This notebook touches on temperature, salinity and dissolved oxygen where each is held in a corresponding\n",
    "103MB netCDF file. The files are available for open download on an AWS cloud object storage bucket called 'himatdata'. \n",
    "In general we discourage making local copies of data files but since 300MB is such a small volume the standard\n",
    "copy-and-use method is tolerated.\n",
    "\n",
    "\n",
    "Before moving into the main story we have some digressive remarks.\n",
    "\n",
    "\n",
    "### Digression 1 of 3: Many resources\n",
    "\n",
    "Just as an example [this web page](https://rawdata.oceanobservatories.org/files/) features a *ton* of \n",
    "oceanographic data. We have only time for a drop in the validation bucket here; and so the underlying\n",
    "exhortation is **Make time to explore!**\n",
    "\n",
    "\n",
    "### Digression 2 of 3: Jupyter notebook directory structure\n",
    "\n",
    "\n",
    "* From ~ (the home directory, here ```/home/jovyan```) here is the notebook directory structure\n",
    "  * ```~/revelle/dev_notebooks/rob/ ```   Notebooks by topic\n",
    "  * ```~/data/```\n",
    "    * ```glodap/glodap.ipynb```           Global Ocean Data Analysis Program\n",
    "    * ```argo/argo.ipynb```               Nine argo drifters (platforms): Multiple profiles\n",
    "    * ```cava/shallowprofiler.ipynb```    OOI cabled array shallow profiler\n",
    "    * ```NASA/cmr.ipynb```                NASA Common Metadata Repository (includes a look at MODIS)\n",
    "    * ```kilroy/kilroy.py```              A collection of convenient utility functions\n",
    "    * ```videos/msla.mp4```               Animation made from matplotlib plots\n",
    "    * ```audio/Hydrophone_example.mp3```  Humpback vocalizations\n",
    "    * ```images/ etcetera```              Convenient images to place inline here\n",
    "  * ```~/creds```                         OOI credentials\n",
    "\n",
    "\n",
    "* From ~ here is the data directory structure and content\n",
    "  * ```argo/argo-profiles-4901187.nc, ...``` 9 netcdf files avg 600kB\n",
    "  * ```glodap/glodap_oxygen.nc, _salinity.nc, _temperature.nc``` (103MB x 3) \n",
    "  * ```modis/g4.subsetted.MODISA_L3m_SST_2014_sst20160101.138W_40N_122W_54N.nc```  (252kB)\n",
    "  * ```ooi/osbXXX.nc``` (12 files, 3GB, needs reduction)\n",
    "\n",
    "\n",
    "### Digression 3 of 3: Miscellaneous remarks\n",
    "\n",
    "\n",
    "* Do not use Shift-Enter; use Ctrl-Enter (keeps focus on the current cell)\n",
    "* As code evolves: Move 'solved problem' methods into a little ```.py``` library file. I use ```kilroy.py```\n",
    "  * ...must re-copy ```kilroy.py``` from source directory to ```./ ``` for ```import```\n",
    "* There are 86,400 seconds in a day and 31 million in a year\n",
    "\n",
    "\n",
    "### Features of this notebook\n",
    "\n",
    "- Some utility code (display images, get directory listing)\n",
    "- Import static images\n",
    "- Play YouTube videos\n",
    "- Play audio files\n",
    "- copy data: Cloud to this Jupyter notebook\n",
    "- deconstruct netcdf / xarray DataSets \n",
    "- Dynamic (widget) display; a slider attached to depth slices of the data\n",
    "- ipyleaflet-based maps\n",
    "\n",
    "\n",
    "### Links\n",
    "\n",
    "\n",
    "- [Jupyter notebook editing shortcuts](https://www.dataquest.io/blog/jupyter-notebook-tips-tricks-shortcuts/)\n",
    "- [GLODAP home](https://www.glodap.info/)\n",
    "- [Wikipedia](https://en.wikipedia.org/wiki/Global_Ocean_Data_Analysis_Project)\n"
   ]
  },
  {
   "cell_type": "code",
   "execution_count": 1,
   "metadata": {},
   "outputs": [],
   "source": [
    "# Some Python utility code\n",
    "from pathlib import Path\n",
    "home_d = str(Path.home()) + '/'\n",
    "data_d = home_d + 'data/'             # A non-repository location for datasets of interest\n",
    "\n",
    "def dirobj(obj): return [x for x in dir(obj) if not x.startswith('__')]\n",
    "\n",
    "def lsal(path=''):\n",
    "    import os\n",
    "    return os.popen('ls -al ' + path).readlines()\n",
    "\n",
    "def ShowGitHubImage(username, repo, folder, source, localpath, localname, width, height):\n",
    "    global home_d\n",
    "    import requests, shutil\n",
    "    from PIL import Image\n",
    "    outf = localpath + '/' + localname\n",
    "    f = 'https://raw.githubusercontent.com/' + username + '/' + repo + '/master/' + folder + '/' + source\n",
    "    a = requests.get(f, stream = True)\n",
    "    if a.status_code == 200:\n",
    "        with open(outf, 'wb') as f:\n",
    "            a.raw.decode_content = True\n",
    "            shutil.copyfileobj(a.raw, f)\n",
    "    return Image.open(outf).resize((width,height),Image.ANTIALIAS)\n",
    "\n",
    "def ShowLocalImage(path, filename, width, height):\n",
    "    from PIL import Image\n",
    "    f = path + '/' + filename \n",
    "    return Image.open(f).resize((width,height),Image.ANTIALIAS)\n",
    "\n",
    "# Test either of the 'Show Image' functions\n",
    "# ShowGitHubImage('robfatland', 'othermathclub', 'images/cellular', 'conus_textile_shell_2.png', home_d, 'ctextile.jpg', 450, 250)\n",
    "# ShowLocalImage(home_d, 'ctextile.jpg', 450, 250)"
   ]
  },
  {
   "cell_type": "code",
   "execution_count": 2,
   "metadata": {
    "slideshow": {
     "slide_type": "slide"
    },
    "tags": [
     "hide"
    ]
   },
   "outputs": [
    {
     "name": "stdout",
     "output_type": "stream",
     "text": [
      "\n",
      "I am running Python 3...\n",
      "\n",
      "and let's review the contents of the glodap data directory...\n",
      "\n",
      "total 300788\n",
      "drwxrwsr-x  2 jovyan users      4096 Dec 27 20:34 .\n",
      "drwxrwsr-x 20 jovyan users      4096 Jan  7 23:02 ..\n",
      "-rw-rw-r--  1 jovyan users 102664419 Jan 18  2017 glodap_oxygen.nc\n",
      "-rw-rw-r--  1 jovyan users 102664370 Jan 18  2017 glodap_salinity.nc\n",
      "-rw-rw-r--  1 jovyan users 102664315 Jan 18  2017 glodap_temperature.nc\n"
     ]
    }
   ],
   "source": [
    "# Run this cell\n",
    "#\n",
    "# some more configuration steps\n",
    "\n",
    "glodap_d = data_d + 'glodap/'\n",
    "\n",
    "import sys\n",
    "import os\n",
    "from shutil import copyfile\n",
    "from sys import exit\n",
    "\n",
    "print('\\nI am running Python {}...\\n'.format(sys.version_info[0]))\n",
    "\n",
    "%matplotlib inline\n",
    "\n",
    "from matplotlib import pyplot as plt\n",
    "import pandas as pd\n",
    "import netCDF4\n",
    "import xarray as xr\n",
    "\n",
    "from ipywidgets import *\n",
    "from traitlets import dlink\n",
    "\n",
    "salinity_f = glodap_d + 'glodap_salinity.nc'\n",
    "temperature_f = glodap_d + 'glodap_temperature.nc'\n",
    "oxygen_f = glodap_d + 'glodap_oxygen.nc'\n",
    "\n",
    "print('and let\\'s review the contents of the glodap data directory...\\n')\n",
    "d = lsal(glodap_d)\n",
    "for f in d: print(f.strip())"
   ]
  },
  {
   "cell_type": "markdown",
   "metadata": {},
   "source": [
    "## If the data files are not there...\n",
    "\n",
    "...you will need to create the data directory and populate it. Each file is about 103MB.\n",
    "\n",
    "```\n",
    "/home/jovyan> mkdir data\n",
    "/home/jovyan> mkdir data/glodap\n",
    "```\n",
    "\n",
    "and now run the following cell, being sure to change run_this_cell's value to **True**."
   ]
  },
  {
   "cell_type": "code",
   "execution_count": 3,
   "metadata": {},
   "outputs": [],
   "source": [
    "# This will take a couple minutes to run... if you set run_this_cell to True. It is copying data from the cloud.\n",
    "#   (As an alternative one could go directly to the glodap ftp site for these data files.)\n",
    "run_this_cell = False\n",
    "\n",
    "if run_this_cell:\n",
    "    import boto\n",
    "    global glodap_d\n",
    "    bucket = boto.connect_s3(anon=True).get_bucket('himatdata')\n",
    "    for key in bucket.list():\n",
    "        keyname = str(key.name.encode('utf-8'))\n",
    "        if 'glodap/' in keyname and 'salinity' in keyname: key.get_contents_to_filename(salinity_f)\n",
    "        elif 'glodap/' in keyname and 'temperature' in keyname: key.get_contents_to_filename(temperature_f)\n",
    "        elif 'glodap/' in keyname and 'oxygen' in keyname: key.get_contents_to_filename(oxygen_f)"
   ]
  },
  {
   "cell_type": "markdown",
   "metadata": {},
   "source": [
    "# Intermezzo: Inline multimedia\n",
    "\n",
    "The following three cells demonstrate inclusion of other media types in this Jupyter notebook.\n",
    "\n",
    "* YouTube videos\n",
    "* Audio (.mp3) files\n",
    "* Local video (.mp4)"
   ]
  },
  {
   "cell_type": "code",
   "execution_count": 4,
   "metadata": {
    "scrolled": true
   },
   "outputs": [],
   "source": [
    "# Feature: From YouTube, play a video \n",
    "# If you enable it the video should appear below this cell.\n",
    "#   (To enable simply un-comment the next line of code)\n",
    "# from IPython.display import YouTubeVideo; YouTubeVideo('fgBozLCGUHY')\n",
    "\n",
    "# Other interesting videos on ocean data science include...\n",
    "#   'HdHW77blulg' on the DVM\n",
    "#   ..."
   ]
  },
  {
   "cell_type": "code",
   "execution_count": 5,
   "metadata": {},
   "outputs": [],
   "source": [
    "# Feature: Play an MP3 sound file\n",
    "#   (Uncomment the following line of code)\n",
    "# import IPython; IPython.display.Audio(\"/home/jovyan/data/audio/Hydrophone_example.mp3\")"
   ]
  },
  {
   "cell_type": "code",
   "execution_count": 6,
   "metadata": {},
   "outputs": [
    {
     "data": {
      "text/html": [
       "<!-- The first line of this cell flags the cell as HTML, not Python; so these comments are in html format.  -->\n",
       "<!--   This is a convenient way of embedding the msla.mp4 video in the Jupyter notebook. Notice however     -->\n",
       "<!--   that the source path is relative to this directory; so it is something of a kluge in that sense.     -->\n",
       "<!--   By default this is commented out. To enable it just remove the following line and the last line.     -->\n",
       "<!--\n",
       "<div align=\"middle\">\n",
       "<video width=\"100%\" controls>\n",
       "      <source src=\"../../data/videos/msla.mp4\" type=\"video/mp4\">\n",
       "</video></div>\n",
       "-->"
      ],
      "text/plain": [
       "<IPython.core.display.HTML object>"
      ]
     },
     "metadata": {},
     "output_type": "display_data"
    }
   ],
   "source": [
    "%%HTML\n",
    "<!-- The first line of this cell flags the cell as HTML, not Python; so these comments are in html format.  -->\n",
    "<!--   This is a convenient way of embedding the msla.mp4 video in the Jupyter notebook. Notice however     -->\n",
    "<!--   that the source path is relative to this directory; so it is something of a kluge in that sense.     -->\n",
    "<!--   By default this is commented out. To enable it just remove the following line and the last line.     -->\n",
    "<!--\n",
    "<div align=\"middle\">\n",
    "<video width=\"100%\" controls>\n",
    "      <source src=\"../../data/videos/msla.mp4\" type=\"video/mp4\">\n",
    "</video></div>\n",
    "-->"
   ]
  },
  {
   "cell_type": "markdown",
   "metadata": {},
   "source": [
    "# Exploring GLODAP\n",
    "\n",
    "\n",
    "We take it as given that the data are now present; onward!\n",
    "\n",
    "\n",
    "The three GLODAP files are scalar fields of salinity, temperature and dissolved oxygen across latitude, longitude\n",
    "and depth. We assign these data to xarray Datasets; and then we do some deconstruction to understand what all is\n",
    "present."
   ]
  },
  {
   "cell_type": "code",
   "execution_count": 7,
   "metadata": {},
   "outputs": [
    {
     "data": {
      "text/plain": [
       "<xarray.Dataset>\n",
       "Dimensions:        (depth_surface: 33, lat: 180, lon: 360, snr: 1)\n",
       "Coordinates:\n",
       "  * lon            (lon) float64 20.5 21.5 22.5 23.5 24.5 25.5 26.5 27.5 ...\n",
       "  * lat            (lat) float64 -89.5 -88.5 -87.5 -86.5 -85.5 -84.5 -83.5 ...\n",
       "Dimensions without coordinates: depth_surface, snr\n",
       "Data variables:\n",
       "    oxygen         (depth_surface, lat, lon) float64 dask.array<shape=(33, 180, 360), chunksize=(33, 180, 360)>\n",
       "    oxygen_error   (depth_surface, lat, lon) float64 dask.array<shape=(33, 180, 360), chunksize=(33, 180, 360)>\n",
       "    Input_mean     (depth_surface, lat, lon) float64 dask.array<shape=(33, 180, 360), chunksize=(33, 180, 360)>\n",
       "    Input_std      (depth_surface, lat, lon) float64 dask.array<shape=(33, 180, 360), chunksize=(33, 180, 360)>\n",
       "    Input_N        (depth_surface, lat, lon) float64 dask.array<shape=(33, 180, 360), chunksize=(33, 180, 360)>\n",
       "    oxygen_relerr  (depth_surface, lat, lon) float64 dask.array<shape=(33, 180, 360), chunksize=(33, 180, 360)>\n",
       "    SnR            (snr) float64 dask.array<shape=(1,), chunksize=(1,)>\n",
       "    CL             (snr) float64 dask.array<shape=(1,), chunksize=(1,)>\n",
       "    Depth          (depth_surface) float64 dask.array<shape=(33,), chunksize=(33,)>\n",
       "Attributes:\n",
       "    Description:          1 X 1 global mapped field of dissolved molecular ox...\n",
       "    Created:              Created by Siv K. Lauvset on 12-May-2016 18:44:38\n",
       "    Institution name:     University of Bergen\n",
       "    Contact information:  siv.lauvset@uib.no; are.olsen@uib.no\n",
       "    Citation:             Cite as: Lauvset, Siv K., Key, Robert M., Olsen, Ar...\n",
       "    Comment:              Ttza2hhod0eend0s ai2eLlt  a iufucosivonilsr,neer gs..."
      ]
     },
     "execution_count": 7,
     "metadata": {},
     "output_type": "execute_result"
    }
   ],
   "source": [
    "# The glodap files will be xarray Datasets. dsO2, dsTemp, dsSal are oxygen, temperature and salinity respectively.\n",
    "\n",
    "dsSal  = xr.open_mfdataset(salinity_f)\n",
    "dsTemp = xr.open_mfdataset(temperature_f)\n",
    "dsO2   = xr.open_mfdataset(oxygen_f)\n",
    "\n",
    "dsO2          # This prints the structure of the oxygen dataset below"
   ]
  },
  {
   "cell_type": "markdown",
   "metadata": {},
   "source": [
    "### Examine the above longitude...\n",
    "\n",
    "\n",
    "By referencing the ```dsO2``` dataset on the last line of the previous cell we invoke a 'print your\n",
    "self-description' feature. This allows us to see what is present and ask 'Does this make sense?' The \n",
    "latitudes are sensible but the longitudes are not. They start at 20.5 degrees and run to... what? \n",
    "Perhaps 380? It will be important to remember this pathology for comparison with other data.\n",
    "\n",
    "\n",
    "### Deconstructing further\n",
    "\n",
    "\n",
    "Notice there are five headings in the printout above: \n",
    "\n",
    "* Dimensions\n",
    "* Coordinates\n",
    "* Dimensions without coordinates\n",
    "* Data variables\n",
    "* Attributes\n",
    "\n",
    "Let's consider the six Attributes first. Some are truncated with an ellipsis... \n",
    "I tried various incantations such as ```dsO2['Attributes']['Description']``` before realizing that \n",
    "these Attributes can be printed in their entirety by...\n",
    "\n",
    "\n",
    "```\n",
    "print(dsO2.Description)\n",
    "print(dsO2.Citation)\n",
    "```"
   ]
  },
  {
   "cell_type": "code",
   "execution_count": 8,
   "metadata": {},
   "outputs": [
    {
     "name": "stdout",
     "output_type": "stream",
     "text": [
      "1 X 1 global mapped field of dissolved molecular oxygen from the GLODAPv2 data product. Mapping is performed using the DIVA software (Troupin et al., 2012). Error fields are calculated using the clever poor mans error calculation method in DIVA (Beckers et al., 2014). The error fields represent the mapping error only, and does not include measurement or calculation uncertainties in the input data.\n",
      "\n",
      "\n",
      "Cite as: Lauvset, Siv K., Key, Robert M., Olsen, Are, van Heuven, Steven, Velo, Anton, Lin, Xiaohua, Schirnick, Carsten, Kozyr, Alex, Tanhua, Toste, Hoppema, Mario, Jutterstrom, Sara, Steinfeldt, Reiner, Jeansson, Emil, Ishii, Masao, Perez, Fiz F., Suzuki, Toru, and Watelet, Sylvain: A new global interior ocean mapped climatology: the 1x1 GLODAP version 2, Earth Syst. Sci. Data. Discuss., doi:10.5194/essd-2015-43, in review, 2016.\n",
      "\n",
      "\n"
     ]
    }
   ],
   "source": [
    "print(dsO2.Description)\n",
    "print('\\n')\n",
    "print(dsO2.Citation)\n",
    "print('\\n')"
   ]
  },
  {
   "cell_type": "markdown",
   "metadata": {},
   "source": [
    "Now let's consider **Data variables**. *oxygen* must be *dissolved oxygen* but in what units? It would be \n",
    "intuitive if the units were associated directoy with the data... so I used the Python directory function **dir**\n",
    "on the oxygen data variable -- as ```dir(dsO2.oxygen)``` to discover that this indeed has *units*; and so..."
   ]
  },
  {
   "cell_type": "code",
   "execution_count": 9,
   "metadata": {},
   "outputs": [
    {
     "name": "stdout",
     "output_type": "stream",
     "text": [
      "micro-mol kg-1\n"
     ]
    }
   ],
   "source": [
    "print(dsO2.oxygen.units)"
   ]
  },
  {
   "cell_type": "code",
   "execution_count": 10,
   "metadata": {},
   "outputs": [
    {
     "name": "stdout",
     "output_type": "stream",
     "text": [
      "<xarray.DataArray 'lon' (lon: 360)>\n",
      "array([ 20.5,  21.5,  22.5, ..., 377.5, 378.5, 379.5])\n",
      "Coordinates:\n",
      "  * lon      (lon) float64 20.5 21.5 22.5 23.5 24.5 25.5 26.5 27.5 28.5 29.5 ...\n",
      "Attributes:\n",
      "    units:        degrees east\n",
      "    Description:  This number represents the mid-point of the 1x1 degree grid...\n",
      "\n",
      "\n",
      "\n",
      "<xarray.DataArray 'lat' (lat: 180)>\n",
      "array([-89.5, -88.5, -87.5, -86.5, -85.5, -84.5, -83.5, -82.5, -81.5, -80.5,\n",
      "       -79.5, -78.5, -77.5, -76.5, -75.5, -74.5, -73.5, -72.5, -71.5, -70.5,\n",
      "       -69.5, -68.5, -67.5, -66.5, -65.5, -64.5, -63.5, -62.5, -61.5, -60.5,\n",
      "       -59.5, -58.5, -57.5, -56.5, -55.5, -54.5, -53.5, -52.5, -51.5, -50.5,\n",
      "       -49.5, -48.5, -47.5, -46.5, -45.5, -44.5, -43.5, -42.5, -41.5, -40.5,\n",
      "       -39.5, -38.5, -37.5, -36.5, -35.5, -34.5, -33.5, -32.5, -31.5, -30.5,\n",
      "       -29.5, -28.5, -27.5, -26.5, -25.5, -24.5, -23.5, -22.5, -21.5, -20.5,\n",
      "       -19.5, -18.5, -17.5, -16.5, -15.5, -14.5, -13.5, -12.5, -11.5, -10.5,\n",
      "        -9.5,  -8.5,  -7.5,  -6.5,  -5.5,  -4.5,  -3.5,  -2.5,  -1.5,  -0.5,\n",
      "         0.5,   1.5,   2.5,   3.5,   4.5,   5.5,   6.5,   7.5,   8.5,   9.5,\n",
      "        10.5,  11.5,  12.5,  13.5,  14.5,  15.5,  16.5,  17.5,  18.5,  19.5,\n",
      "        20.5,  21.5,  22.5,  23.5,  24.5,  25.5,  26.5,  27.5,  28.5,  29.5,\n",
      "        30.5,  31.5,  32.5,  33.5,  34.5,  35.5,  36.5,  37.5,  38.5,  39.5,\n",
      "        40.5,  41.5,  42.5,  43.5,  44.5,  45.5,  46.5,  47.5,  48.5,  49.5,\n",
      "        50.5,  51.5,  52.5,  53.5,  54.5,  55.5,  56.5,  57.5,  58.5,  59.5,\n",
      "        60.5,  61.5,  62.5,  63.5,  64.5,  65.5,  66.5,  67.5,  68.5,  69.5,\n",
      "        70.5,  71.5,  72.5,  73.5,  74.5,  75.5,  76.5,  77.5,  78.5,  79.5,\n",
      "        80.5,  81.5,  82.5,  83.5,  84.5,  85.5,  86.5,  87.5,  88.5,  89.5])\n",
      "Coordinates:\n",
      "  * lat      (lat) float64 -89.5 -88.5 -87.5 -86.5 -85.5 -84.5 -83.5 -82.5 ...\n",
      "Attributes:\n",
      "    units:        degrees north\n",
      "    Description:  This number represents the mid-point of the 1x1 degree grid...\n",
      "\n",
      "\n",
      "\n",
      "This number represents the mid-point of the 1x1 degree grid cell\n",
      "\n",
      "\n",
      "\n",
      "<xarray.DataArray 'oxygen_error' (depth_surface: 33, lat: 180, lon: 360)>\n",
      "dask.array<shape=(33, 180, 360), dtype=float64, chunksize=(33, 180, 360)>\n",
      "Coordinates:\n",
      "  * lon      (lon) float64 20.5 21.5 22.5 23.5 24.5 25.5 26.5 27.5 28.5 29.5 ...\n",
      "  * lat      (lat) float64 -89.5 -88.5 -87.5 -86.5 -85.5 -84.5 -83.5 -82.5 ...\n",
      "Dimensions without coordinates: depth_surface\n",
      "Attributes:\n",
      "    long_name:    dissolved molecular oxygen error\n",
      "    units:        micro-mol kg-1\n",
      "    time_period:  For all surfaces (1-33) data from the years 1972-2013 inclu...\n",
      "\n",
      "\n",
      "\n",
      "For all surfaces (1-33) data from the years 1972-2013 inclusive have been used for mapping\n",
      "\n",
      "\n",
      "\n",
      "<xarray.DataArray 'oxygen_relerr' (depth_surface: 33, lat: 180, lon: 360)>\n",
      "dask.array<shape=(33, 180, 360), dtype=float64, chunksize=(33, 180, 360)>\n",
      "Coordinates:\n",
      "  * lon      (lon) float64 20.5 21.5 22.5 23.5 24.5 25.5 26.5 27.5 28.5 29.5 ...\n",
      "  * lat      (lat) float64 -89.5 -88.5 -87.5 -86.5 -85.5 -84.5 -83.5 -82.5 ...\n",
      "Dimensions without coordinates: depth_surface\n",
      "Attributes:\n",
      "    long_name:    relative error\n",
      "    units:        \n",
      "    Description:  Mapping error relative to the variance in the input data. C...\n",
      "    time_period:  For all surfaces (1-33) data from the years 1972-2013 inclu...\n",
      "\n",
      "\n",
      "\n",
      "Mapping error relative to the variance in the input data. Calculated as error divided by the standard deviation in the data.\n"
     ]
    }
   ],
   "source": [
    "# Here are a number of additional exploratory commands that help deconstruct the dsO2 dataset\n",
    "print(dsO2.lon)\n",
    "print('\\n\\n')\n",
    "print(dsO2.lat)\n",
    "print('\\n\\n')\n",
    "print(dsO2.lat.Description)\n",
    "print('\\n\\n')\n",
    "print(dsO2.oxygen_error)\n",
    "print('\\n\\n')\n",
    "print(dsO2.oxygen_error.time_period)\n",
    "print('\\n\\n')\n",
    "print(dsO2.oxygen_relerr) \n",
    "print('\\n\\n')\n",
    "print(dsO2.oxygen_relerr.Description) "
   ]
  },
  {
   "cell_type": "markdown",
   "metadata": {},
   "source": [
    "### Python *inspect* module\n",
    "\n",
    "From this point we want to see some data values. The Python **inspect** module proves helpful; \n",
    "it will provide an idea on how to index a particular location within the data array (lat, lon, depth)."
   ]
  },
  {
   "cell_type": "code",
   "execution_count": 11,
   "metadata": {},
   "outputs": [
    {
     "name": "stdout",
     "output_type": "stream",
     "text": [
      "A multi-dimensional, in memory, array database.\n",
      "\n",
      "A dataset resembles an in-memory representation of a NetCDF file, and\n",
      "consists of variables, coordinates and attributes which together form a\n",
      "self describing dataset.\n",
      "\n",
      "Dataset implements the mapping interface with keys given by variable names\n",
      "and values given by DataArray objects for each variable name.\n",
      "\n",
      "One dimensional variables with name equal to their dimension are index\n",
      "coordinates used for label based indexing.\n"
     ]
    }
   ],
   "source": [
    "import inspect\n",
    "print(inspect.getdoc(dsO2))"
   ]
  },
  {
   "cell_type": "markdown",
   "metadata": {},
   "source": [
    "### Seeing some numerical values\n"
   ]
  },
  {
   "cell_type": "code",
   "execution_count": 12,
   "metadata": {},
   "outputs": [
    {
     "name": "stdout",
     "output_type": "stream",
     "text": [
      "[[[197.85690308 196.35029602]\n",
      "  [197.01686096 195.4756012 ]]\n",
      "\n",
      " [[197.91693115 196.32531738]\n",
      "  [197.07067871 195.68740845]]]\n",
      "\n",
      "\n",
      "196.71249961853027\n",
      "\n",
      "\n",
      "196.71249999999998\n"
     ]
    }
   ],
   "source": [
    "# The Data variable oxygen has listed (above) three indices: depth_surface, lat, lon\n",
    "# The corresponding sizes (number of entries along each index) are 33, 180 and 360.\n",
    "# Hence we can reference the oxygen data within the dsO2 dataset using \n",
    "# dsO2['oxygen'] which is a dictionary-like reference. To this we can append \n",
    "# list-like index ranges separated by commas, as in [0:2, 90:92, 120:122].\n",
    "# Finally to see the actual data values we append '.values' as a qualifier.\n",
    "# \n",
    "# (We have not yet determined what the depth_surface means; but the lat and lon are ok)\n",
    "#\n",
    "print(dsO2['oxygen'][0:2,90:92,120:122].values)   # Some dissolved oxygen values\n",
    "print('\\n')\n",
    "print(dsO2['oxygen'][0:2,90:92,120:122].values.mean())   # Using the values built-in '.mean()' method\n",
    "print('\\n')\n",
    "print((197.857 + 196.350 + 197.017 + 195.476 + 197.917 + 196.325 + 197.071 + 195.687)/8.)   # and by hand for comparison\n"
   ]
  },
  {
   "cell_type": "markdown",
   "metadata": {},
   "source": [
    "# Left off here\n",
    "\n",
    "* Deconvolve the depth index up above before the data looks\n",
    "* Streamline the listing of methods attached to .values and try std and var as well as mean"
   ]
  },
  {
   "cell_type": "code",
   "execution_count": 13,
   "metadata": {},
   "outputs": [
    {
     "name": "stdout",
     "output_type": "stream",
     "text": [
      "-0.531661301580607\n",
      "\n",
      "\n",
      "28.092354032993317\n",
      "\n",
      "\n"
     ]
    },
    {
     "data": {
      "text/plain": [
       "['T',\n",
       " '__abs__',\n",
       " '__add__',\n",
       " '__and__',\n",
       " '__array__',\n",
       " '__array_finalize__',\n",
       " '__array_interface__',\n",
       " '__array_prepare__',\n",
       " '__array_priority__',\n",
       " '__array_struct__',\n",
       " '__array_ufunc__',\n",
       " '__array_wrap__',\n",
       " '__bool__',\n",
       " '__class__',\n",
       " '__complex__',\n",
       " '__contains__',\n",
       " '__copy__',\n",
       " '__deepcopy__',\n",
       " '__delattr__',\n",
       " '__delitem__',\n",
       " '__dir__',\n",
       " '__divmod__',\n",
       " '__doc__',\n",
       " '__eq__',\n",
       " '__float__',\n",
       " '__floordiv__',\n",
       " '__format__',\n",
       " '__ge__',\n",
       " '__getattribute__',\n",
       " '__getitem__',\n",
       " '__gt__',\n",
       " '__hash__',\n",
       " '__iadd__',\n",
       " '__iand__',\n",
       " '__ifloordiv__',\n",
       " '__ilshift__',\n",
       " '__imatmul__',\n",
       " '__imod__',\n",
       " '__imul__',\n",
       " '__index__',\n",
       " '__init__',\n",
       " '__init_subclass__',\n",
       " '__int__',\n",
       " '__invert__',\n",
       " '__ior__',\n",
       " '__ipow__',\n",
       " '__irshift__',\n",
       " '__isub__',\n",
       " '__iter__',\n",
       " '__itruediv__',\n",
       " '__ixor__',\n",
       " '__le__',\n",
       " '__len__',\n",
       " '__lshift__',\n",
       " '__lt__',\n",
       " '__matmul__',\n",
       " '__mod__',\n",
       " '__mul__',\n",
       " '__ne__',\n",
       " '__neg__',\n",
       " '__new__',\n",
       " '__or__',\n",
       " '__pos__',\n",
       " '__pow__',\n",
       " '__radd__',\n",
       " '__rand__',\n",
       " '__rdivmod__',\n",
       " '__reduce__',\n",
       " '__reduce_ex__',\n",
       " '__repr__',\n",
       " '__rfloordiv__',\n",
       " '__rlshift__',\n",
       " '__rmatmul__',\n",
       " '__rmod__',\n",
       " '__rmul__',\n",
       " '__ror__',\n",
       " '__rpow__',\n",
       " '__rrshift__',\n",
       " '__rshift__',\n",
       " '__rsub__',\n",
       " '__rtruediv__',\n",
       " '__rxor__',\n",
       " '__setattr__',\n",
       " '__setitem__',\n",
       " '__setstate__',\n",
       " '__sizeof__',\n",
       " '__str__',\n",
       " '__sub__',\n",
       " '__subclasshook__',\n",
       " '__truediv__',\n",
       " '__xor__',\n",
       " 'all',\n",
       " 'any',\n",
       " 'argmax',\n",
       " 'argmin',\n",
       " 'argpartition',\n",
       " 'argsort',\n",
       " 'astype',\n",
       " 'base',\n",
       " 'byteswap',\n",
       " 'choose',\n",
       " 'clip',\n",
       " 'compress',\n",
       " 'conj',\n",
       " 'conjugate',\n",
       " 'copy',\n",
       " 'ctypes',\n",
       " 'cumprod',\n",
       " 'cumsum',\n",
       " 'data',\n",
       " 'diagonal',\n",
       " 'dot',\n",
       " 'dtype',\n",
       " 'dump',\n",
       " 'dumps',\n",
       " 'fill',\n",
       " 'flags',\n",
       " 'flat',\n",
       " 'flatten',\n",
       " 'getfield',\n",
       " 'imag',\n",
       " 'item',\n",
       " 'itemset',\n",
       " 'itemsize',\n",
       " 'max',\n",
       " 'mean',\n",
       " 'min',\n",
       " 'nbytes',\n",
       " 'ndim',\n",
       " 'newbyteorder',\n",
       " 'nonzero',\n",
       " 'partition',\n",
       " 'prod',\n",
       " 'ptp',\n",
       " 'put',\n",
       " 'ravel',\n",
       " 'real',\n",
       " 'repeat',\n",
       " 'reshape',\n",
       " 'resize',\n",
       " 'round',\n",
       " 'searchsorted',\n",
       " 'setfield',\n",
       " 'setflags',\n",
       " 'shape',\n",
       " 'size',\n",
       " 'sort',\n",
       " 'squeeze',\n",
       " 'std',\n",
       " 'strides',\n",
       " 'sum',\n",
       " 'swapaxes',\n",
       " 'take',\n",
       " 'tobytes',\n",
       " 'tofile',\n",
       " 'tolist',\n",
       " 'tostring',\n",
       " 'trace',\n",
       " 'transpose',\n",
       " 'var',\n",
       " 'view']"
      ]
     },
     "execution_count": 13,
     "metadata": {},
     "output_type": "execute_result"
    }
   ],
   "source": [
    "# This code indexes into the temperature dataset to demonstrate the 'mean()' method\n",
    "#   The first latitude range is indices 20 to 23 out of 0 to 179...\n",
    "#     so still high southern latitude hence the cold surface water.\n",
    "#   The second latitude range is centered on 90; so equatorial waters\n",
    "print(dsTemp['temperature'][0,20:24,160:200].values.mean())\n",
    "print('\\n')\n",
    "print(dsTemp['temperature'][0,80:100,160:200].values.mean())\n",
    "print('\\n')\n",
    "dir(dsTemp['temperature'][0,0,0].values)"
   ]
  },
  {
   "cell_type": "markdown",
   "metadata": {},
   "source": [
    "### nbextensions remark\n",
    "\n",
    "\n",
    "Jupyter notebook extensions are add-ons that enable interesting features. Turning these extensions on is done\n",
    "by means of the ```jupyter``` command interface. It should not be necessary on Port Cormorack but \n",
    "here is the command for reference...  \n",
    "\n",
    "```\n",
    "/home/jovyan> jupyter nbextension enable --py widgetsnbextension\n",
    "```"
   ]
  },
  {
   "cell_type": "code",
   "execution_count": 14,
   "metadata": {},
   "outputs": [
    {
     "data": {
      "application/vnd.jupyter.widget-view+json": {
       "model_id": "045ac3915bac497dab85622de728f183",
       "version_major": 2,
       "version_minor": 0
      },
      "text/plain": [
       "interactive(children=(IntSlider(value=0, continuous_update=False, description='depth_index', max=32), Output()…"
      ]
     },
     "metadata": {},
     "output_type": "display_data"
    },
    {
     "data": {
      "text/plain": [
       "<function __main__.plotOxygen>"
      ]
     },
     "execution_count": 14,
     "metadata": {},
     "output_type": "execute_result"
    }
   ],
   "source": [
    "# Optional\n",
    "#\n",
    "# This creates a 2D color-coded view of oxygen at the surface, attaching a slider to a depth parameter\n",
    "\n",
    "def plotOxygen(depth_index):\n",
    "    a=dsO2['oxygen'].sel(depth_surface = depth_index)\n",
    "    a.plot(figsize=(16, 10),cmap=plt.cm.bwr,vmin=150, vmax=350)\n",
    "    msg = 'This is for '\n",
    "    if depth_index == 0: msg += 'surface water'\n",
    "    else: msg += 'water at ' + str(int(dsO2['Depth'].values[depth_index])) + ' meters depth'\n",
    "    plt.text(25, -87, msg, fontsize = '20')\n",
    "    plt.text(28, 50, 'oxygen dissolved in', fontsize = '20')\n",
    "    plt.text(28, 42, '     ocean water   ', fontsize = '20')\n",
    "\n",
    "# This is the interactive slider\n",
    "interact(plotOxygen, depth_index=widgets.IntSlider(min=0,max=32,step=1,value=0, continuous_update=False))"
   ]
  },
  {
   "cell_type": "code",
   "execution_count": 15,
   "metadata": {},
   "outputs": [
    {
     "data": {
      "application/vnd.jupyter.widget-view+json": {
       "model_id": "f2978980a01f4a1abd8b89abe0260656",
       "version_major": 2,
       "version_minor": 0
      },
      "text/plain": [
       "interactive(children=(IntSlider(value=0, continuous_update=False, description='depth_index', max=32), Output()…"
      ]
     },
     "metadata": {},
     "output_type": "display_data"
    },
    {
     "data": {
      "text/plain": [
       "<function __main__.plotSalinity>"
      ]
     },
     "execution_count": 15,
     "metadata": {},
     "output_type": "execute_result"
    }
   ],
   "source": [
    "# Optional\n",
    "#\n",
    "# This creates a 2D color-coded view of salinity at the surface, attaching a slider to a depth parameter\n",
    "\n",
    "def plotSalinity(depth_index):\n",
    "    b = dsSal['salinity'].sel(depth_surface = depth_index)\n",
    "    b.plot(figsize=(16, 10),cmap=plt.cm.bwr,vmin=33, vmax=36)\n",
    "    msg = 'This is for '\n",
    "    if depth_index == 0: msg += 'surface water'\n",
    "    else: msg += 'water at ' + str(int(dsO2['Depth'].values[depth_index])) + ' meters depth'\n",
    "    plt.text(25, -87, msg, fontsize = '20')\n",
    "    plt.text(47, 50, 'salinity of', fontsize = '20')\n",
    "    plt.text(47, 42, 'ocean water', fontsize = '20')\n",
    "    \n",
    "interact(plotSalinity, depth_index=widgets.IntSlider(min=0,max=32,step=1,value=0, continuous_update=False))"
   ]
  },
  {
   "cell_type": "code",
   "execution_count": 16,
   "metadata": {},
   "outputs": [
    {
     "data": {
      "application/vnd.jupyter.widget-view+json": {
       "model_id": "ff3da921bdcf4571bb62023a0e8fbe2d",
       "version_major": 2,
       "version_minor": 0
      },
      "text/plain": [
       "interactive(children=(IntSlider(value=0, continuous_update=False, description='depth_index', max=32), Output()…"
      ]
     },
     "metadata": {},
     "output_type": "display_data"
    },
    {
     "data": {
      "text/plain": [
       "<function __main__.plotTemperature>"
      ]
     },
     "execution_count": 16,
     "metadata": {},
     "output_type": "execute_result"
    }
   ],
   "source": [
    "# Optional\n",
    "#\n",
    "# This creates a 2D color-coded view of temperature at the surface, attaching a slider to a depth parameter\n",
    "\n",
    "def plotTemperature(depth_index):\n",
    "    c=dsTemp['temperature'].sel(depth_surface = depth_index)\n",
    "    c.plot(figsize=(16, 10),cmap=plt.cm.bwr,vmin=2.5, vmax=3.8)       # emphasis on cold water; typical full range is 0 to 23\n",
    "    msg = 'This is for '\n",
    "    if depth_index == 0: msg += 'surface water'\n",
    "    else: msg += 'water at ' + str(int(dsO2['Depth'].values[depth_index])) + ' meters depth'\n",
    "    plt.text(25, -87, msg, fontsize = '20')\n",
    "    plt.text(47, 50, 'temperature of', fontsize = '20')\n",
    "    plt.text(47, 42, 'ocean water', fontsize = '20')\n",
    "\n",
    "interact(plotTemperature, depth_index=widgets.IntSlider(min=0,max=32,step=1,value=0, continuous_update=False))   "
   ]
  },
  {
   "cell_type": "code",
   "execution_count": 17,
   "metadata": {},
   "outputs": [
    {
     "name": "stdout",
     "output_type": "stream",
     "text": [
      "<xarray.DataArray 'Depth' (depth_surface: 33)>\n",
      "dask.array<shape=(33,), dtype=float64, chunksize=(33,)>\n",
      "Dimensions without coordinates: depth_surface\n",
      "Attributes:\n",
      "    units:     m\n",
      "    positive:  down \n",
      "\n",
      "250.0 \n",
      "\n",
      "[   0.   10.   20.   30.   50.   75.  100.  125.  150.  200.  250.  300.\n",
      "  400.  500.  600.  700.  800.  900. 1000. 1100. 1200. 1300. 1400. 1500.\n",
      " 1750. 2000. 2500. 3000. 3500. 4000. 4500. 5000. 5500.]\n"
     ]
    }
   ],
   "source": [
    "# Optional\n",
    "#\n",
    "# From Dataset to Dataarray... looking at 'Depth'. How many values? 33. How do we get at them? .values\n",
    "\n",
    "print (dsTemp['Depth'], '\\n')\n",
    "print (dsTemp['Depth'].values[10], '\\n')\n",
    "print (dsTemp['Depth'].values)"
   ]
  },
  {
   "cell_type": "markdown",
   "metadata": {},
   "source": [
    "### Using *nearest* to interrogate at a particular location\n",
    "\n",
    "\n",
    "We have three glodap datasets, each indices depth, lat and lon. \n",
    "We would like to compare this with data from the water column at the \n",
    "[Oregon Slope Base site in the OOI cabled array](https://interactiveoceans.washington.edu/story/_Slope_Base_Study_Site_PN1A).\n",
    "The location is 44.6, -125.4 and the water depth is 2900 meters. Let's begin with oxygen; here are some notes...\n",
    "\n",
    "\n",
    "#### xarray as an extension of pandas: some notes on indexing, operations, dimension names and coordinate indices \n",
    "\n",
    "- Apply operations like summing: Over dimensions by name: ```x.sum('time')```\n",
    "- Select values by label instead of integer location: ```x.loc['2014-01-01']``` or ```x.sel(time='2014-01-01')```\n",
    "- Mathematical operations (```x - y```) vectorize across multiple dimensions\n",
    "  - This is called array broadcasting based on dimension names, not shape.\n",
    "- **groupby** facilitates compression along a dimension: ```x.groupby('time.dayofyear').mean()```\n",
    "- **align** for database-like alignment that smoothly handles missing values: ```x, y = xr.align(x, y, join='outer')```\n",
    "- **x.attrs** to track arbitrary metadata as a Python dictionary\n",
    "- **pandas** provides many of these features...\n",
    "  - ...but it does not make use of dimension names and its core data structures are fixed dimensional arrays"
   ]
  },
  {
   "cell_type": "code",
   "execution_count": 18,
   "metadata": {},
   "outputs": [
    {
     "name": "stdout",
     "output_type": "stream",
     "text": [
      "[   0.   10.   20.   30.   50.   75.  100.  125.  150.  200.  250.  300.\n",
      "  400.  500.  600.  700.  800.  900. 1000. 1100. 1200. 1300. 1400. 1500.\n",
      " 1750. 2000. 2500. 3000. 3500. 4000. 4500. 5000. 5500.] \n",
      "\n",
      "[291.17086792 291.26589966 293.76156616 276.12368774 266.79745483\n",
      " 218.11901855 159.01295471 120.48143768 103.09960938  86.17150879\n",
      "  71.07210541  61.85839462  43.29917145  24.77500153  18.87969398\n",
      "  14.15302563   8.88457108  10.79192734  12.83892727  15.67266941\n",
      "  16.25053787  22.96707726  15.47725773  32.25301361  45.43762207\n",
      "  60.03238678  79.72219086          nan          nan          nan\n",
      "          nan          nan          nan]\n"
     ]
    },
    {
     "data": {
      "text/plain": [
       "Text(0,0.5,'DO (micro-mol kg-1)')"
      ]
     },
     "execution_count": 18,
     "metadata": {},
     "output_type": "execute_result"
    },
    {
     "data": {
      "image/png": "[encoded data removed]",
      "text/plain": [
       "<Figure size 648x360 with 1 Axes>"
      ]
     },
     "metadata": {},
     "output_type": "display_data"
    }
   ],
   "source": [
    "# Optional\n",
    "#\n",
    "# Prints depths and plots an oxygen profile: Nearest to a particular map location.\n",
    "# Notice the 'idiosyncrasy' of requiring a positive longitude; in fact a longitude in the allowed range of \n",
    "#   20.5+. This gives us the Pacific-centric map but it is rather arbitrary.\n",
    "#\n",
    "# OSB indicates the location given is for the Oregon Slope Base site. However (kilroy) this should properly\n",
    "#   be dredged up from a call to getCASites(), not hard-coded.\n",
    "#\n",
    "# We have the peculiar constraint of the longitude range of the data; so there is a little hardcoded += 360\n",
    "\n",
    "glodap_depths_list = dsO2['Depth'].values\n",
    "glodap_OSB_DO_list = dsO2.oxygen.sel(lat=44.6, lon=-125.4 + 360., method = 'nearest').values\n",
    "\n",
    "print(glodap_depths_list, '\\n')\n",
    "print(glodap_OSB_DO_list)\n",
    "plt.figure(figsize=(9,5))\n",
    "plt.plot(glodap_depths_list, glodap_OSB_DO_list)\n",
    "plt.title('Dissolved Oxygen versus Depth at (lat 44.6, lon -125.4)')\n",
    "plt.xlabel('ocean depth (meters)')\n",
    "plt.ylabel('DO (micro-mol kg-1)')\n",
    "# observe that the final 6 depths are too deep for this location\n",
    "# This chart is created again below...\n"
   ]
  },
  {
   "cell_type": "markdown",
   "metadata": {},
   "source": [
    "Observe that the glodap 'snapshot' has an increase in dissolved oxygen below a minimum at around 800 meters. The\n",
    "juke at 1400 meters we could only speculate.\n",
    "\n",
    "Since ARGO drifters go from 2000 meters to the surface in their profiles this is a good opportunity for comparison.\n",
    "\n",
    "\n",
    "### Transect south to north, Pacific ocean\n",
    "\n",
    "The maps above ('depth level' selectors) suggest more questions. For example water gets colder\n",
    "at depth; but this profile will vary with latitude. So: Let's chart temperature against latitude for a fixed depth\n",
    "which again is attached to a selector."
   ]
  },
  {
   "cell_type": "code",
   "execution_count": 19,
   "metadata": {},
   "outputs": [
    {
     "data": {
      "application/vnd.jupyter.widget-view+json": {
       "model_id": "9677bf7d280246d3a7731807c8de148b",
       "version_major": 2,
       "version_minor": 0
      },
      "text/plain": [
       "interactive(children=(IntSlider(value=0, continuous_update=False, description='depth', max=32), Output()), _do…"
      ]
     },
     "metadata": {},
     "output_type": "display_data"
    },
    {
     "data": {
      "text/plain": [
       "<function __main__.plotTemperatureTransect>"
      ]
     },
     "execution_count": 19,
     "metadata": {},
     "output_type": "execute_result"
    }
   ],
   "source": [
    "# Optional\n",
    "#\n",
    "# This cell makes a (simple) transect plot with a slider to choose the depth value\n",
    "\n",
    "def plotTemperatureTransect(depth):\n",
    "    minLat =  -60.\n",
    "    maxLat =   60.\n",
    "    deltaLat =  0.5\n",
    "    nLats = int((maxLat - minLat)/deltaLat) + 1\n",
    "    minLon, maxLon = 215., 214.        # corresponds to east-central Pacific\n",
    "    deltaLon = (maxLon - minLon)/(float(nLats) - 1.)   # granted the earth is a sphere so this is non-linear\n",
    "    tempList = []\n",
    "    latList = []\n",
    "    \n",
    "    for iLat in range(nLats):\n",
    "        thisLat = minLat + float(iLat)*deltaLat\n",
    "        thisLon = minLon + float(iLat)*deltaLon\n",
    "        thisDepth = str(dsTemp['Depth'].values[depth])\n",
    "        # print(thisLat, thisLon, dsTemp['Depth'].values[depth])\n",
    "        \n",
    "        tempList.append(dsTemp.temperature.sel(lat=thisLat, lon=thisLon, method = 'nearest').values[depth])\n",
    "        latList.append(thisLat)\n",
    "        \n",
    "        # This print statement shows how 'nearest' maps the transect coordinates to glodap dataset coordinates correctly\n",
    "        #   It also shows a certain amount of degeneracy in the data structure\n",
    "        # print(thisLat, thisLon, \\\n",
    "        #       dsTemp.temperature.sel(lat=thisLat, lon=thisLon, method = 'nearest').lat.lat.values,\n",
    "        #       dsTemp.temperature.sel(lat=thisLat, lon=thisLon, method = 'nearest').lat.lon.values,\n",
    "        #       dsTemp.temperature.sel(lat=thisLat, lon=thisLon, method = 'nearest').lon.lat.values,\n",
    "        #       dsTemp.temperature.sel(lat=thisLat, lon=thisLon, method = 'nearest').lon.lon.values)\n",
    "\n",
    "    figDim = 8\n",
    "    fig, ax = plt.subplots(figsize=(figDim,figDim))\n",
    "    ax.set_ylabel('temp (deg C)')\n",
    "    ax.set_xlabel('latitude (deg)', color='black')\n",
    "    ax.plot(latList, tempList, '-o', lw=2., ms=3.0, color='black', mec='red', mfc='red')  \n",
    "    ax.text(0.8, 0.8, 'depth ' + str(thisDepth), ha='center', va='center', transform=ax.transAxes, fontsize='14')\n",
    "    \n",
    "    # auto-reset the axes each time...\n",
    "    # ax.set_ylim([min(tempList), max(tempList)])\n",
    "    # ax.set_xlim([min(latList), max(latList)])\n",
    "    # ...versus fixed axes to facilitate comparison at different depths\n",
    "    ax.set_ylim(0., 30.)\n",
    "    ax.set_xlim(-60., 60.)\n",
    "\n",
    "    # m = Map(center=(45.5, -127.5), zoom=7, layout=Layout(width='100%', height='900px'))\n",
    "    # wms = WMSLayer(url=\"http://gmrt.marine-geo.org/cgi-bin/mapserv?map=/public/mgg/web/gmrt.marine-geo.org/htdocs/services/map/wms_merc.map\", layers='topo')\n",
    "    # m.add_layer(wms)\n",
    "    # m\n",
    "\n",
    "interact(plotTemperatureTransect, depth=widgets.IntSlider(min=0,max=32,step=1,value=0, continuous_update=False))   "
   ]
  },
  {
   "cell_type": "code",
   "execution_count": 20,
   "metadata": {},
   "outputs": [
    {
     "data": {
      "image/png": "[encoded data removed]",
      "text/plain": [
       "<Figure size 576x576 with 1 Axes>"
      ]
     },
     "metadata": {},
     "output_type": "display_data"
    }
   ],
   "source": [
    "# Optional\n",
    "#\n",
    "# Tince T(d) is monotonic with depth why not just stack them all?\n",
    "# The results here take about a minute to render -- rather slow -- \n",
    "\n",
    "minLat =  -60.\n",
    "maxLat =   60.\n",
    "deltaLat =  0.5\n",
    "nLats = int((maxLat - minLat)/deltaLat) + 1\n",
    "minLon, maxLon = 215., 214.        # corresponds to east-central Pacific\n",
    "deltaLon = (maxLon - minLon)/(float(nLats) - 1.)   # granted the earth is a sphere so this is non-linear\n",
    "figDim = 8\n",
    "fig, ax = plt.subplots(figsize=(figDim,figDim))\n",
    "ax.set_ylabel('temp (deg C)')\n",
    "ax.set_xlabel('latitude (deg)', color='black')\n",
    "ax.set_ylim(0., 30.)\n",
    "ax.set_xlim(-60., 60.)\n",
    "\n",
    "for d in range(33):\n",
    "    tempList = []\n",
    "    latList = []\n",
    "    \n",
    "    for iLat in range(nLats):\n",
    "        thisLat = minLat + float(iLat)*deltaLat\n",
    "        thisLon = minLon + float(iLat)*deltaLon\n",
    "        thisDepth = str(dsTemp['Depth'].values[d])        \n",
    "        tempList.append(dsTemp.temperature.sel(lat=thisLat, lon=thisLon, method = 'nearest').values[d])\n",
    "        latList.append(thisLat)\n",
    "\n",
    "    ax.plot(latList, tempList, '-o', lw=2., ms=2.0, color='black', mec='red', mfc='red')  "
   ]
  },
  {
   "cell_type": "markdown",
   "metadata": {},
   "source": [
    "### vertical profile"
   ]
  },
  {
   "cell_type": "code",
   "execution_count": 21,
   "metadata": {},
   "outputs": [
    {
     "name": "stdout",
     "output_type": "stream",
     "text": [
      "<xarray.DataArray 'dissolved_oxygen' (obs: 6547467)>\n",
      "dask.array<shape=(6547467,), dtype=float64, chunksize=(6547467,)>\n",
      "Coordinates:\n",
      "  * obs                (obs) int32 0 1 2 3 4 5 6 7 8 9 10 11 12 13 14 15 16 ...\n",
      "    time               (obs) datetime64[ns] dask.array<shape=(6547467,), chunksize=(6547467,)>\n",
      "    seawater_pressure  (obs) float64 dask.array<shape=(6547467,), chunksize=(6547467,)>\n",
      "    lat                (obs) float64 dask.array<shape=(6547467,), chunksize=(6547467,)>\n",
      "    lon                (obs) float64 dask.array<shape=(6547467,), chunksize=(6547467,)>\n",
      "Attributes:\n",
      "    comment:                  Dissolved Oxygen Concentration from the Stable ...\n",
      "    long_name:                DO - Pressure Temp Sal Corrected\n",
      "    precision:                4\n",
      "    data_product_identifier:  DOXYGEN_L2\n",
      "    standard_name:            moles_of_oxygen_per_unit_mass_in_sea_water\n",
      "    units:                    µmol kg-1\n",
      "    ancillary_variables:      ctd_tc_oxygen,practical_salinity,pressure,tempe...\n",
      "2016-11-01T00:00:00.893467648 2017-02-22T23:59:59.707128320 6547467\n"
     ]
    }
   ],
   "source": [
    "import matplotlib.colors as colors\n",
    "osb   = xr.open_mfdataset('/home/jovyan/data/ooi/osb01.nc')\n",
    "# print(osb)\n",
    "print(osb.dissolved_oxygen)\n",
    "print(osb.time[0].values, osb.time[-1].values, len(osb.time))"
   ]
  },
  {
   "cell_type": "code",
   "execution_count": 22,
   "metadata": {},
   "outputs": [
    {
     "data": {
      "text/plain": [
       "[<matplotlib.lines.Line2D at 0x7fc40c28f400>]"
      ]
     },
     "execution_count": 22,
     "metadata": {},
     "output_type": "execute_result"
    },
    {
     "data": {
      "image/png": "[encoded data removed]",
      "text/plain": [
       "<Figure size 864x864 with 1 Axes>"
      ]
     },
     "metadata": {},
     "output_type": "display_data"
    }
   ],
   "source": [
    "# Oregon Slope Base (OSB) either a stuck SCIP or the platform for the SCIP (more likely)\n",
    "# print(3*'\\n')\n",
    "# print(osb.dissolved_oxygen.units)    # behold: also micro-moles per kilogram\n",
    "# plt.plot(osb.dissolved_oxygen)\n",
    "osbDO = osb.dissolved_oxygen.values\n",
    "osbTime = osb.time.values\n",
    "osbPressure = osb.seawater_pressure\n",
    "figDim = 12\n",
    "fig, ax = plt.subplots(figsize=(figDim,figDim))\n",
    "ax.set_xlabel('depth (m)', color='black')\n",
    "ax.set_ylabel('DO (micro-mol / kg)')\n",
    "ax.set_xlim(192, 202)\n",
    "ax.set_ylim(235, 251)\n",
    "ax.plot(osbPressure, osbDO)\n",
    "\n",
    "# many data points here, the larger this number, cuts down plotting time\n",
    "# plotting every (step)-th point\n",
    "# step = 10\n",
    "# fig = plt.figure(figsize=(16,5))\n",
    "# array slicing sugar: arr[start:stop:step]\n",
    "# s = plt.scatter(nc.num2date(frame.index[::step], \"seconds since 1900-01-01\"), # x\n",
    "#             frame[\"seawater_pressure\"][::step], # y\n",
    "#             s=10, # thickness\n",
    "#             c=frame[\"corrected_dissolved_oxygen\"][::step], # color map\n",
    "#             cmap=plt.get_cmap(\"BuPu\")) # color style, see others in matplotlib docs\n",
    "# invert y to show more intuitive perspective\n",
    "# Remember! Pressure is a proxy for depth!\n",
    "# plt.gca().invert_yaxis()\n",
    "# plt.ylabel(\"Pressure\")\n",
    "# plt.xlabel(\"Sample Number\")\n",
    "# cb = plt.colorbar(s)\n",
    "# cb.set_label(\"Dissolved Oxygen (umol/L)\")"
   ]
  },
  {
   "cell_type": "code",
   "execution_count": 26,
   "metadata": {},
   "outputs": [],
   "source": [
    "def GetRCOSite(i):\n",
    "    CASites = getCASites()\n",
    "    return CASites[i]\n",
    "\n",
    "def GetRCOSites():\n",
    "    eoLat, eoLon, eoDep          = 44. + 22./60. + 10./3600., -(124. + 57./60. + 15./3600.),  582.\n",
    "    osbLat, osbLon, osbDep       = 44. + 30./60. + 55./3600., -(125. + 23./60. + 23./3600.), 2906.\n",
    "    shrLat, shrLon, shrDep       = 44. + 34./60. +  9./3600., -(125  +  8./60. + 53./3600.),  778.\n",
    "    axbLat, axbLon, axbDep       = 45. + 49./60. +  5./3600., -(129. + 45./60. + 13./3600.), 2605.\n",
    "    ashesLat, ashesLon, ashesDep = 45. + 56./60. +  1./3600., -(130. +  0./60. + 50./3600.), 1543.\n",
    "    axcLat, axcLon, axcDep       = 45. + 57./60. + 17./3600., -(130. +  0./60. + 32./3600.), 1528.\n",
    "    axeLat, axeLon, axeDep       = 45. + 56./60. + 23./3600., -(129. + 58./60. + 27./3600.), 1516.\n",
    "    axiLat, axiLon, axiDep       = 45. + 53./60. + 35./3600., -(129. + 58./60. + 44./3600.), 1520.\n",
    "    CASites = [('Endurance Offshore',                eoLat,    eoLon,    eoDep, 'Endurance Offshore'),\n",
    "               ('Oregon Slope Base',                osbLat,   osbLon,   osbDep, 'Oregon Slope Base'),\n",
    "               ('Southern Hydrate Ridge',           shrLat,   shrLon,   shrDep, 'Southern Hydrate Ridge'),\n",
    "               ('Axial Base',                       axbLat,   axbLon,   axbDep, 'Axial Base'),\n",
    "               ('Axial ASHES Vent Field',         ashesLat, ashesLon, ashesDep, 'Inferno vent'),\n",
    "               ('Axial Caldera Center',             axcLat,   axcLon,   axcDep, 'Axial Caldera Center'),\n",
    "               ('Axial Caldera East',               axeLat,   axeLon,   axeDep, 'Axial Caldera East'),\n",
    "               ('Axial International Vent Field',   axiLat,   axiLon,   axiDep, 'Axial International Vent Field')\n",
    "              ]\n",
    "    return RCOSites"
   ]
  },
  {
   "cell_type": "code",
   "execution_count": 27,
   "metadata": {},
   "outputs": [
    {
     "data": {
      "application/vnd.jupyter.widget-view+json": {
       "model_id": "006c9358abc24e81802036d8a2929262",
       "version_major": 2,
       "version_minor": 0
      },
      "text/plain": [
       "interactive(children=(Dropdown(description='location_choice', options={'GLODAP: Endurance Offshore': 0, 'GLODA…"
      ]
     },
     "metadata": {},
     "output_type": "display_data"
    },
    {
     "data": {
      "text/plain": [
       "<function __main__.PlotGlodapProfileAtCabledArraySite>"
      ]
     },
     "execution_count": 27,
     "metadata": {},
     "output_type": "execute_result"
    }
   ],
   "source": [
    "# Optional\n",
    "#\n",
    "# Show glodap profiles at a chosen OOI Cabled Array location\n",
    "# Please notice that the depth range is taken from the cabled array ephemeris, not from glodap\n",
    "#   This is because glodap's depth estimate is some sort of average and tends to be shallower\n",
    "\n",
    "\n",
    "def PlotGlodapProfileAtCabledArraySite(location_choice, data_type_choice):\n",
    "    \n",
    "    site = GetRCOSite(location_choice)\n",
    "    title = 'GLODAP data near ' + site[0]\n",
    "    \n",
    "    # This commented-out code is specific to Oregon Slope Base site: Showing where it is, how deep\n",
    "    # siteOSB = kilroy.getCASite(1)\n",
    "    # osbLat = siteOSB[1]\n",
    "    # osbLon = siteOSB[2] + 360.    # to place longitude in the 'familiar' range of the glodap Dataset\n",
    "    # obsDep = siteOSB[3]\n",
    "    # print('  ...btw the Oregon slope base site is at', round(osbLat, 2), \n",
    "    #       ',', round(osbLon, 2), '(the depth is', round(obsDep, 0), ')')\n",
    "\n",
    "    if data_type_choice == 0:\n",
    "        gloZ, gloD = dsO2['Depth'].values, dsO2.oxygen.sel(lat=site[1], lon=site[2]+360., method='nearest').values\n",
    "        dataMin, dataMax = 0., 350.\n",
    "    elif data_type_choice == 1: \n",
    "        gloZ, gloD = dsTemp['Depth'].values, dsTemp.temperature.sel(lat=site[1], lon=site[2]+360., method='nearest').values\n",
    "        dataMin, dataMax = 0., 16.\n",
    "    else:\n",
    "        gloZ, gloD = dsSal['Depth'].values, dsSal.salinity.sel(lat=site[1], lon=site[2]+360., method='nearest').values\n",
    "        dataMin, dataMax = 29., 35.\n",
    "\n",
    "    # print(len(gloD), len(gloZ), gloD, gloZ)\n",
    "    figDim = 8\n",
    "    fig, ax = plt.subplots(figsize=(figDim,figDim))\n",
    "\n",
    "    depthMin, depthMax = 0., site[3]\n",
    "    ax.set_xlim(depthMin, depthMax)\n",
    "    ax.set_ylim(dataMin, dataMax)\n",
    "    ax.text(0.4, 0.9, title, ha='center', va='center', transform=ax.transAxes, fontsize='14')\n",
    "    ax.text(0.4, 0.85, 'lat ' + str(round(site[1],2)) + ', lon ' + str(round(site[2], 2)), \n",
    "            ha='center', va='center', transform=ax.transAxes, fontsize='14')\n",
    "    # make clear the x-axis\n",
    "    ax.set_xlabel('depth (meters)')\n",
    "    # BEHOLD!!! We are cashing in our Excellent Skills on *units* of the DO\n",
    "    ax.set_ylabel(dsO2.oxygen.units)    \n",
    "    ax.plot(gloZ, gloD, marker = 'o', markersize = 4, markerfacecolor = 'k', color = 'r', linewidth = 2)\n",
    "    \n",
    "    # if location_choice == 1:\n",
    "        # Hurray: Oregon Slope Base chosen; we have time-series data for the top 200 meters...\n",
    "        # osb   = xr.open_mfdataset('')\n",
    "        \n",
    "\n",
    "# I'm afraid the indexing here is hardcoded to correspond to the 'kilroy.py' functions\n",
    "interact(PlotGlodapProfileAtCabledArraySite, \n",
    "            location_choice={'GLODAP: Endurance Offshore':             0, \\\n",
    "                             'GLODAP: Oregon Slope Base':              1, \\\n",
    "                             'GLODAP: Southern Hydrate Ridge':         2, \\\n",
    "                             'GLODAP: Axial Base':                     3, \\\n",
    "                             'GLODAP: Axial ASHES Vent Field':         4, \\\n",
    "                             'GLODAP: Axial Caldera Center':           5, \\\n",
    "                             'GLODAP: Axial Caldera East':             6, \\\n",
    "                             'GLODAP: Axial International Vent Field': 7  \\\n",
    "                            }, \n",
    "            data_type_choice={'dissolved oxygen': 0, 'temperature': 1, 'salinity': 2 })"
   ]
  },
  {
   "cell_type": "code",
   "execution_count": null,
   "metadata": {},
   "outputs": [],
   "source": []
  }
 ],
 "metadata": {
  "kernelspec": {
   "display_name": "Python [default]",
   "language": "python",
   "name": "python3"
  },
  "language_info": {
   "codemirror_mode": {
    "name": "ipython",
    "version": 3
   },
   "file_extension": ".py",
   "mimetype": "text/x-python",
   "name": "python",
   "nbconvert_exporter": "python",
   "pygments_lexer": "ipython3",
   "version": "3.6.6"
  }
 },
 "nbformat": 4,
 "nbformat_minor": 2
}
